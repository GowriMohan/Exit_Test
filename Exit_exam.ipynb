{
  "cells": [
    {
      "cell_type": "markdown",
      "id": "d317c4eb",
      "metadata": {
        "id": "d317c4eb"
      },
      "source": [
        "## Sentiment Analysis on Movie Reviews"
      ]
    },
    {
      "cell_type": "markdown",
      "id": "4bae1a22",
      "metadata": {
        "id": "4bae1a22"
      },
      "source": [
        "The sentiment of reviews is binary, meaning the rating < 5 results in a sentiment score of 0, and rating >=7 have a sentiment score of 1.\n",
        "No individual movie has more than 30 reviews.\n",
        "\n",
        "##### Data fields\n",
        "- id - Unique ID of each review\n",
        "- sentiment - Sentiment of the review; 1 for positive reviews and 0 for negative reviews\n",
        "- review - Text of the revie"
      ]
    },
    {
      "cell_type": "markdown",
      "id": "ffe8dc87",
      "metadata": {
        "id": "ffe8dc87"
      },
      "source": [
        "### Problem Statement:\n",
        "\n",
        "Build a sentiment analysis model to classify movie reviews as positive or negative based on the text content. Utilize techniques such as word embeddings, word to vec, Bag of words etc.\n",
        "\n",
        "To accomplish this, you need to follow the below steps:\n",
        "-  Data Preprocessing:\n",
        "- Feature Extraction:\n",
        "- Model Building and Evaluation:\n",
        "- Evaluate the model's performance"
      ]
    },
    {
      "cell_type": "code",
      "execution_count": 18,
      "id": "544ded82",
      "metadata": {
        "id": "544ded82"
      },
      "outputs": [],
      "source": [
        "# importing neccessary libraries\n",
        "\n",
        "import numpy as np\n",
        "import pandas as pd\n",
        "import re\n",
        "import nltk\n",
        "import spacy\n",
        "import string\n",
        "\n",
        "from nltk.corpus import stopwords\n",
        "from nltk.tokenize import word_tokenize\n",
        "from nltk.stem import WordNetLemmatizer\n",
        "\n",
        "from sklearn.feature_extraction.text import CountVectorizer\n",
        "from sklearn.feature_extraction.text import TfidfVectorizer"
      ]
    },
    {
      "cell_type": "code",
      "execution_count": 2,
      "id": "3a7a53fc",
      "metadata": {
        "colab": {
          "base_uri": "https://localhost:8080/",
          "height": 206
        },
        "id": "3a7a53fc",
        "outputId": "bc7c2e18-4bbb-4792-a144-8de375e11079"
      },
      "outputs": [
        {
          "output_type": "execute_result",
          "data": {
            "text/plain": [
              "       id  sentiment                                             review\n",
              "0  5814_8          1  With all this stuff going down at the moment w...\n",
              "1  2381_9          1  \\The Classic War of the Worlds\\\" by Timothy Hi...\n",
              "2  7759_3          0  The film starts with a manager (Nicholas Bell)...\n",
              "3  3630_4          0  It must be assumed that those who praised this...\n",
              "4  9495_8          1  Superbly trashy and wondrously unpretentious 8..."
            ],
            "text/html": [
              "\n",
              "\n",
              "  <div id=\"df-427f9929-6ba3-4cbc-9bdc-ffed79b43f5d\">\n",
              "    <div class=\"colab-df-container\">\n",
              "      <div>\n",
              "<style scoped>\n",
              "    .dataframe tbody tr th:only-of-type {\n",
              "        vertical-align: middle;\n",
              "    }\n",
              "\n",
              "    .dataframe tbody tr th {\n",
              "        vertical-align: top;\n",
              "    }\n",
              "\n",
              "    .dataframe thead th {\n",
              "        text-align: right;\n",
              "    }\n",
              "</style>\n",
              "<table border=\"1\" class=\"dataframe\">\n",
              "  <thead>\n",
              "    <tr style=\"text-align: right;\">\n",
              "      <th></th>\n",
              "      <th>id</th>\n",
              "      <th>sentiment</th>\n",
              "      <th>review</th>\n",
              "    </tr>\n",
              "  </thead>\n",
              "  <tbody>\n",
              "    <tr>\n",
              "      <th>0</th>\n",
              "      <td>5814_8</td>\n",
              "      <td>1</td>\n",
              "      <td>With all this stuff going down at the moment w...</td>\n",
              "    </tr>\n",
              "    <tr>\n",
              "      <th>1</th>\n",
              "      <td>2381_9</td>\n",
              "      <td>1</td>\n",
              "      <td>\\The Classic War of the Worlds\\\" by Timothy Hi...</td>\n",
              "    </tr>\n",
              "    <tr>\n",
              "      <th>2</th>\n",
              "      <td>7759_3</td>\n",
              "      <td>0</td>\n",
              "      <td>The film starts with a manager (Nicholas Bell)...</td>\n",
              "    </tr>\n",
              "    <tr>\n",
              "      <th>3</th>\n",
              "      <td>3630_4</td>\n",
              "      <td>0</td>\n",
              "      <td>It must be assumed that those who praised this...</td>\n",
              "    </tr>\n",
              "    <tr>\n",
              "      <th>4</th>\n",
              "      <td>9495_8</td>\n",
              "      <td>1</td>\n",
              "      <td>Superbly trashy and wondrously unpretentious 8...</td>\n",
              "    </tr>\n",
              "  </tbody>\n",
              "</table>\n",
              "</div>\n",
              "      <button class=\"colab-df-convert\" onclick=\"convertToInteractive('df-427f9929-6ba3-4cbc-9bdc-ffed79b43f5d')\"\n",
              "              title=\"Convert this dataframe to an interactive table.\"\n",
              "              style=\"display:none;\">\n",
              "\n",
              "  <svg xmlns=\"http://www.w3.org/2000/svg\" height=\"24px\"viewBox=\"0 0 24 24\"\n",
              "       width=\"24px\">\n",
              "    <path d=\"M0 0h24v24H0V0z\" fill=\"none\"/>\n",
              "    <path d=\"M18.56 5.44l.94 2.06.94-2.06 2.06-.94-2.06-.94-.94-2.06-.94 2.06-2.06.94zm-11 1L8.5 8.5l.94-2.06 2.06-.94-2.06-.94L8.5 2.5l-.94 2.06-2.06.94zm10 10l.94 2.06.94-2.06 2.06-.94-2.06-.94-.94-2.06-.94 2.06-2.06.94z\"/><path d=\"M17.41 7.96l-1.37-1.37c-.4-.4-.92-.59-1.43-.59-.52 0-1.04.2-1.43.59L10.3 9.45l-7.72 7.72c-.78.78-.78 2.05 0 2.83L4 21.41c.39.39.9.59 1.41.59.51 0 1.02-.2 1.41-.59l7.78-7.78 2.81-2.81c.8-.78.8-2.07 0-2.86zM5.41 20L4 18.59l7.72-7.72 1.47 1.35L5.41 20z\"/>\n",
              "  </svg>\n",
              "      </button>\n",
              "\n",
              "\n",
              "\n",
              "    <div id=\"df-3d40f7b4-e6da-47d3-837c-adb33243dd2c\">\n",
              "      <button class=\"colab-df-quickchart\" onclick=\"quickchart('df-3d40f7b4-e6da-47d3-837c-adb33243dd2c')\"\n",
              "              title=\"Suggest charts.\"\n",
              "              style=\"display:none;\">\n",
              "\n",
              "<svg xmlns=\"http://www.w3.org/2000/svg\" height=\"24px\"viewBox=\"0 0 24 24\"\n",
              "     width=\"24px\">\n",
              "    <g>\n",
              "        <path d=\"M19 3H5c-1.1 0-2 .9-2 2v14c0 1.1.9 2 2 2h14c1.1 0 2-.9 2-2V5c0-1.1-.9-2-2-2zM9 17H7v-7h2v7zm4 0h-2V7h2v10zm4 0h-2v-4h2v4z\"/>\n",
              "    </g>\n",
              "</svg>\n",
              "      </button>\n",
              "    </div>\n",
              "\n",
              "<style>\n",
              "  .colab-df-quickchart {\n",
              "    background-color: #E8F0FE;\n",
              "    border: none;\n",
              "    border-radius: 50%;\n",
              "    cursor: pointer;\n",
              "    display: none;\n",
              "    fill: #1967D2;\n",
              "    height: 32px;\n",
              "    padding: 0 0 0 0;\n",
              "    width: 32px;\n",
              "  }\n",
              "\n",
              "  .colab-df-quickchart:hover {\n",
              "    background-color: #E2EBFA;\n",
              "    box-shadow: 0px 1px 2px rgba(60, 64, 67, 0.3), 0px 1px 3px 1px rgba(60, 64, 67, 0.15);\n",
              "    fill: #174EA6;\n",
              "  }\n",
              "\n",
              "  [theme=dark] .colab-df-quickchart {\n",
              "    background-color: #3B4455;\n",
              "    fill: #D2E3FC;\n",
              "  }\n",
              "\n",
              "  [theme=dark] .colab-df-quickchart:hover {\n",
              "    background-color: #434B5C;\n",
              "    box-shadow: 0px 1px 3px 1px rgba(0, 0, 0, 0.15);\n",
              "    filter: drop-shadow(0px 1px 2px rgba(0, 0, 0, 0.3));\n",
              "    fill: #FFFFFF;\n",
              "  }\n",
              "</style>\n",
              "\n",
              "    <script>\n",
              "      async function quickchart(key) {\n",
              "        const containerElement = document.querySelector('#' + key);\n",
              "        const charts = await google.colab.kernel.invokeFunction(\n",
              "            'suggestCharts', [key], {});\n",
              "      }\n",
              "    </script>\n",
              "\n",
              "      <script>\n",
              "\n",
              "function displayQuickchartButton(domScope) {\n",
              "  let quickchartButtonEl =\n",
              "    domScope.querySelector('#df-3d40f7b4-e6da-47d3-837c-adb33243dd2c button.colab-df-quickchart');\n",
              "  quickchartButtonEl.style.display =\n",
              "    google.colab.kernel.accessAllowed ? 'block' : 'none';\n",
              "}\n",
              "\n",
              "        displayQuickchartButton(document);\n",
              "      </script>\n",
              "      <style>\n",
              "    .colab-df-container {\n",
              "      display:flex;\n",
              "      flex-wrap:wrap;\n",
              "      gap: 12px;\n",
              "    }\n",
              "\n",
              "    .colab-df-convert {\n",
              "      background-color: #E8F0FE;\n",
              "      border: none;\n",
              "      border-radius: 50%;\n",
              "      cursor: pointer;\n",
              "      display: none;\n",
              "      fill: #1967D2;\n",
              "      height: 32px;\n",
              "      padding: 0 0 0 0;\n",
              "      width: 32px;\n",
              "    }\n",
              "\n",
              "    .colab-df-convert:hover {\n",
              "      background-color: #E2EBFA;\n",
              "      box-shadow: 0px 1px 2px rgba(60, 64, 67, 0.3), 0px 1px 3px 1px rgba(60, 64, 67, 0.15);\n",
              "      fill: #174EA6;\n",
              "    }\n",
              "\n",
              "    [theme=dark] .colab-df-convert {\n",
              "      background-color: #3B4455;\n",
              "      fill: #D2E3FC;\n",
              "    }\n",
              "\n",
              "    [theme=dark] .colab-df-convert:hover {\n",
              "      background-color: #434B5C;\n",
              "      box-shadow: 0px 1px 3px 1px rgba(0, 0, 0, 0.15);\n",
              "      filter: drop-shadow(0px 1px 2px rgba(0, 0, 0, 0.3));\n",
              "      fill: #FFFFFF;\n",
              "    }\n",
              "  </style>\n",
              "\n",
              "      <script>\n",
              "        const buttonEl =\n",
              "          document.querySelector('#df-427f9929-6ba3-4cbc-9bdc-ffed79b43f5d button.colab-df-convert');\n",
              "        buttonEl.style.display =\n",
              "          google.colab.kernel.accessAllowed ? 'block' : 'none';\n",
              "\n",
              "        async function convertToInteractive(key) {\n",
              "          const element = document.querySelector('#df-427f9929-6ba3-4cbc-9bdc-ffed79b43f5d');\n",
              "          const dataTable =\n",
              "            await google.colab.kernel.invokeFunction('convertToInteractive',\n",
              "                                                     [key], {});\n",
              "          if (!dataTable) return;\n",
              "\n",
              "          const docLinkHtml = 'Like what you see? Visit the ' +\n",
              "            '<a target=\"_blank\" href=https://colab.research.google.com/notebooks/data_table.ipynb>data table notebook</a>'\n",
              "            + ' to learn more about interactive tables.';\n",
              "          element.innerHTML = '';\n",
              "          dataTable['output_type'] = 'display_data';\n",
              "          await google.colab.output.renderOutput(dataTable, element);\n",
              "          const docLink = document.createElement('div');\n",
              "          docLink.innerHTML = docLinkHtml;\n",
              "          element.appendChild(docLink);\n",
              "        }\n",
              "      </script>\n",
              "    </div>\n",
              "  </div>\n"
            ]
          },
          "metadata": {},
          "execution_count": 2
        }
      ],
      "source": [
        "# Reading the dataset\n",
        "data = pd.read_csv('labeledTrainData.tsv', delimiter='\\t')\n",
        "data.head()"
      ]
    },
    {
      "cell_type": "code",
      "execution_count": 3,
      "id": "44807563",
      "metadata": {
        "colab": {
          "base_uri": "https://localhost:8080/"
        },
        "id": "44807563",
        "outputId": "f7d8074f-2859-4ddf-f61f-5a3937889bcb"
      },
      "outputs": [
        {
          "output_type": "execute_result",
          "data": {
            "text/plain": [
              "(792, 3)"
            ]
          },
          "metadata": {},
          "execution_count": 3
        }
      ],
      "source": [
        "data.shape"
      ]
    },
    {
      "cell_type": "code",
      "execution_count": 4,
      "id": "2bb47f9c",
      "metadata": {
        "colab": {
          "base_uri": "https://localhost:8080/"
        },
        "id": "2bb47f9c",
        "outputId": "5bca81c8-8f9d-4c56-fffd-61801182ae27"
      },
      "outputs": [
        {
          "output_type": "execute_result",
          "data": {
            "text/plain": [
              "id           object\n",
              "sentiment     int64\n",
              "review       object\n",
              "dtype: object"
            ]
          },
          "metadata": {},
          "execution_count": 4
        }
      ],
      "source": [
        "data.dtypes"
      ]
    },
    {
      "cell_type": "code",
      "execution_count": 5,
      "id": "de1be4ea",
      "metadata": {
        "colab": {
          "base_uri": "https://localhost:8080/",
          "height": 300
        },
        "id": "de1be4ea",
        "outputId": "980c3d7e-ff21-4274-cb35-80cfb31f6a9a"
      },
      "outputs": [
        {
          "output_type": "execute_result",
          "data": {
            "text/plain": [
              "        sentiment\n",
              "count  792.000000\n",
              "mean     0.479798\n",
              "std      0.499907\n",
              "min      0.000000\n",
              "25%      0.000000\n",
              "50%      0.000000\n",
              "75%      1.000000\n",
              "max      1.000000"
            ],
            "text/html": [
              "\n",
              "\n",
              "  <div id=\"df-3cc1deb4-5108-4a5b-8ca2-b711cc436a8e\">\n",
              "    <div class=\"colab-df-container\">\n",
              "      <div>\n",
              "<style scoped>\n",
              "    .dataframe tbody tr th:only-of-type {\n",
              "        vertical-align: middle;\n",
              "    }\n",
              "\n",
              "    .dataframe tbody tr th {\n",
              "        vertical-align: top;\n",
              "    }\n",
              "\n",
              "    .dataframe thead th {\n",
              "        text-align: right;\n",
              "    }\n",
              "</style>\n",
              "<table border=\"1\" class=\"dataframe\">\n",
              "  <thead>\n",
              "    <tr style=\"text-align: right;\">\n",
              "      <th></th>\n",
              "      <th>sentiment</th>\n",
              "    </tr>\n",
              "  </thead>\n",
              "  <tbody>\n",
              "    <tr>\n",
              "      <th>count</th>\n",
              "      <td>792.000000</td>\n",
              "    </tr>\n",
              "    <tr>\n",
              "      <th>mean</th>\n",
              "      <td>0.479798</td>\n",
              "    </tr>\n",
              "    <tr>\n",
              "      <th>std</th>\n",
              "      <td>0.499907</td>\n",
              "    </tr>\n",
              "    <tr>\n",
              "      <th>min</th>\n",
              "      <td>0.000000</td>\n",
              "    </tr>\n",
              "    <tr>\n",
              "      <th>25%</th>\n",
              "      <td>0.000000</td>\n",
              "    </tr>\n",
              "    <tr>\n",
              "      <th>50%</th>\n",
              "      <td>0.000000</td>\n",
              "    </tr>\n",
              "    <tr>\n",
              "      <th>75%</th>\n",
              "      <td>1.000000</td>\n",
              "    </tr>\n",
              "    <tr>\n",
              "      <th>max</th>\n",
              "      <td>1.000000</td>\n",
              "    </tr>\n",
              "  </tbody>\n",
              "</table>\n",
              "</div>\n",
              "      <button class=\"colab-df-convert\" onclick=\"convertToInteractive('df-3cc1deb4-5108-4a5b-8ca2-b711cc436a8e')\"\n",
              "              title=\"Convert this dataframe to an interactive table.\"\n",
              "              style=\"display:none;\">\n",
              "\n",
              "  <svg xmlns=\"http://www.w3.org/2000/svg\" height=\"24px\"viewBox=\"0 0 24 24\"\n",
              "       width=\"24px\">\n",
              "    <path d=\"M0 0h24v24H0V0z\" fill=\"none\"/>\n",
              "    <path d=\"M18.56 5.44l.94 2.06.94-2.06 2.06-.94-2.06-.94-.94-2.06-.94 2.06-2.06.94zm-11 1L8.5 8.5l.94-2.06 2.06-.94-2.06-.94L8.5 2.5l-.94 2.06-2.06.94zm10 10l.94 2.06.94-2.06 2.06-.94-2.06-.94-.94-2.06-.94 2.06-2.06.94z\"/><path d=\"M17.41 7.96l-1.37-1.37c-.4-.4-.92-.59-1.43-.59-.52 0-1.04.2-1.43.59L10.3 9.45l-7.72 7.72c-.78.78-.78 2.05 0 2.83L4 21.41c.39.39.9.59 1.41.59.51 0 1.02-.2 1.41-.59l7.78-7.78 2.81-2.81c.8-.78.8-2.07 0-2.86zM5.41 20L4 18.59l7.72-7.72 1.47 1.35L5.41 20z\"/>\n",
              "  </svg>\n",
              "      </button>\n",
              "\n",
              "\n",
              "\n",
              "    <div id=\"df-b8e8c785-a3ec-42be-a04a-e8c208a312d5\">\n",
              "      <button class=\"colab-df-quickchart\" onclick=\"quickchart('df-b8e8c785-a3ec-42be-a04a-e8c208a312d5')\"\n",
              "              title=\"Suggest charts.\"\n",
              "              style=\"display:none;\">\n",
              "\n",
              "<svg xmlns=\"http://www.w3.org/2000/svg\" height=\"24px\"viewBox=\"0 0 24 24\"\n",
              "     width=\"24px\">\n",
              "    <g>\n",
              "        <path d=\"M19 3H5c-1.1 0-2 .9-2 2v14c0 1.1.9 2 2 2h14c1.1 0 2-.9 2-2V5c0-1.1-.9-2-2-2zM9 17H7v-7h2v7zm4 0h-2V7h2v10zm4 0h-2v-4h2v4z\"/>\n",
              "    </g>\n",
              "</svg>\n",
              "      </button>\n",
              "    </div>\n",
              "\n",
              "<style>\n",
              "  .colab-df-quickchart {\n",
              "    background-color: #E8F0FE;\n",
              "    border: none;\n",
              "    border-radius: 50%;\n",
              "    cursor: pointer;\n",
              "    display: none;\n",
              "    fill: #1967D2;\n",
              "    height: 32px;\n",
              "    padding: 0 0 0 0;\n",
              "    width: 32px;\n",
              "  }\n",
              "\n",
              "  .colab-df-quickchart:hover {\n",
              "    background-color: #E2EBFA;\n",
              "    box-shadow: 0px 1px 2px rgba(60, 64, 67, 0.3), 0px 1px 3px 1px rgba(60, 64, 67, 0.15);\n",
              "    fill: #174EA6;\n",
              "  }\n",
              "\n",
              "  [theme=dark] .colab-df-quickchart {\n",
              "    background-color: #3B4455;\n",
              "    fill: #D2E3FC;\n",
              "  }\n",
              "\n",
              "  [theme=dark] .colab-df-quickchart:hover {\n",
              "    background-color: #434B5C;\n",
              "    box-shadow: 0px 1px 3px 1px rgba(0, 0, 0, 0.15);\n",
              "    filter: drop-shadow(0px 1px 2px rgba(0, 0, 0, 0.3));\n",
              "    fill: #FFFFFF;\n",
              "  }\n",
              "</style>\n",
              "\n",
              "    <script>\n",
              "      async function quickchart(key) {\n",
              "        const containerElement = document.querySelector('#' + key);\n",
              "        const charts = await google.colab.kernel.invokeFunction(\n",
              "            'suggestCharts', [key], {});\n",
              "      }\n",
              "    </script>\n",
              "\n",
              "      <script>\n",
              "\n",
              "function displayQuickchartButton(domScope) {\n",
              "  let quickchartButtonEl =\n",
              "    domScope.querySelector('#df-b8e8c785-a3ec-42be-a04a-e8c208a312d5 button.colab-df-quickchart');\n",
              "  quickchartButtonEl.style.display =\n",
              "    google.colab.kernel.accessAllowed ? 'block' : 'none';\n",
              "}\n",
              "\n",
              "        displayQuickchartButton(document);\n",
              "      </script>\n",
              "      <style>\n",
              "    .colab-df-container {\n",
              "      display:flex;\n",
              "      flex-wrap:wrap;\n",
              "      gap: 12px;\n",
              "    }\n",
              "\n",
              "    .colab-df-convert {\n",
              "      background-color: #E8F0FE;\n",
              "      border: none;\n",
              "      border-radius: 50%;\n",
              "      cursor: pointer;\n",
              "      display: none;\n",
              "      fill: #1967D2;\n",
              "      height: 32px;\n",
              "      padding: 0 0 0 0;\n",
              "      width: 32px;\n",
              "    }\n",
              "\n",
              "    .colab-df-convert:hover {\n",
              "      background-color: #E2EBFA;\n",
              "      box-shadow: 0px 1px 2px rgba(60, 64, 67, 0.3), 0px 1px 3px 1px rgba(60, 64, 67, 0.15);\n",
              "      fill: #174EA6;\n",
              "    }\n",
              "\n",
              "    [theme=dark] .colab-df-convert {\n",
              "      background-color: #3B4455;\n",
              "      fill: #D2E3FC;\n",
              "    }\n",
              "\n",
              "    [theme=dark] .colab-df-convert:hover {\n",
              "      background-color: #434B5C;\n",
              "      box-shadow: 0px 1px 3px 1px rgba(0, 0, 0, 0.15);\n",
              "      filter: drop-shadow(0px 1px 2px rgba(0, 0, 0, 0.3));\n",
              "      fill: #FFFFFF;\n",
              "    }\n",
              "  </style>\n",
              "\n",
              "      <script>\n",
              "        const buttonEl =\n",
              "          document.querySelector('#df-3cc1deb4-5108-4a5b-8ca2-b711cc436a8e button.colab-df-convert');\n",
              "        buttonEl.style.display =\n",
              "          google.colab.kernel.accessAllowed ? 'block' : 'none';\n",
              "\n",
              "        async function convertToInteractive(key) {\n",
              "          const element = document.querySelector('#df-3cc1deb4-5108-4a5b-8ca2-b711cc436a8e');\n",
              "          const dataTable =\n",
              "            await google.colab.kernel.invokeFunction('convertToInteractive',\n",
              "                                                     [key], {});\n",
              "          if (!dataTable) return;\n",
              "\n",
              "          const docLinkHtml = 'Like what you see? Visit the ' +\n",
              "            '<a target=\"_blank\" href=https://colab.research.google.com/notebooks/data_table.ipynb>data table notebook</a>'\n",
              "            + ' to learn more about interactive tables.';\n",
              "          element.innerHTML = '';\n",
              "          dataTable['output_type'] = 'display_data';\n",
              "          await google.colab.output.renderOutput(dataTable, element);\n",
              "          const docLink = document.createElement('div');\n",
              "          docLink.innerHTML = docLinkHtml;\n",
              "          element.appendChild(docLink);\n",
              "        }\n",
              "      </script>\n",
              "    </div>\n",
              "  </div>\n"
            ]
          },
          "metadata": {},
          "execution_count": 5
        }
      ],
      "source": [
        "#Summary of the dataset\n",
        "data.describe()"
      ]
    },
    {
      "cell_type": "code",
      "execution_count": 6,
      "id": "9eccbc9b",
      "metadata": {
        "colab": {
          "base_uri": "https://localhost:8080/"
        },
        "id": "9eccbc9b",
        "outputId": "d5824f85-33f7-400b-aba4-e3e5d3e96dfb"
      },
      "outputs": [
        {
          "output_type": "execute_result",
          "data": {
            "text/plain": [
              "id           0\n",
              "sentiment    0\n",
              "review       0\n",
              "dtype: int64"
            ]
          },
          "metadata": {},
          "execution_count": 6
        }
      ],
      "source": [
        "# Checking for null values\n",
        "data.isna().sum()                                # No null values present"
      ]
    },
    {
      "cell_type": "code",
      "execution_count": 7,
      "id": "93037812",
      "metadata": {
        "colab": {
          "base_uri": "https://localhost:8080/",
          "height": 140
        },
        "id": "93037812",
        "outputId": "ed0c6875-1f9e-406f-8711-b9ec3913c04e"
      },
      "outputs": [
        {
          "output_type": "execute_result",
          "data": {
            "text/plain": [
              "'\\\\The Classic War of the Worlds\\\\\" by Timothy Hines is a very entertaining film that obviously goes to great effort and lengths to faithfully recreate H. G. Wells\\' classic book. Mr. Hines succeeds in doing so. I, and those who watched his film with me, appreciated the fact that it was not the standard, predictable Hollywood fare that comes out every year, e.g. the Spielberg version with Tom Cruise that had only the slightest resemblance to the book. Obviously, everyone looks for different things in a movie. Those who envision themselves as amateur \\\\\"critics\\\\\" look only to criticize everything they can. Others rate a movie on more important bases,like being entertained, which is why most people never agree with the \\\\\"critics\\\\\". We enjoyed the effort Mr. Hines put into being faithful to H.G. Wells\\' classic novel, and we found it to be very entertaining. This made it easy to overlook what the \\\\\"critics\\\\\" perceive to be its shortcomings.\"'"
            ],
            "application/vnd.google.colaboratory.intrinsic+json": {
              "type": "string"
            }
          },
          "metadata": {},
          "execution_count": 7
        }
      ],
      "source": [
        "data['review'][1]"
      ]
    },
    {
      "cell_type": "code",
      "execution_count": 8,
      "id": "66a3830d",
      "metadata": {
        "colab": {
          "base_uri": "https://localhost:8080/"
        },
        "id": "66a3830d",
        "outputId": "d1677339-0c5f-47e9-f0f4-4858d6d07438"
      },
      "outputs": [
        {
          "output_type": "execute_result",
          "data": {
            "text/plain": [
              "0    412\n",
              "1    380\n",
              "Name: sentiment, dtype: int64"
            ]
          },
          "metadata": {},
          "execution_count": 8
        }
      ],
      "source": [
        "#sentiment count\n",
        "data['sentiment'].value_counts()            # Dataset is Balanced"
      ]
    },
    {
      "cell_type": "code",
      "execution_count": 9,
      "id": "90ff8f93",
      "metadata": {
        "colab": {
          "base_uri": "https://localhost:8080/"
        },
        "id": "90ff8f93",
        "outputId": "354d33a5-8323-4836-fd1c-c70628af8148"
      },
      "outputs": [
        {
          "output_type": "execute_result",
          "data": {
            "text/plain": [
              "0"
            ]
          },
          "metadata": {},
          "execution_count": 9
        }
      ],
      "source": [
        "# Checking for duplicate values\n",
        "data.duplicated().sum()                    # No duplicate values present"
      ]
    },
    {
      "cell_type": "markdown",
      "id": "2bce2e17",
      "metadata": {
        "id": "2bce2e17"
      },
      "source": [
        "## Basic Preprocessing\n",
        "- Removing tags\n",
        "- lowercasing\n",
        "- removing punctuations\n",
        "- removing stopwords\n",
        "- lemmatization"
      ]
    },
    {
      "cell_type": "markdown",
      "id": "1d9b5e3f",
      "metadata": {
        "id": "1d9b5e3f"
      },
      "source": [
        "#### Removing HTML tags"
      ]
    },
    {
      "cell_type": "code",
      "execution_count": 10,
      "id": "d5b745d8",
      "metadata": {
        "id": "d5b745d8"
      },
      "outputs": [],
      "source": [
        "import re\n",
        "def remove_tags(raw_text):\n",
        "    cleaned_text = re.sub(re.compile('<.*?>'), '', raw_text)\n",
        "    return cleaned_text\n",
        "\n",
        "data['review'] = data['review'].apply(remove_tags)"
      ]
    },
    {
      "cell_type": "code",
      "execution_count": 11,
      "id": "56b4153f",
      "metadata": {
        "colab": {
          "base_uri": "https://localhost:8080/",
          "height": 140
        },
        "id": "56b4153f",
        "outputId": "3224818d-b87e-4fcd-cb67-b1c33b5d0f2c"
      },
      "outputs": [
        {
          "output_type": "execute_result",
          "data": {
            "text/plain": [
              "'\\\\The Classic War of the Worlds\\\\\" by Timothy Hines is a very entertaining film that obviously goes to great effort and lengths to faithfully recreate H. G. Wells\\' classic book. Mr. Hines succeeds in doing so. I, and those who watched his film with me, appreciated the fact that it was not the standard, predictable Hollywood fare that comes out every year, e.g. the Spielberg version with Tom Cruise that had only the slightest resemblance to the book. Obviously, everyone looks for different things in a movie. Those who envision themselves as amateur \\\\\"critics\\\\\" look only to criticize everything they can. Others rate a movie on more important bases,like being entertained, which is why most people never agree with the \\\\\"critics\\\\\". We enjoyed the effort Mr. Hines put into being faithful to H.G. Wells\\' classic novel, and we found it to be very entertaining. This made it easy to overlook what the \\\\\"critics\\\\\" perceive to be its shortcomings.\"'"
            ],
            "application/vnd.google.colaboratory.intrinsic+json": {
              "type": "string"
            }
          },
          "metadata": {},
          "execution_count": 11
        }
      ],
      "source": [
        "data['review'][1]"
      ]
    },
    {
      "cell_type": "markdown",
      "id": "1cda058d",
      "metadata": {
        "id": "1cda058d"
      },
      "source": [
        "#### Lowercasing"
      ]
    },
    {
      "cell_type": "code",
      "execution_count": 12,
      "id": "f8d1609e",
      "metadata": {
        "id": "f8d1609e"
      },
      "outputs": [],
      "source": [
        "data['review'] = data['review'].apply(lambda x:x.lower())"
      ]
    },
    {
      "cell_type": "markdown",
      "id": "a6136b97",
      "metadata": {
        "id": "a6136b97"
      },
      "source": [
        "#### Removing punctuations"
      ]
    },
    {
      "cell_type": "code",
      "execution_count": 13,
      "id": "df5cb026",
      "metadata": {
        "id": "df5cb026"
      },
      "outputs": [],
      "source": [
        "PUNCT_TO_REMOVE = string.punctuation\n",
        "def remove_punctuation(text):\n",
        "    \"\"\"custom function to remove the punctuation\"\"\"\n",
        "    return text.translate(str.maketrans('', '', PUNCT_TO_REMOVE))\n",
        "\n",
        "\n",
        "data['review'] = data['review'].apply(lambda text: remove_punctuation(text))"
      ]
    },
    {
      "cell_type": "code",
      "execution_count": 14,
      "id": "25760151",
      "metadata": {
        "colab": {
          "base_uri": "https://localhost:8080/",
          "height": 140
        },
        "id": "25760151",
        "outputId": "1e29f06f-6069-4231-c32b-2882e297a79f"
      },
      "outputs": [
        {
          "output_type": "execute_result",
          "data": {
            "text/plain": [
              "'the classic war of the worlds by timothy hines is a very entertaining film that obviously goes to great effort and lengths to faithfully recreate h g wells classic book mr hines succeeds in doing so i and those who watched his film with me appreciated the fact that it was not the standard predictable hollywood fare that comes out every year eg the spielberg version with tom cruise that had only the slightest resemblance to the book obviously everyone looks for different things in a movie those who envision themselves as amateur critics look only to criticize everything they can others rate a movie on more important baseslike being entertained which is why most people never agree with the critics we enjoyed the effort mr hines put into being faithful to hg wells classic novel and we found it to be very entertaining this made it easy to overlook what the critics perceive to be its shortcomings'"
            ],
            "application/vnd.google.colaboratory.intrinsic+json": {
              "type": "string"
            }
          },
          "metadata": {},
          "execution_count": 14
        }
      ],
      "source": [
        "data['review'][1]"
      ]
    },
    {
      "cell_type": "markdown",
      "id": "1b7f2a69",
      "metadata": {
        "id": "1b7f2a69"
      },
      "source": [
        "#### Removing stopwords"
      ]
    },
    {
      "cell_type": "code",
      "source": [
        "import nltk\n",
        "\n",
        "# Download the NLTK stopwords resource\n",
        "nltk.download('stopwords')"
      ],
      "metadata": {
        "colab": {
          "base_uri": "https://localhost:8080/"
        },
        "id": "9XaS-vJa9mrW",
        "outputId": "8e6bdb3e-7454-45f6-c7e9-f01a0b4c4dc7"
      },
      "id": "9XaS-vJa9mrW",
      "execution_count": 25,
      "outputs": [
        {
          "output_type": "stream",
          "name": "stderr",
          "text": [
            "[nltk_data] Downloading package stopwords to /root/nltk_data...\n",
            "[nltk_data]   Unzipping corpora/stopwords.zip.\n"
          ]
        },
        {
          "output_type": "execute_result",
          "data": {
            "text/plain": [
              "True"
            ]
          },
          "metadata": {},
          "execution_count": 25
        }
      ]
    },
    {
      "cell_type": "code",
      "execution_count": 26,
      "id": "f4617e40",
      "metadata": {
        "id": "f4617e40"
      },
      "outputs": [],
      "source": [
        "#Removing stopwords\n",
        "import nltk\n",
        "from nltk.corpus import stopwords\n",
        "\n",
        "sw_list = stopwords.words('english')\n",
        "\n",
        "data['review'] = data['review'].apply(lambda x: [item for item in x.split() if item not in sw_list]).apply(lambda x:\" \".join(x))"
      ]
    },
    {
      "cell_type": "code",
      "execution_count": 27,
      "id": "4f007884",
      "metadata": {
        "colab": {
          "base_uri": "https://localhost:8080/",
          "height": 206
        },
        "id": "4f007884",
        "outputId": "6fdd5935-df9a-4d02-91fe-eea5b530bcd9"
      },
      "outputs": [
        {
          "output_type": "execute_result",
          "data": {
            "text/plain": [
              "       id  sentiment                                             review\n",
              "0  5814_8          1  stuff going moment mj ive started listening mu...\n",
              "1  2381_9          1  classic war world timothy hines entertaining f...\n",
              "2  7759_3          0  film start manager nicholas bell giving welcom...\n",
              "3  3630_4          0  must assumed praised film greatest filmed oper...\n",
              "4  9495_8          1  superbly trashy wondrously unpretentious 80 ex..."
            ],
            "text/html": [
              "\n",
              "\n",
              "  <div id=\"df-e2a97a07-56cf-4811-bdec-b4df7a3c5fa8\">\n",
              "    <div class=\"colab-df-container\">\n",
              "      <div>\n",
              "<style scoped>\n",
              "    .dataframe tbody tr th:only-of-type {\n",
              "        vertical-align: middle;\n",
              "    }\n",
              "\n",
              "    .dataframe tbody tr th {\n",
              "        vertical-align: top;\n",
              "    }\n",
              "\n",
              "    .dataframe thead th {\n",
              "        text-align: right;\n",
              "    }\n",
              "</style>\n",
              "<table border=\"1\" class=\"dataframe\">\n",
              "  <thead>\n",
              "    <tr style=\"text-align: right;\">\n",
              "      <th></th>\n",
              "      <th>id</th>\n",
              "      <th>sentiment</th>\n",
              "      <th>review</th>\n",
              "    </tr>\n",
              "  </thead>\n",
              "  <tbody>\n",
              "    <tr>\n",
              "      <th>0</th>\n",
              "      <td>5814_8</td>\n",
              "      <td>1</td>\n",
              "      <td>stuff going moment mj ive started listening mu...</td>\n",
              "    </tr>\n",
              "    <tr>\n",
              "      <th>1</th>\n",
              "      <td>2381_9</td>\n",
              "      <td>1</td>\n",
              "      <td>classic war world timothy hines entertaining f...</td>\n",
              "    </tr>\n",
              "    <tr>\n",
              "      <th>2</th>\n",
              "      <td>7759_3</td>\n",
              "      <td>0</td>\n",
              "      <td>film start manager nicholas bell giving welcom...</td>\n",
              "    </tr>\n",
              "    <tr>\n",
              "      <th>3</th>\n",
              "      <td>3630_4</td>\n",
              "      <td>0</td>\n",
              "      <td>must assumed praised film greatest filmed oper...</td>\n",
              "    </tr>\n",
              "    <tr>\n",
              "      <th>4</th>\n",
              "      <td>9495_8</td>\n",
              "      <td>1</td>\n",
              "      <td>superbly trashy wondrously unpretentious 80 ex...</td>\n",
              "    </tr>\n",
              "  </tbody>\n",
              "</table>\n",
              "</div>\n",
              "      <button class=\"colab-df-convert\" onclick=\"convertToInteractive('df-e2a97a07-56cf-4811-bdec-b4df7a3c5fa8')\"\n",
              "              title=\"Convert this dataframe to an interactive table.\"\n",
              "              style=\"display:none;\">\n",
              "\n",
              "  <svg xmlns=\"http://www.w3.org/2000/svg\" height=\"24px\"viewBox=\"0 0 24 24\"\n",
              "       width=\"24px\">\n",
              "    <path d=\"M0 0h24v24H0V0z\" fill=\"none\"/>\n",
              "    <path d=\"M18.56 5.44l.94 2.06.94-2.06 2.06-.94-2.06-.94-.94-2.06-.94 2.06-2.06.94zm-11 1L8.5 8.5l.94-2.06 2.06-.94-2.06-.94L8.5 2.5l-.94 2.06-2.06.94zm10 10l.94 2.06.94-2.06 2.06-.94-2.06-.94-.94-2.06-.94 2.06-2.06.94z\"/><path d=\"M17.41 7.96l-1.37-1.37c-.4-.4-.92-.59-1.43-.59-.52 0-1.04.2-1.43.59L10.3 9.45l-7.72 7.72c-.78.78-.78 2.05 0 2.83L4 21.41c.39.39.9.59 1.41.59.51 0 1.02-.2 1.41-.59l7.78-7.78 2.81-2.81c.8-.78.8-2.07 0-2.86zM5.41 20L4 18.59l7.72-7.72 1.47 1.35L5.41 20z\"/>\n",
              "  </svg>\n",
              "      </button>\n",
              "\n",
              "\n",
              "\n",
              "    <div id=\"df-a5d54a20-f40c-469e-8fed-99a77a847721\">\n",
              "      <button class=\"colab-df-quickchart\" onclick=\"quickchart('df-a5d54a20-f40c-469e-8fed-99a77a847721')\"\n",
              "              title=\"Suggest charts.\"\n",
              "              style=\"display:none;\">\n",
              "\n",
              "<svg xmlns=\"http://www.w3.org/2000/svg\" height=\"24px\"viewBox=\"0 0 24 24\"\n",
              "     width=\"24px\">\n",
              "    <g>\n",
              "        <path d=\"M19 3H5c-1.1 0-2 .9-2 2v14c0 1.1.9 2 2 2h14c1.1 0 2-.9 2-2V5c0-1.1-.9-2-2-2zM9 17H7v-7h2v7zm4 0h-2V7h2v10zm4 0h-2v-4h2v4z\"/>\n",
              "    </g>\n",
              "</svg>\n",
              "      </button>\n",
              "    </div>\n",
              "\n",
              "<style>\n",
              "  .colab-df-quickchart {\n",
              "    background-color: #E8F0FE;\n",
              "    border: none;\n",
              "    border-radius: 50%;\n",
              "    cursor: pointer;\n",
              "    display: none;\n",
              "    fill: #1967D2;\n",
              "    height: 32px;\n",
              "    padding: 0 0 0 0;\n",
              "    width: 32px;\n",
              "  }\n",
              "\n",
              "  .colab-df-quickchart:hover {\n",
              "    background-color: #E2EBFA;\n",
              "    box-shadow: 0px 1px 2px rgba(60, 64, 67, 0.3), 0px 1px 3px 1px rgba(60, 64, 67, 0.15);\n",
              "    fill: #174EA6;\n",
              "  }\n",
              "\n",
              "  [theme=dark] .colab-df-quickchart {\n",
              "    background-color: #3B4455;\n",
              "    fill: #D2E3FC;\n",
              "  }\n",
              "\n",
              "  [theme=dark] .colab-df-quickchart:hover {\n",
              "    background-color: #434B5C;\n",
              "    box-shadow: 0px 1px 3px 1px rgba(0, 0, 0, 0.15);\n",
              "    filter: drop-shadow(0px 1px 2px rgba(0, 0, 0, 0.3));\n",
              "    fill: #FFFFFF;\n",
              "  }\n",
              "</style>\n",
              "\n",
              "    <script>\n",
              "      async function quickchart(key) {\n",
              "        const containerElement = document.querySelector('#' + key);\n",
              "        const charts = await google.colab.kernel.invokeFunction(\n",
              "            'suggestCharts', [key], {});\n",
              "      }\n",
              "    </script>\n",
              "\n",
              "      <script>\n",
              "\n",
              "function displayQuickchartButton(domScope) {\n",
              "  let quickchartButtonEl =\n",
              "    domScope.querySelector('#df-a5d54a20-f40c-469e-8fed-99a77a847721 button.colab-df-quickchart');\n",
              "  quickchartButtonEl.style.display =\n",
              "    google.colab.kernel.accessAllowed ? 'block' : 'none';\n",
              "}\n",
              "\n",
              "        displayQuickchartButton(document);\n",
              "      </script>\n",
              "      <style>\n",
              "    .colab-df-container {\n",
              "      display:flex;\n",
              "      flex-wrap:wrap;\n",
              "      gap: 12px;\n",
              "    }\n",
              "\n",
              "    .colab-df-convert {\n",
              "      background-color: #E8F0FE;\n",
              "      border: none;\n",
              "      border-radius: 50%;\n",
              "      cursor: pointer;\n",
              "      display: none;\n",
              "      fill: #1967D2;\n",
              "      height: 32px;\n",
              "      padding: 0 0 0 0;\n",
              "      width: 32px;\n",
              "    }\n",
              "\n",
              "    .colab-df-convert:hover {\n",
              "      background-color: #E2EBFA;\n",
              "      box-shadow: 0px 1px 2px rgba(60, 64, 67, 0.3), 0px 1px 3px 1px rgba(60, 64, 67, 0.15);\n",
              "      fill: #174EA6;\n",
              "    }\n",
              "\n",
              "    [theme=dark] .colab-df-convert {\n",
              "      background-color: #3B4455;\n",
              "      fill: #D2E3FC;\n",
              "    }\n",
              "\n",
              "    [theme=dark] .colab-df-convert:hover {\n",
              "      background-color: #434B5C;\n",
              "      box-shadow: 0px 1px 3px 1px rgba(0, 0, 0, 0.15);\n",
              "      filter: drop-shadow(0px 1px 2px rgba(0, 0, 0, 0.3));\n",
              "      fill: #FFFFFF;\n",
              "    }\n",
              "  </style>\n",
              "\n",
              "      <script>\n",
              "        const buttonEl =\n",
              "          document.querySelector('#df-e2a97a07-56cf-4811-bdec-b4df7a3c5fa8 button.colab-df-convert');\n",
              "        buttonEl.style.display =\n",
              "          google.colab.kernel.accessAllowed ? 'block' : 'none';\n",
              "\n",
              "        async function convertToInteractive(key) {\n",
              "          const element = document.querySelector('#df-e2a97a07-56cf-4811-bdec-b4df7a3c5fa8');\n",
              "          const dataTable =\n",
              "            await google.colab.kernel.invokeFunction('convertToInteractive',\n",
              "                                                     [key], {});\n",
              "          if (!dataTable) return;\n",
              "\n",
              "          const docLinkHtml = 'Like what you see? Visit the ' +\n",
              "            '<a target=\"_blank\" href=https://colab.research.google.com/notebooks/data_table.ipynb>data table notebook</a>'\n",
              "            + ' to learn more about interactive tables.';\n",
              "          element.innerHTML = '';\n",
              "          dataTable['output_type'] = 'display_data';\n",
              "          await google.colab.output.renderOutput(dataTable, element);\n",
              "          const docLink = document.createElement('div');\n",
              "          docLink.innerHTML = docLinkHtml;\n",
              "          element.appendChild(docLink);\n",
              "        }\n",
              "      </script>\n",
              "    </div>\n",
              "  </div>\n"
            ]
          },
          "metadata": {},
          "execution_count": 27
        }
      ],
      "source": [
        "data.head()"
      ]
    },
    {
      "cell_type": "markdown",
      "id": "37d99207",
      "metadata": {
        "id": "37d99207"
      },
      "source": [
        "#### Lemmatization"
      ]
    },
    {
      "cell_type": "code",
      "execution_count": 28,
      "id": "ba9161d8",
      "metadata": {
        "colab": {
          "base_uri": "https://localhost:8080/"
        },
        "id": "ba9161d8",
        "outputId": "0da76915-c193-4a38-e589-1c4febbc6636"
      },
      "outputs": [
        {
          "output_type": "stream",
          "name": "stderr",
          "text": [
            "[nltk_data] Downloading package wordnet to /root/nltk_data...\n",
            "[nltk_data]   Package wordnet is already up-to-date!\n"
          ]
        },
        {
          "output_type": "execute_result",
          "data": {
            "text/plain": [
              "True"
            ]
          },
          "metadata": {},
          "execution_count": 28
        }
      ],
      "source": [
        "import nltk\n",
        "nltk.download('wordnet')"
      ]
    },
    {
      "cell_type": "code",
      "execution_count": 29,
      "id": "50ae5fd1",
      "metadata": {
        "colab": {
          "base_uri": "https://localhost:8080/",
          "height": 206
        },
        "id": "50ae5fd1",
        "outputId": "6db031d8-194b-43f2-cc53-c9c3575d21cd"
      },
      "outputs": [
        {
          "output_type": "execute_result",
          "data": {
            "text/plain": [
              "       id  sentiment                                             review\n",
              "0  5814_8          1  stuff going moment mj ive started listening mu...\n",
              "1  2381_9          1  classic war world timothy hines entertaining f...\n",
              "2  7759_3          0  film start manager nicholas bell giving welcom...\n",
              "3  3630_4          0  must assumed praised film greatest filmed oper...\n",
              "4  9495_8          1  superbly trashy wondrously unpretentious 80 ex..."
            ],
            "text/html": [
              "\n",
              "\n",
              "  <div id=\"df-53e418f1-145a-4ad2-9faa-97f313b8b53a\">\n",
              "    <div class=\"colab-df-container\">\n",
              "      <div>\n",
              "<style scoped>\n",
              "    .dataframe tbody tr th:only-of-type {\n",
              "        vertical-align: middle;\n",
              "    }\n",
              "\n",
              "    .dataframe tbody tr th {\n",
              "        vertical-align: top;\n",
              "    }\n",
              "\n",
              "    .dataframe thead th {\n",
              "        text-align: right;\n",
              "    }\n",
              "</style>\n",
              "<table border=\"1\" class=\"dataframe\">\n",
              "  <thead>\n",
              "    <tr style=\"text-align: right;\">\n",
              "      <th></th>\n",
              "      <th>id</th>\n",
              "      <th>sentiment</th>\n",
              "      <th>review</th>\n",
              "    </tr>\n",
              "  </thead>\n",
              "  <tbody>\n",
              "    <tr>\n",
              "      <th>0</th>\n",
              "      <td>5814_8</td>\n",
              "      <td>1</td>\n",
              "      <td>stuff going moment mj ive started listening mu...</td>\n",
              "    </tr>\n",
              "    <tr>\n",
              "      <th>1</th>\n",
              "      <td>2381_9</td>\n",
              "      <td>1</td>\n",
              "      <td>classic war world timothy hines entertaining f...</td>\n",
              "    </tr>\n",
              "    <tr>\n",
              "      <th>2</th>\n",
              "      <td>7759_3</td>\n",
              "      <td>0</td>\n",
              "      <td>film start manager nicholas bell giving welcom...</td>\n",
              "    </tr>\n",
              "    <tr>\n",
              "      <th>3</th>\n",
              "      <td>3630_4</td>\n",
              "      <td>0</td>\n",
              "      <td>must assumed praised film greatest filmed oper...</td>\n",
              "    </tr>\n",
              "    <tr>\n",
              "      <th>4</th>\n",
              "      <td>9495_8</td>\n",
              "      <td>1</td>\n",
              "      <td>superbly trashy wondrously unpretentious 80 ex...</td>\n",
              "    </tr>\n",
              "  </tbody>\n",
              "</table>\n",
              "</div>\n",
              "      <button class=\"colab-df-convert\" onclick=\"convertToInteractive('df-53e418f1-145a-4ad2-9faa-97f313b8b53a')\"\n",
              "              title=\"Convert this dataframe to an interactive table.\"\n",
              "              style=\"display:none;\">\n",
              "\n",
              "  <svg xmlns=\"http://www.w3.org/2000/svg\" height=\"24px\"viewBox=\"0 0 24 24\"\n",
              "       width=\"24px\">\n",
              "    <path d=\"M0 0h24v24H0V0z\" fill=\"none\"/>\n",
              "    <path d=\"M18.56 5.44l.94 2.06.94-2.06 2.06-.94-2.06-.94-.94-2.06-.94 2.06-2.06.94zm-11 1L8.5 8.5l.94-2.06 2.06-.94-2.06-.94L8.5 2.5l-.94 2.06-2.06.94zm10 10l.94 2.06.94-2.06 2.06-.94-2.06-.94-.94-2.06-.94 2.06-2.06.94z\"/><path d=\"M17.41 7.96l-1.37-1.37c-.4-.4-.92-.59-1.43-.59-.52 0-1.04.2-1.43.59L10.3 9.45l-7.72 7.72c-.78.78-.78 2.05 0 2.83L4 21.41c.39.39.9.59 1.41.59.51 0 1.02-.2 1.41-.59l7.78-7.78 2.81-2.81c.8-.78.8-2.07 0-2.86zM5.41 20L4 18.59l7.72-7.72 1.47 1.35L5.41 20z\"/>\n",
              "  </svg>\n",
              "      </button>\n",
              "\n",
              "\n",
              "\n",
              "    <div id=\"df-686f1836-8311-4b60-aff5-49a7d55de99f\">\n",
              "      <button class=\"colab-df-quickchart\" onclick=\"quickchart('df-686f1836-8311-4b60-aff5-49a7d55de99f')\"\n",
              "              title=\"Suggest charts.\"\n",
              "              style=\"display:none;\">\n",
              "\n",
              "<svg xmlns=\"http://www.w3.org/2000/svg\" height=\"24px\"viewBox=\"0 0 24 24\"\n",
              "     width=\"24px\">\n",
              "    <g>\n",
              "        <path d=\"M19 3H5c-1.1 0-2 .9-2 2v14c0 1.1.9 2 2 2h14c1.1 0 2-.9 2-2V5c0-1.1-.9-2-2-2zM9 17H7v-7h2v7zm4 0h-2V7h2v10zm4 0h-2v-4h2v4z\"/>\n",
              "    </g>\n",
              "</svg>\n",
              "      </button>\n",
              "    </div>\n",
              "\n",
              "<style>\n",
              "  .colab-df-quickchart {\n",
              "    background-color: #E8F0FE;\n",
              "    border: none;\n",
              "    border-radius: 50%;\n",
              "    cursor: pointer;\n",
              "    display: none;\n",
              "    fill: #1967D2;\n",
              "    height: 32px;\n",
              "    padding: 0 0 0 0;\n",
              "    width: 32px;\n",
              "  }\n",
              "\n",
              "  .colab-df-quickchart:hover {\n",
              "    background-color: #E2EBFA;\n",
              "    box-shadow: 0px 1px 2px rgba(60, 64, 67, 0.3), 0px 1px 3px 1px rgba(60, 64, 67, 0.15);\n",
              "    fill: #174EA6;\n",
              "  }\n",
              "\n",
              "  [theme=dark] .colab-df-quickchart {\n",
              "    background-color: #3B4455;\n",
              "    fill: #D2E3FC;\n",
              "  }\n",
              "\n",
              "  [theme=dark] .colab-df-quickchart:hover {\n",
              "    background-color: #434B5C;\n",
              "    box-shadow: 0px 1px 3px 1px rgba(0, 0, 0, 0.15);\n",
              "    filter: drop-shadow(0px 1px 2px rgba(0, 0, 0, 0.3));\n",
              "    fill: #FFFFFF;\n",
              "  }\n",
              "</style>\n",
              "\n",
              "    <script>\n",
              "      async function quickchart(key) {\n",
              "        const containerElement = document.querySelector('#' + key);\n",
              "        const charts = await google.colab.kernel.invokeFunction(\n",
              "            'suggestCharts', [key], {});\n",
              "      }\n",
              "    </script>\n",
              "\n",
              "      <script>\n",
              "\n",
              "function displayQuickchartButton(domScope) {\n",
              "  let quickchartButtonEl =\n",
              "    domScope.querySelector('#df-686f1836-8311-4b60-aff5-49a7d55de99f button.colab-df-quickchart');\n",
              "  quickchartButtonEl.style.display =\n",
              "    google.colab.kernel.accessAllowed ? 'block' : 'none';\n",
              "}\n",
              "\n",
              "        displayQuickchartButton(document);\n",
              "      </script>\n",
              "      <style>\n",
              "    .colab-df-container {\n",
              "      display:flex;\n",
              "      flex-wrap:wrap;\n",
              "      gap: 12px;\n",
              "    }\n",
              "\n",
              "    .colab-df-convert {\n",
              "      background-color: #E8F0FE;\n",
              "      border: none;\n",
              "      border-radius: 50%;\n",
              "      cursor: pointer;\n",
              "      display: none;\n",
              "      fill: #1967D2;\n",
              "      height: 32px;\n",
              "      padding: 0 0 0 0;\n",
              "      width: 32px;\n",
              "    }\n",
              "\n",
              "    .colab-df-convert:hover {\n",
              "      background-color: #E2EBFA;\n",
              "      box-shadow: 0px 1px 2px rgba(60, 64, 67, 0.3), 0px 1px 3px 1px rgba(60, 64, 67, 0.15);\n",
              "      fill: #174EA6;\n",
              "    }\n",
              "\n",
              "    [theme=dark] .colab-df-convert {\n",
              "      background-color: #3B4455;\n",
              "      fill: #D2E3FC;\n",
              "    }\n",
              "\n",
              "    [theme=dark] .colab-df-convert:hover {\n",
              "      background-color: #434B5C;\n",
              "      box-shadow: 0px 1px 3px 1px rgba(0, 0, 0, 0.15);\n",
              "      filter: drop-shadow(0px 1px 2px rgba(0, 0, 0, 0.3));\n",
              "      fill: #FFFFFF;\n",
              "    }\n",
              "  </style>\n",
              "\n",
              "      <script>\n",
              "        const buttonEl =\n",
              "          document.querySelector('#df-53e418f1-145a-4ad2-9faa-97f313b8b53a button.colab-df-convert');\n",
              "        buttonEl.style.display =\n",
              "          google.colab.kernel.accessAllowed ? 'block' : 'none';\n",
              "\n",
              "        async function convertToInteractive(key) {\n",
              "          const element = document.querySelector('#df-53e418f1-145a-4ad2-9faa-97f313b8b53a');\n",
              "          const dataTable =\n",
              "            await google.colab.kernel.invokeFunction('convertToInteractive',\n",
              "                                                     [key], {});\n",
              "          if (!dataTable) return;\n",
              "\n",
              "          const docLinkHtml = 'Like what you see? Visit the ' +\n",
              "            '<a target=\"_blank\" href=https://colab.research.google.com/notebooks/data_table.ipynb>data table notebook</a>'\n",
              "            + ' to learn more about interactive tables.';\n",
              "          element.innerHTML = '';\n",
              "          dataTable['output_type'] = 'display_data';\n",
              "          await google.colab.output.renderOutput(dataTable, element);\n",
              "          const docLink = document.createElement('div');\n",
              "          docLink.innerHTML = docLinkHtml;\n",
              "          element.appendChild(docLink);\n",
              "        }\n",
              "      </script>\n",
              "    </div>\n",
              "  </div>\n"
            ]
          },
          "metadata": {},
          "execution_count": 29
        }
      ],
      "source": [
        "from nltk.stem import WordNetLemmatizer\n",
        "\n",
        "lemmatizer = WordNetLemmatizer()\n",
        "def lemmatize_words(text):\n",
        "    return \" \".join([lemmatizer.lemmatize(word) for word in text.split()])\n",
        "\n",
        "data[\"review\"] = data[\"review\"].apply(lambda text: lemmatize_words(text))\n",
        "data.head()"
      ]
    },
    {
      "cell_type": "markdown",
      "id": "45f6a3a0",
      "metadata": {
        "id": "45f6a3a0"
      },
      "source": [
        "## Feature Extraction Techniques:\n",
        "- BOW\n",
        "- TF-IDF\n",
        "- Word2Vec\n"
      ]
    },
    {
      "cell_type": "code",
      "execution_count": 30,
      "id": "d1379a19",
      "metadata": {
        "colab": {
          "base_uri": "https://localhost:8080/",
          "height": 206
        },
        "id": "d1379a19",
        "outputId": "a1a98226-2884-48bb-a42b-97c60b64b127"
      },
      "outputs": [
        {
          "output_type": "execute_result",
          "data": {
            "text/plain": [
              "                                              review\n",
              "0  stuff going moment mj ive started listening mu...\n",
              "1  classic war world timothy hines entertaining f...\n",
              "2  film start manager nicholas bell giving welcom...\n",
              "3  must assumed praised film greatest filmed oper...\n",
              "4  superbly trashy wondrously unpretentious 80 ex..."
            ],
            "text/html": [
              "\n",
              "\n",
              "  <div id=\"df-5fca1019-9c0f-4680-946d-2956d9bbc10e\">\n",
              "    <div class=\"colab-df-container\">\n",
              "      <div>\n",
              "<style scoped>\n",
              "    .dataframe tbody tr th:only-of-type {\n",
              "        vertical-align: middle;\n",
              "    }\n",
              "\n",
              "    .dataframe tbody tr th {\n",
              "        vertical-align: top;\n",
              "    }\n",
              "\n",
              "    .dataframe thead th {\n",
              "        text-align: right;\n",
              "    }\n",
              "</style>\n",
              "<table border=\"1\" class=\"dataframe\">\n",
              "  <thead>\n",
              "    <tr style=\"text-align: right;\">\n",
              "      <th></th>\n",
              "      <th>review</th>\n",
              "    </tr>\n",
              "  </thead>\n",
              "  <tbody>\n",
              "    <tr>\n",
              "      <th>0</th>\n",
              "      <td>stuff going moment mj ive started listening mu...</td>\n",
              "    </tr>\n",
              "    <tr>\n",
              "      <th>1</th>\n",
              "      <td>classic war world timothy hines entertaining f...</td>\n",
              "    </tr>\n",
              "    <tr>\n",
              "      <th>2</th>\n",
              "      <td>film start manager nicholas bell giving welcom...</td>\n",
              "    </tr>\n",
              "    <tr>\n",
              "      <th>3</th>\n",
              "      <td>must assumed praised film greatest filmed oper...</td>\n",
              "    </tr>\n",
              "    <tr>\n",
              "      <th>4</th>\n",
              "      <td>superbly trashy wondrously unpretentious 80 ex...</td>\n",
              "    </tr>\n",
              "  </tbody>\n",
              "</table>\n",
              "</div>\n",
              "      <button class=\"colab-df-convert\" onclick=\"convertToInteractive('df-5fca1019-9c0f-4680-946d-2956d9bbc10e')\"\n",
              "              title=\"Convert this dataframe to an interactive table.\"\n",
              "              style=\"display:none;\">\n",
              "\n",
              "  <svg xmlns=\"http://www.w3.org/2000/svg\" height=\"24px\"viewBox=\"0 0 24 24\"\n",
              "       width=\"24px\">\n",
              "    <path d=\"M0 0h24v24H0V0z\" fill=\"none\"/>\n",
              "    <path d=\"M18.56 5.44l.94 2.06.94-2.06 2.06-.94-2.06-.94-.94-2.06-.94 2.06-2.06.94zm-11 1L8.5 8.5l.94-2.06 2.06-.94-2.06-.94L8.5 2.5l-.94 2.06-2.06.94zm10 10l.94 2.06.94-2.06 2.06-.94-2.06-.94-.94-2.06-.94 2.06-2.06.94z\"/><path d=\"M17.41 7.96l-1.37-1.37c-.4-.4-.92-.59-1.43-.59-.52 0-1.04.2-1.43.59L10.3 9.45l-7.72 7.72c-.78.78-.78 2.05 0 2.83L4 21.41c.39.39.9.59 1.41.59.51 0 1.02-.2 1.41-.59l7.78-7.78 2.81-2.81c.8-.78.8-2.07 0-2.86zM5.41 20L4 18.59l7.72-7.72 1.47 1.35L5.41 20z\"/>\n",
              "  </svg>\n",
              "      </button>\n",
              "\n",
              "\n",
              "\n",
              "    <div id=\"df-3c57fc47-64a1-43ad-a605-120dc06a6e7d\">\n",
              "      <button class=\"colab-df-quickchart\" onclick=\"quickchart('df-3c57fc47-64a1-43ad-a605-120dc06a6e7d')\"\n",
              "              title=\"Suggest charts.\"\n",
              "              style=\"display:none;\">\n",
              "\n",
              "<svg xmlns=\"http://www.w3.org/2000/svg\" height=\"24px\"viewBox=\"0 0 24 24\"\n",
              "     width=\"24px\">\n",
              "    <g>\n",
              "        <path d=\"M19 3H5c-1.1 0-2 .9-2 2v14c0 1.1.9 2 2 2h14c1.1 0 2-.9 2-2V5c0-1.1-.9-2-2-2zM9 17H7v-7h2v7zm4 0h-2V7h2v10zm4 0h-2v-4h2v4z\"/>\n",
              "    </g>\n",
              "</svg>\n",
              "      </button>\n",
              "    </div>\n",
              "\n",
              "<style>\n",
              "  .colab-df-quickchart {\n",
              "    background-color: #E8F0FE;\n",
              "    border: none;\n",
              "    border-radius: 50%;\n",
              "    cursor: pointer;\n",
              "    display: none;\n",
              "    fill: #1967D2;\n",
              "    height: 32px;\n",
              "    padding: 0 0 0 0;\n",
              "    width: 32px;\n",
              "  }\n",
              "\n",
              "  .colab-df-quickchart:hover {\n",
              "    background-color: #E2EBFA;\n",
              "    box-shadow: 0px 1px 2px rgba(60, 64, 67, 0.3), 0px 1px 3px 1px rgba(60, 64, 67, 0.15);\n",
              "    fill: #174EA6;\n",
              "  }\n",
              "\n",
              "  [theme=dark] .colab-df-quickchart {\n",
              "    background-color: #3B4455;\n",
              "    fill: #D2E3FC;\n",
              "  }\n",
              "\n",
              "  [theme=dark] .colab-df-quickchart:hover {\n",
              "    background-color: #434B5C;\n",
              "    box-shadow: 0px 1px 3px 1px rgba(0, 0, 0, 0.15);\n",
              "    filter: drop-shadow(0px 1px 2px rgba(0, 0, 0, 0.3));\n",
              "    fill: #FFFFFF;\n",
              "  }\n",
              "</style>\n",
              "\n",
              "    <script>\n",
              "      async function quickchart(key) {\n",
              "        const containerElement = document.querySelector('#' + key);\n",
              "        const charts = await google.colab.kernel.invokeFunction(\n",
              "            'suggestCharts', [key], {});\n",
              "      }\n",
              "    </script>\n",
              "\n",
              "      <script>\n",
              "\n",
              "function displayQuickchartButton(domScope) {\n",
              "  let quickchartButtonEl =\n",
              "    domScope.querySelector('#df-3c57fc47-64a1-43ad-a605-120dc06a6e7d button.colab-df-quickchart');\n",
              "  quickchartButtonEl.style.display =\n",
              "    google.colab.kernel.accessAllowed ? 'block' : 'none';\n",
              "}\n",
              "\n",
              "        displayQuickchartButton(document);\n",
              "      </script>\n",
              "      <style>\n",
              "    .colab-df-container {\n",
              "      display:flex;\n",
              "      flex-wrap:wrap;\n",
              "      gap: 12px;\n",
              "    }\n",
              "\n",
              "    .colab-df-convert {\n",
              "      background-color: #E8F0FE;\n",
              "      border: none;\n",
              "      border-radius: 50%;\n",
              "      cursor: pointer;\n",
              "      display: none;\n",
              "      fill: #1967D2;\n",
              "      height: 32px;\n",
              "      padding: 0 0 0 0;\n",
              "      width: 32px;\n",
              "    }\n",
              "\n",
              "    .colab-df-convert:hover {\n",
              "      background-color: #E2EBFA;\n",
              "      box-shadow: 0px 1px 2px rgba(60, 64, 67, 0.3), 0px 1px 3px 1px rgba(60, 64, 67, 0.15);\n",
              "      fill: #174EA6;\n",
              "    }\n",
              "\n",
              "    [theme=dark] .colab-df-convert {\n",
              "      background-color: #3B4455;\n",
              "      fill: #D2E3FC;\n",
              "    }\n",
              "\n",
              "    [theme=dark] .colab-df-convert:hover {\n",
              "      background-color: #434B5C;\n",
              "      box-shadow: 0px 1px 3px 1px rgba(0, 0, 0, 0.15);\n",
              "      filter: drop-shadow(0px 1px 2px rgba(0, 0, 0, 0.3));\n",
              "      fill: #FFFFFF;\n",
              "    }\n",
              "  </style>\n",
              "\n",
              "      <script>\n",
              "        const buttonEl =\n",
              "          document.querySelector('#df-5fca1019-9c0f-4680-946d-2956d9bbc10e button.colab-df-convert');\n",
              "        buttonEl.style.display =\n",
              "          google.colab.kernel.accessAllowed ? 'block' : 'none';\n",
              "\n",
              "        async function convertToInteractive(key) {\n",
              "          const element = document.querySelector('#df-5fca1019-9c0f-4680-946d-2956d9bbc10e');\n",
              "          const dataTable =\n",
              "            await google.colab.kernel.invokeFunction('convertToInteractive',\n",
              "                                                     [key], {});\n",
              "          if (!dataTable) return;\n",
              "\n",
              "          const docLinkHtml = 'Like what you see? Visit the ' +\n",
              "            '<a target=\"_blank\" href=https://colab.research.google.com/notebooks/data_table.ipynb>data table notebook</a>'\n",
              "            + ' to learn more about interactive tables.';\n",
              "          element.innerHTML = '';\n",
              "          dataTable['output_type'] = 'display_data';\n",
              "          await google.colab.output.renderOutput(dataTable, element);\n",
              "          const docLink = document.createElement('div');\n",
              "          docLink.innerHTML = docLinkHtml;\n",
              "          element.appendChild(docLink);\n",
              "        }\n",
              "      </script>\n",
              "    </div>\n",
              "  </div>\n"
            ]
          },
          "metadata": {},
          "execution_count": 30
        }
      ],
      "source": [
        "x = data.iloc[:,2:3]\n",
        "x.head()"
      ]
    },
    {
      "cell_type": "code",
      "execution_count": 31,
      "id": "d9b3b4ac",
      "metadata": {
        "colab": {
          "base_uri": "https://localhost:8080/"
        },
        "id": "d9b3b4ac",
        "outputId": "c68e86b4-4ced-4824-9fd5-687c56c8c748"
      },
      "outputs": [
        {
          "output_type": "execute_result",
          "data": {
            "text/plain": [
              "0    1\n",
              "1    1\n",
              "2    0\n",
              "3    0\n",
              "4    1\n",
              "Name: sentiment, dtype: int64"
            ]
          },
          "metadata": {},
          "execution_count": 31
        }
      ],
      "source": [
        "y= data['sentiment']\n",
        "y.head()"
      ]
    },
    {
      "cell_type": "code",
      "execution_count": 32,
      "id": "32b2f894",
      "metadata": {
        "id": "32b2f894"
      },
      "outputs": [],
      "source": [
        "from sklearn.model_selection import train_test_split\n",
        "x_train, x_test, y_train, y_test = train_test_split(x,y,test_size=0.2, random_state=134)"
      ]
    },
    {
      "cell_type": "code",
      "execution_count": 33,
      "id": "2dc5782f",
      "metadata": {
        "colab": {
          "base_uri": "https://localhost:8080/",
          "height": 423
        },
        "id": "2dc5782f",
        "outputId": "0807e6be-df35-4e61-f556-34e75e902141"
      },
      "outputs": [
        {
          "output_type": "execute_result",
          "data": {
            "text/plain": [
              "                                                review\n",
              "769  recently purchased collection one awesome seri...\n",
              "297  riding giant amazing movie really show people ...\n",
              "205  shannon leethe daughter bruce leedelivers high...\n",
              "68   king mask beautifully told story pit familial ...\n",
              "482  like people wa intrigued heard concept film es...\n",
              "..                                                 ...\n",
              "114  reallyand incredible film though isnt populare...\n",
              "375  penultimate episode star trek third season exc...\n",
              "376  whatever possessed guy ritchie remake wertmull...\n",
              "550  last read nancy drew book 20 year ago much mem...\n",
              "483  kid took movie loved four child age 9 12 year ...\n",
              "\n",
              "[633 rows x 1 columns]"
            ],
            "text/html": [
              "\n",
              "\n",
              "  <div id=\"df-53495a15-6646-4bb9-9fd8-1dca963242a9\">\n",
              "    <div class=\"colab-df-container\">\n",
              "      <div>\n",
              "<style scoped>\n",
              "    .dataframe tbody tr th:only-of-type {\n",
              "        vertical-align: middle;\n",
              "    }\n",
              "\n",
              "    .dataframe tbody tr th {\n",
              "        vertical-align: top;\n",
              "    }\n",
              "\n",
              "    .dataframe thead th {\n",
              "        text-align: right;\n",
              "    }\n",
              "</style>\n",
              "<table border=\"1\" class=\"dataframe\">\n",
              "  <thead>\n",
              "    <tr style=\"text-align: right;\">\n",
              "      <th></th>\n",
              "      <th>review</th>\n",
              "    </tr>\n",
              "  </thead>\n",
              "  <tbody>\n",
              "    <tr>\n",
              "      <th>769</th>\n",
              "      <td>recently purchased collection one awesome seri...</td>\n",
              "    </tr>\n",
              "    <tr>\n",
              "      <th>297</th>\n",
              "      <td>riding giant amazing movie really show people ...</td>\n",
              "    </tr>\n",
              "    <tr>\n",
              "      <th>205</th>\n",
              "      <td>shannon leethe daughter bruce leedelivers high...</td>\n",
              "    </tr>\n",
              "    <tr>\n",
              "      <th>68</th>\n",
              "      <td>king mask beautifully told story pit familial ...</td>\n",
              "    </tr>\n",
              "    <tr>\n",
              "      <th>482</th>\n",
              "      <td>like people wa intrigued heard concept film es...</td>\n",
              "    </tr>\n",
              "    <tr>\n",
              "      <th>...</th>\n",
              "      <td>...</td>\n",
              "    </tr>\n",
              "    <tr>\n",
              "      <th>114</th>\n",
              "      <td>reallyand incredible film though isnt populare...</td>\n",
              "    </tr>\n",
              "    <tr>\n",
              "      <th>375</th>\n",
              "      <td>penultimate episode star trek third season exc...</td>\n",
              "    </tr>\n",
              "    <tr>\n",
              "      <th>376</th>\n",
              "      <td>whatever possessed guy ritchie remake wertmull...</td>\n",
              "    </tr>\n",
              "    <tr>\n",
              "      <th>550</th>\n",
              "      <td>last read nancy drew book 20 year ago much mem...</td>\n",
              "    </tr>\n",
              "    <tr>\n",
              "      <th>483</th>\n",
              "      <td>kid took movie loved four child age 9 12 year ...</td>\n",
              "    </tr>\n",
              "  </tbody>\n",
              "</table>\n",
              "<p>633 rows × 1 columns</p>\n",
              "</div>\n",
              "      <button class=\"colab-df-convert\" onclick=\"convertToInteractive('df-53495a15-6646-4bb9-9fd8-1dca963242a9')\"\n",
              "              title=\"Convert this dataframe to an interactive table.\"\n",
              "              style=\"display:none;\">\n",
              "\n",
              "  <svg xmlns=\"http://www.w3.org/2000/svg\" height=\"24px\"viewBox=\"0 0 24 24\"\n",
              "       width=\"24px\">\n",
              "    <path d=\"M0 0h24v24H0V0z\" fill=\"none\"/>\n",
              "    <path d=\"M18.56 5.44l.94 2.06.94-2.06 2.06-.94-2.06-.94-.94-2.06-.94 2.06-2.06.94zm-11 1L8.5 8.5l.94-2.06 2.06-.94-2.06-.94L8.5 2.5l-.94 2.06-2.06.94zm10 10l.94 2.06.94-2.06 2.06-.94-2.06-.94-.94-2.06-.94 2.06-2.06.94z\"/><path d=\"M17.41 7.96l-1.37-1.37c-.4-.4-.92-.59-1.43-.59-.52 0-1.04.2-1.43.59L10.3 9.45l-7.72 7.72c-.78.78-.78 2.05 0 2.83L4 21.41c.39.39.9.59 1.41.59.51 0 1.02-.2 1.41-.59l7.78-7.78 2.81-2.81c.8-.78.8-2.07 0-2.86zM5.41 20L4 18.59l7.72-7.72 1.47 1.35L5.41 20z\"/>\n",
              "  </svg>\n",
              "      </button>\n",
              "\n",
              "\n",
              "\n",
              "    <div id=\"df-2def9eca-efda-46a6-911a-5240065ccce1\">\n",
              "      <button class=\"colab-df-quickchart\" onclick=\"quickchart('df-2def9eca-efda-46a6-911a-5240065ccce1')\"\n",
              "              title=\"Suggest charts.\"\n",
              "              style=\"display:none;\">\n",
              "\n",
              "<svg xmlns=\"http://www.w3.org/2000/svg\" height=\"24px\"viewBox=\"0 0 24 24\"\n",
              "     width=\"24px\">\n",
              "    <g>\n",
              "        <path d=\"M19 3H5c-1.1 0-2 .9-2 2v14c0 1.1.9 2 2 2h14c1.1 0 2-.9 2-2V5c0-1.1-.9-2-2-2zM9 17H7v-7h2v7zm4 0h-2V7h2v10zm4 0h-2v-4h2v4z\"/>\n",
              "    </g>\n",
              "</svg>\n",
              "      </button>\n",
              "    </div>\n",
              "\n",
              "<style>\n",
              "  .colab-df-quickchart {\n",
              "    background-color: #E8F0FE;\n",
              "    border: none;\n",
              "    border-radius: 50%;\n",
              "    cursor: pointer;\n",
              "    display: none;\n",
              "    fill: #1967D2;\n",
              "    height: 32px;\n",
              "    padding: 0 0 0 0;\n",
              "    width: 32px;\n",
              "  }\n",
              "\n",
              "  .colab-df-quickchart:hover {\n",
              "    background-color: #E2EBFA;\n",
              "    box-shadow: 0px 1px 2px rgba(60, 64, 67, 0.3), 0px 1px 3px 1px rgba(60, 64, 67, 0.15);\n",
              "    fill: #174EA6;\n",
              "  }\n",
              "\n",
              "  [theme=dark] .colab-df-quickchart {\n",
              "    background-color: #3B4455;\n",
              "    fill: #D2E3FC;\n",
              "  }\n",
              "\n",
              "  [theme=dark] .colab-df-quickchart:hover {\n",
              "    background-color: #434B5C;\n",
              "    box-shadow: 0px 1px 3px 1px rgba(0, 0, 0, 0.15);\n",
              "    filter: drop-shadow(0px 1px 2px rgba(0, 0, 0, 0.3));\n",
              "    fill: #FFFFFF;\n",
              "  }\n",
              "</style>\n",
              "\n",
              "    <script>\n",
              "      async function quickchart(key) {\n",
              "        const containerElement = document.querySelector('#' + key);\n",
              "        const charts = await google.colab.kernel.invokeFunction(\n",
              "            'suggestCharts', [key], {});\n",
              "      }\n",
              "    </script>\n",
              "\n",
              "      <script>\n",
              "\n",
              "function displayQuickchartButton(domScope) {\n",
              "  let quickchartButtonEl =\n",
              "    domScope.querySelector('#df-2def9eca-efda-46a6-911a-5240065ccce1 button.colab-df-quickchart');\n",
              "  quickchartButtonEl.style.display =\n",
              "    google.colab.kernel.accessAllowed ? 'block' : 'none';\n",
              "}\n",
              "\n",
              "        displayQuickchartButton(document);\n",
              "      </script>\n",
              "      <style>\n",
              "    .colab-df-container {\n",
              "      display:flex;\n",
              "      flex-wrap:wrap;\n",
              "      gap: 12px;\n",
              "    }\n",
              "\n",
              "    .colab-df-convert {\n",
              "      background-color: #E8F0FE;\n",
              "      border: none;\n",
              "      border-radius: 50%;\n",
              "      cursor: pointer;\n",
              "      display: none;\n",
              "      fill: #1967D2;\n",
              "      height: 32px;\n",
              "      padding: 0 0 0 0;\n",
              "      width: 32px;\n",
              "    }\n",
              "\n",
              "    .colab-df-convert:hover {\n",
              "      background-color: #E2EBFA;\n",
              "      box-shadow: 0px 1px 2px rgba(60, 64, 67, 0.3), 0px 1px 3px 1px rgba(60, 64, 67, 0.15);\n",
              "      fill: #174EA6;\n",
              "    }\n",
              "\n",
              "    [theme=dark] .colab-df-convert {\n",
              "      background-color: #3B4455;\n",
              "      fill: #D2E3FC;\n",
              "    }\n",
              "\n",
              "    [theme=dark] .colab-df-convert:hover {\n",
              "      background-color: #434B5C;\n",
              "      box-shadow: 0px 1px 3px 1px rgba(0, 0, 0, 0.15);\n",
              "      filter: drop-shadow(0px 1px 2px rgba(0, 0, 0, 0.3));\n",
              "      fill: #FFFFFF;\n",
              "    }\n",
              "  </style>\n",
              "\n",
              "      <script>\n",
              "        const buttonEl =\n",
              "          document.querySelector('#df-53495a15-6646-4bb9-9fd8-1dca963242a9 button.colab-df-convert');\n",
              "        buttonEl.style.display =\n",
              "          google.colab.kernel.accessAllowed ? 'block' : 'none';\n",
              "\n",
              "        async function convertToInteractive(key) {\n",
              "          const element = document.querySelector('#df-53495a15-6646-4bb9-9fd8-1dca963242a9');\n",
              "          const dataTable =\n",
              "            await google.colab.kernel.invokeFunction('convertToInteractive',\n",
              "                                                     [key], {});\n",
              "          if (!dataTable) return;\n",
              "\n",
              "          const docLinkHtml = 'Like what you see? Visit the ' +\n",
              "            '<a target=\"_blank\" href=https://colab.research.google.com/notebooks/data_table.ipynb>data table notebook</a>'\n",
              "            + ' to learn more about interactive tables.';\n",
              "          element.innerHTML = '';\n",
              "          dataTable['output_type'] = 'display_data';\n",
              "          await google.colab.output.renderOutput(dataTable, element);\n",
              "          const docLink = document.createElement('div');\n",
              "          docLink.innerHTML = docLinkHtml;\n",
              "          element.appendChild(docLink);\n",
              "        }\n",
              "      </script>\n",
              "    </div>\n",
              "  </div>\n"
            ]
          },
          "metadata": {},
          "execution_count": 33
        }
      ],
      "source": [
        "x_train"
      ]
    },
    {
      "cell_type": "markdown",
      "id": "6446c0fb",
      "metadata": {
        "id": "6446c0fb"
      },
      "source": [
        "### BOW\n",
        "\n",
        "Bags of words model : It is used to convert text documents to numerical vectors or bag of words."
      ]
    },
    {
      "cell_type": "code",
      "execution_count": null,
      "id": "4261ac73",
      "metadata": {
        "id": "4261ac73"
      },
      "outputs": [],
      "source": [
        "cv = CountVectorizer(stop_words = \"english\", min_df = 10, max_df=200, max_features = 200)"
      ]
    },
    {
      "cell_type": "code",
      "execution_count": null,
      "id": "a8d8e748",
      "metadata": {
        "id": "a8d8e748"
      },
      "outputs": [],
      "source": [
        "#parse matrix to numpy array to_array\n",
        "x_train_bow = cv.fit_transform(x_train['review']).toarray()\n",
        "x_test_bow = cv.transform(x_test['review']).toarray()"
      ]
    },
    {
      "cell_type": "code",
      "execution_count": null,
      "id": "3a0d4d27",
      "metadata": {
        "id": "3a0d4d27",
        "outputId": "06c1b69b-a2d3-41c8-dc35-adbc87c4fa55"
      },
      "outputs": [
        {
          "name": "stdout",
          "output_type": "stream",
          "text": [
            "{'noir': 122, 'price': 132, 'program': 135, 'grant': 72, 'prince': 133, 'brown': 20, 'fat': 57, 'favor': 58, 'learned': 102, 'golden': 70, 'tape': 174, 'al': 1, 'seven': 157, 'jerry': 88, 'soap': 166, 'douglas': 47, 'jr': 93, 'magnificent': 108, 'grand': 71, 'prove': 136, 'dressed': 48, 'judge': 94, 'davis': 37, 'loss': 105, 'vhs': 187, 'japan': 86, 'fred': 65, 'tune': 184, 'paris': 126, 'danny': 36, 'shakespeare': 159, 'stewart': 170, 'bank': 10, 'johnny': 92, 'murdered': 118, 'knowledge': 99, 'round': 145, 'native': 119, 'joan': 91, 'heroine': 76, 'burn': 23, 'allen': 3, 'keeping': 96, 'screaming': 152, 'president': 130, 'speech': 167, 'gangster': 66, 'behavior': 12, 'treated': 181, 'lake': 101, 'ed': 52, 'boat': 15, 'drunk': 50, 'shadow': 158, 'jackson': 85, 'scared': 151, 'sake': 148, 'wedding': 192, 'angel': 6, 'river': 142, 'charlie': 30, 'russian': 147, 'eat': 51, 'batman': 11, 'tim': 179, 'cgi': 29, 'hunter': 82, 'loving': 106, 'rob': 143, 'pulled': 138, 'international': 84, 'anthony': 7, 'context': 32, 'buck': 22, 'chinese': 31, 'village': 188, 'asian': 9, 'site': 164, 'loses': 104, 'hotel': 79, 'brian': 18, 'psychological': 137, 'experiment': 55, 'fox': 63, 'mountain': 117, 'gary': 67, 'rubbish': 146, 'cable': 24, 'morgan': 116, 'torture': 180, 'sport': 169, 'dealing': 38, 'speed': 168, 'seek': 155, 'faith': 56, 'device': 42, 'robot': 144, 'dick': 44, 'santa': 149, 'ford': 62, 'jean': 87, 'arthur': 8, 'finale': 59, 'responsible': 141, 'manage': 109, 'jesus': 89, 'private': 134, 'desert': 41, 'identity': 83, 'bland': 14, 'conversation': 34, 'bet': 13, 'bomb': 16, 'mike': 112, 'williams': 196, 'nick': 121, 'humorous': 81, 'higher': 77, 'washington': 189, 'kevin': 98, 'emotionally': 54, 'mission': 113, 'satire': 150, 'fly': 60, 'shop': 162, 'advice': 0, 'stone': 171, 'delightful': 39, 'moon': 115, 'werewolf': 194, 'pilot': 128, 'driving': 49, 'ordinary': 124, 'test': 177, 'alan': 2, 'taylor': 176, 'bruce': 21, 'gene': 68, 'strike': 172, 'luke': 107, 'uncle': 185, 'mask': 111, 'bright': 19, 'parody': 127, 'discover': 46, 'captain': 27, 'mixed': 114, 'jimmy': 90, 'singer': 163, 'youth': 199, 'winner': 197, 'kelly': 97, 'vehicle': 186, 'continues': 33, 'page': 125, 'wise': 198, 'wave': 190, 'cage': 25, 'porn': 129, 'weapon': 191, 'henry': 75, 'tarzan': 175, 'harry': 73, 'religious': 140, 'sky': 165, 'occasionally': 123, 'devil': 43, 'hat': 74, 'ship': 161, 'trek': 183, 'tree': 182, 'eddie': 53, 'frame': 64, 'andrew': 4, 'dirty': 45, 'demon': 40, 'candy': 26, 'martial': 110, 'kong': 100, 'andy': 5, 'bond': 17, 'keaton': 95, 'fool': 61, 'shallow': 160, 'pretentious': 131, 'humanity': 80, 'whilst': 195, 'superman': 173, 'leg': 103, 'theyve': 178, 'daniel': 35, 'gold': 69, 'sea': 153, 'segment': 156, 'castle': 28, 'recall': 139, 'nazi': 120, 'hitler': 78, 'sean': 154, 'welles': 193}\n"
          ]
        }
      ],
      "source": [
        "print(cv.vocabulary_)"
      ]
    },
    {
      "cell_type": "code",
      "execution_count": null,
      "id": "7390e7ab",
      "metadata": {
        "id": "7390e7ab",
        "outputId": "b7398612-9d95-4b3f-be1d-c2143619f74d"
      },
      "outputs": [
        {
          "data": {
            "text/plain": [
              "200"
            ]
          },
          "execution_count": 61,
          "metadata": {},
          "output_type": "execute_result"
        }
      ],
      "source": [
        "len(cv.vocabulary_)"
      ]
    },
    {
      "cell_type": "markdown",
      "id": "9b20f697",
      "metadata": {
        "id": "9b20f697"
      },
      "source": [
        "### TF-IDF\n",
        "\n",
        "Term Frequency-Inverse Document Frequency model (TFIDF) : It is used to convert text documents to matrix of tfidf features."
      ]
    },
    {
      "cell_type": "code",
      "execution_count": null,
      "id": "3d461864",
      "metadata": {
        "id": "3d461864"
      },
      "outputs": [],
      "source": [
        "tfidfvec = TfidfVectorizer(stop_words = \"english\", min_df = 10, max_df=200, max_features = 2000)"
      ]
    },
    {
      "cell_type": "code",
      "execution_count": null,
      "id": "daa08dc4",
      "metadata": {
        "id": "daa08dc4"
      },
      "outputs": [],
      "source": [
        "#parse matrix to numpy array to_array\n",
        "x_train_tfidf= tfidfvec.fit_transform(x_train['review']).toarray()\n",
        "x_test_tfidf = tfidfvec.transform(x_test['review']).toarray()"
      ]
    },
    {
      "cell_type": "code",
      "execution_count": null,
      "id": "4a3952d1",
      "metadata": {
        "id": "4a3952d1",
        "outputId": "f1735dfc-c820-4fc9-e5cf-f952069ccf98"
      },
      "outputs": [
        {
          "name": "stdout",
          "output_type": "stream",
          "text": [
            "{'weakness': 1958, 'destiny': 487, 'murderous': 1169, 'cox': 408, 'scale': 1555, 'afternoon': 57, 'rental': 1466, 'lip': 1043, 'tense': 1803, 'tight': 1831, 'significant': 1623, 'statement': 1703, 'thirty': 1818, 'secretary': 1569, 'bleak': 179, 'enter': 587, 'vincent': 1931, 'ad': 42, 'assistant': 115, 'meeting': 1115, 'hoped': 855, 'sleazy': 1647, 'letter': 1030, 'discovers': 514, 'spy': 1694, 'join': 966, 'gain': 725, 'freedom': 711, 'seat': 1568, 'unlikely': 1907, 'factor': 640, 'sensitive': 1580, 'hearing': 818, 'aid': 59, 'rank': 1418, 'noir': 1202, 'farm': 652, 'lying': 1074, 'burning': 242, 'iti': 940, 'unable': 1885, 'fictional': 662, 'conspiracy': 373, 'internet': 922, 'price': 1356, 'ran': 1416, 'refuse': 1443, 'program': 1374, 'overrated': 1257, 'reader': 1425, '710': 24, 'mainstream': 1085, 'bag': 136, 'thrill': 1822, 'itthe': 941, '25': 19, 'hardcore': 805, 'appropriate': 105, 'critical': 423, 'religion': 1455, 'remaining': 1458, 'acceptable': 32, 'revealed': 1494, 'bbc': 149, 'broadcast': 226, 'bible': 166, 'priest': 1358, 'skin': 1641, '14': 4, 'photographed': 1295, 'closeup': 334, 'portion': 1325, 'imagery': 884, 'grant': 764, 'execution': 616, 'forest': 691, 'painting': 1266, 'bridge': 218, 'wrap': 1993, 'neat': 1186, 'guilty': 787, 'achieved': 39, 'fallen': 646, 'urge': 1911, 'separate': 1583, 'noble': 1201, 'parallel': 1272, 'beast': 151, 'logical': 1051, 'sexuality': 1593, 'fairy': 643, 'surrounded': 1769, 'anne': 96, 'happiness': 804, 'lonely': 1052, 'prince': 1361, 'edward': 564, 'delight': 467, 'helen': 824, 'command': 353, 'innocence': 905, 'australian': 130, 'shy': 1620, 'welcome': 1966, 'arrives': 109, 'brown': 232, 'grab': 760, 'neighbor': 1191, 'bollywood': 192, 'combination': 347, 'godfather': 750, 'portrays': 1328, 'expert': 625, 'grow': 778, 'hugh': 865, 'figured': 664, 'driven': 540, 'competition': 359, 'knight': 995, 'greater': 769, 'uwe': 1916, 'boll': 191, 'downright': 528, 'chain': 289, 'bigger': 167, 'generic': 734, 'forgive': 693, 'stupidity': 1739, 'origin': 1246, 'grew': 772, 'circumstance': 321, 'civil': 323, 'vietnam': 1928, 'beach': 150, 'alright': 79, 'shut': 1619, 'metal': 1124, 'worthwhile': 1990, 'fat': 653, 'cash': 280, 'favor': 655, 'frustrated': 717, 'excited': 613, 'technique': 1796, 'learned': 1021, 'pulling': 1395, 'complaint': 361, 'essential': 598, 'golden': 753, 'satisfying': 1552, 'concert': 366, 'crash': 414, 'mansion': 1089, 'noise': 1203, 'dinner': 503, 'calling': 256, 'halfway': 790, 'gruesome': 781, 'brilliantly': 222, 'gory': 757, 'bore': 198, 'suffers': 1755, 'horrendous': 857, 'realism': 1427, 'overlooked': 1255, 'tape': 1788, 'friday': 714, 'depiction': 478, 'al': 65, 'existed': 619, 'spoil': 1687, 'motivation': 1159, 'resolution': 1484, 'persona': 1291, 'troubled': 1875, 'seven': 1591, 'pound': 1334, 'dawson': 456, 'performer': 1288, 'portraying': 1327, 'quirky': 1405, 'condition': 367, 'woody': 1985, 'tremendous': 1867, 'sold': 1660, 'blind': 181, 'research': 1480, 'pet': 1292, 'upset': 1909, 'dealt': 459, 'jerry': 956, 'covered': 406, 'lane': 1008, 'southern': 1668, 'soap': 1657, 'douglas': 527, 'jr': 970, 'understood': 1892, 'magnificent': 1084, 'temple': 1801, 'warn': 1949, 'grand': 762, 'underrated': 1891, 'fu': 719, 'caricature': 272, 'india': 895, 'alexander': 72, 'underground': 1890, 'wreck': 1994, 'luckily': 1067, 'prove': 1386, 'entertained': 590, 'dressed': 535, 'baseball': 144, 'uniform': 1898, 'bat': 147, 'creator': 418, 'locked': 1049, 'anderson': 87, 'judge': 971, 'davis': 453, 'colonel': 342, 'cliff': 329, 'setup': 1590, 'spoiled': 1688, 'spin': 1682, 'loss': 1058, 'enjoyment': 585, 'st': 1695, 'stolen': 1716, 'vhs': 1924, 'japan': 947, 'path': 1280, 'buried': 239, 'amateurish': 81, 'junk': 976, 'aint': 62, 'fred': 709, 'haunting': 816, 'included': 892, 'paper': 1270, 'translation': 1859, 'tune': 1877, 'colour': 344, 'minimal': 1139, 'slapstick': 1645, 'paris': 1273, 'texas': 1809, 'et': 601, 'lifetime': 1036, 'irritating': 937, 'joey': 963, 'danny': 448, 'raise': 1412, 'instantly': 914, 'shakespeare': 1597, 'medical': 1114, 'stewart': 1710, 'tie': 1829, 'rifle': 1505, 'adding': 44, 'obsession': 1227, 'laid': 1005, 'cowboy': 407, 'fighter': 663, 'bank': 140, 'dan': 443, 'standing': 1698, 'johnny': 964, 'dean': 460, 'finger': 668, 'hudson': 864, 'range': 1417, 'shootout': 1613, '810': 25, 'pushing': 1403, 'hitman': 839, 'giallo': 740, 'explosion': 632, 'broken': 229, 'bottle': 201, 'territory': 1805, 'reminiscent': 1463, 'bird': 169, 'foreign': 690, 'camerawork': 257, 'knife': 994, 'blade': 174, 'repeated': 1469, 'shall': 1598, 'subtitle': 1745, 'appealing': 102, 'ritter': 1510, 'smoking': 1653, 'dorothy': 526, 'murdered': 1167, 'shocked': 1611, 'moviei': 1162, 'sounded': 1666, 'hunt': 869, 'contrived': 384, 'heavily': 820, 'coincidence': 340, 'lazy': 1019, 'related': 1449, 'screenwriter': 1562, 'experienced': 623, 'knowledge': 997, 'mere': 1122, 'slightest': 1650, 'fare': 651, 'remotely': 1465, 'vague': 1918, 'presumably': 1350, 'committed': 355, 'explains': 627, 'round': 1526, 'tour': 1849, 'albeit': 68, 'amateur': 80, 'native': 1181, 'brave': 210, 'curious': 434, 'curse': 436, 'psycho': 1391, 'murderer': 1168, 'table': 1783, 'rip': 1506, 'wes': 1969, 'craven': 415, 'fortunately': 698, 'worry': 1988, 'ha': 789, 'oneliners': 1241, 'regret': 1447, 'renting': 1467, 'professor': 1372, 'joan': 962, 'ginger': 742, 'rogers': 1519, 'miscast': 1143, 'heroine': 829, 'astaire': 118, 'burn': 240, 'allen': 75, 'routine': 1527, 'pan': 1269, 'treatment': 1864, 'pleasant': 1313, 'servant': 1585, 'remind': 1462, 'keeping': 984, 'distance': 521, 'painfully': 1264, 'unbelievably': 1886, 'useless': 1913, 'push': 1401, 'crowd': 425, 'directly': 506, 'connected': 370, 'raped': 1420, 'screaming': 1560, 'president': 1347, 'bush': 246, 'speech': 1675, 'sword': 1779, 'relative': 1451, '1980s': 11, 'saturday': 1553, 'wrestling': 1995, 'ted': 1798, 'turner': 1879, 'wide': 1973, 'pro': 1369, 'florida': 679, 'weekend': 1964, 'library': 1034, 'lay': 1018, 'switch': 1778, 'multiple': 1165, 'sloppy': 1651, 'disagree': 509, 'staying': 1706, 'gangster': 727, 'motif': 1158, 'behavior': 156, 'paying': 1283, 'breath': 214, 'naturally': 1182, 'abuse': 31, 'substance': 1744, 'reputation': 1476, 'losing': 1057, 'wasting': 1955, 'precious': 1340, 'ridiculously': 1503, 'propaganda': 1380, 'raised': 1413, 'treated': 1863, 'versus': 1922, 'similarity': 1626, 'craft': 410, 'bmovie': 186, 'interaction': 920, 'genuinely': 738, 'requires': 1478, 'lake': 1006, 'button': 249, 'ed': 559, 'dinosaur': 504, 'evidence': 607, 'passing': 1278, 'boat': 188, 'stranger': 1725, 'drunk': 544, 'endearing': 582, 'shadow': 1595, 'puppet': 1398, 'dragged': 530, 'pair': 1267, 'lovable': 1062, 'majority': 1086, 'beloved': 161, 'affected': 52, 'closing': 335, 'height': 823, '11': 1, 'briefly': 219, 'garden': 729, 'perry': 1290, 'praise': 1339, 'jackson': 943, 'pile': 1302, 'beating': 153, 'scared': 1557, 'sleeping': 1648, 'bus': 245, 'driver': 541, 'grown': 779, 'reduced': 1439, 'reunion': 1492, 'weve': 1970, 'load': 1048, 'sake': 1543, 'overly': 1256, 'babe': 134, 'butt': 248, 'bell': 159, 'pack': 1261, 'wedding': 1963, 'angel': 91, 'hanging': 801, 'safe': 1541, 'irony': 936, 'birth': 170, 'nation': 1179, 'selling': 1577, 'river': 1512, 'dude': 549, 'nut': 1222, 'savage': 1554, 'slave': 1646, 'posse': 1330, 'mindless': 1138, 'balance': 138, 'snow': 1656, 'inept': 897, 'progress': 1375, 'charlie': 300, 'chaplin': 294, 'corpse': 397, 'russian': 1535, 'magical': 1083, 'treasure': 1862, 'gift': 741, 'aired': 63, 'horrific': 860, 'sharp': 1602, 'teeth': 1800, 'eat': 557, 'flesh': 676, 'destroy': 488, 'comfortable': 351, 'seeking': 1574, 'bite': 172, 'knock': 996, 'paint': 1265, 'portrait': 1326, 'sheriff': 1606, 'sidekick': 1621, 'drunken': 545, 'attacked': 122, 'freak': 708, 'leslie': 1028, 'authority': 132, 'birthday': 171, 'mst3k': 1164, 'eating': 558, 'racist': 1409, 'succeed': 1747, 'damage': 442, 'dubbing': 548, 'batman': 148, 'drawing': 532, 'lousy': 1061, 'annoyed': 98, 'robin': 1514, 'handle': 797, 'punch': 1397, 'tim': 1833, 'training': 1856, 'remain': 1457, 'faithful': 645, 'cgi': 288, 'network': 1197, 'huh': 866, 'operation': 1243, 'offering': 1237, 'service': 1588, 'dragon': 531, 'hunter': 870, 'loving': 1063, 'returned': 1490, 'hire': 835, 'hiding': 831, 'designed': 485, 'rob': 1513, 'claire': 324, 'dane': 445, 'awkward': 133, 'socalled': 1658, 'pretend': 1351, 'swear': 1776, 'reached': 1423, 'glenn': 744, 'providing': 1389, 'relief': 1454, 'boredom': 199, 'error': 596, 'ann': 94, 'jerk': 955, 'evening': 605, '310': 20, 'bothered': 200, 'pulled': 1394, 'user': 1914, 'amazed': 82, 'michelle': 1129, 'coach': 337, 'rough': 1525, 'indie': 896, 'dreadful': 533, 'julia': 972, 'greatly': 770, 'international': 921, 'intrigue': 924, 'terror': 1806, 'revelation': 1497, 'anthony': 99, 'guide': 785, 'flow': 680, 'influence': 900, 'changing': 293, 'rush': 1532, 'web': 1961, 'prior': 1365, 'context': 377, 'ignored': 882, 'unfortunate': 1896, 'reallife': 1429, 'closet': 333, 'importance': 887, 'buck': 234, 'china': 311, 'provided': 1388, 'insight': 908, 'chinese': 312, 'technically': 1795, 'survive': 1771, 'village': 1930, 'traditional': 1855, 'asian': 112, 'homeless': 847, 'mob': 1148, 'fortune': 699, 'site': 1638, 'increasingly': 894, 'loses': 1056, 'plague': 1309, 'worker': 1986, 'succeeds': 1748, '1970s': 10, 'inspiration': 910, 'shake': 1596, 'silence': 1624, 'drink': 537, 'object': 1223, 'spanish': 1670, 'accused': 37, 'determined': 491, 'hotel': 862, 'guest': 784, 'brian': 216, 'chose': 315, 'explicit': 628, 'soft': 1659, 'core': 394, 'psychological': 1392, 'deliberately': 466, 'possibility': 1331, 'nancy': 1177, 'filmthe': 665, 'relevant': 1453, '1010': 0, 'canadian': 261, 'distant': 522, 'spiritual': 1683, 'idiotic': 880, 'code': 338, 'closely': 331, 'resembles': 1482, 'suspenseful': 1774, 'exercise': 618, 'challenge': 291, 'trapped': 1861, 'dare': 449, 'cell': 287, 'lab': 1003, 'experiment': 624, 'tedious': 1799, 'sucked': 1750, 'fox': 702, 'cried': 421, 'stayed': 1705, 'heroic': 828, 'thug': 1826, 'mountain': 1160, 'storm': 1722, 'gary': 730, 'bobby': 190, 'goofy': 755, 'quest': 1404, 'loosely': 1053, 'resort': 1485, 'struggling': 1737, 'rubbish': 1530, 'cable': 252, 'needle': 1190, 'subplots': 1742, 'exceptional': 612, 'freeman': 712, 'morgan': 1156, 'combined': 349, 'horrid': 859, 'flop': 678, 'express': 633, 'convey': 388, 'caring': 273, 'measure': 1112, 'surreal': 1768, 'nonetheless': 1207, 'ought': 1248, 'aim': 60, 'comical': 352, 'sophisticated': 1664, 'alltime': 78, 'infamous': 899, 'pig': 1301, 'unrealistic': 1908, 'captured': 267, 'tortured': 1847, 'torture': 1846, 'limit': 1039, '17': 5, 'described': 482, 'unfunny': 1897, 'oliver': 1240, 'hardy': 807, 'marry': 1096, 'sport': 1692, 'glass': 743, 'sarah': 1549, 'dry': 546, 'listening': 1046, 'repeat': 1468, 'packed': 1262, 'corny': 396, 'bitter': 173, 'loser': 1055, 'extended': 634, 'musician': 1172, 'breast': 213, 'album': 70, 'warner': 1951, 'category': 282, 'rachel': 1407, 'ward': 1947, 'heat': 819, 'notch': 1214, 'benefit': 162, 'hype': 872, 'wondered': 1984, 'ironic': 935, 'attempting': 124, 'madonna': 1079, 'remembered': 1461, 'relation': 1450, 'convince': 389, 'ala': 66, 'capable': 264, 'explaining': 626, 'existence': 620, 'degree': 465, 'dealing': 458, 'speed': 1676, 'attraction': 126, 'drinking': 538, 'lynch': 1075, 'seek': 1573, 'intellectual': 917, 'stomach': 1717, 'hitchcock': 837, 'cynical': 440, 'morality': 1155, 'competent': 358, 'developing': 493, 'smooth': 1654, 'contrast': 383, 'card': 268, 'faith': 644, 'symbolism': 1780, 'timing': 1835, 'device': 495, 'aforementioned': 54, 'handsome': 799, 'carl': 274, 'spite': 1684, 'dancer': 444, 'rival': 1511, 'ian': 874, 'torn': 1845, 'gordon': 756, 'virtually': 1933, 'gripping': 775, 'chilling': 310, 'visuals': 1936, 'depicted': 477, 'failing': 642, '2001': 14, 'robot': 1515, 'mildly': 1135, 'print': 1364, 'edited': 561, 'dubbed': 547, 'shape': 1600, 'correct': 398, 'dire': 505, 'reasonably': 1431, 'atmospheric': 119, 'involves': 931, 'photographer': 1296, 'ex': 609, 'vacation': 1917, 'sinister': 1634, 'victor': 1926, 'ancient': 86, 'abandoned': 28, 'friendly': 715, 'develops': 494, 'doll': 524, 'performed': 1287, 'deadly': 457, 'slap': 1644, 'suffer': 1752, 'barbara': 141, 'shed': 1603, 'moviethe': 1163, 'dick': 498, 'remark': 1459, 'circle': 320, 'pointed': 1317, 'sin': 1629, 'embarrassed': 576, 'fired': 669, 'roommate': 1522, 'gross': 777, 'cliche': 327, 'italy': 938, 'dennis': 473, 'santa': 1548, 'unexpected': 1894, 'base': 143, 'demand': 471, 'affect': 51, 'buying': 250, 'executive': 617, 'shortly': 1615, 'sunday': 1761, 'originality': 1247, 'prostitute': 1383, 'easier': 555, 'belongs': 160, 'flawless': 675, 'transformation': 1857, 'admire': 46, 'partly': 1276, 'contemporary': 376, 'flash': 673, 'string': 1731, 'ford': 689, 'cooper': 393, 'jean': 951, 'arthur': 110, 'debut': 462, 'warrior': 1953, 'massacre': 1101, 'finale': 666, 'legendary': 1025, 'perfection': 1285, 'excitement': 614, 'plastic': 1312, 'warm': 1948, 'accidentally': 34, 'twin': 1880, 'asleep': 114, 'warned': 1950, 'heck': 821, 'security': 1571, 'guard': 782, 'guessing': 783, 'continuity': 380, 'spike': 1681, 'chosen': 316, 'gritty': 776, 'neighborhood': 1192, 'threat': 1820, 'anger': 92, 'lust': 1073, 'countless': 401, 'proved': 1387, 'comedian': 350, 'prefer': 1342, 'laughter': 1013, '410': 22, 'discovered': 513, 'lower': 1064, 'shelf': 1604, 'blockbuster': 183, 'kubrick': 1000, 'format': 695, 'destroyed': 489, 'homage': 846, 'crude': 426, 'responsible': 1487, 'manage': 1087, 'source': 1667, 'topic': 1844, 'jesus': 958, 'mel': 1116, 'principal': 1363, 'private': 1367, 'trap': 1860, 'harder': 806, 'patient': 1281, 'allowing': 76, 'marie': 1094, 'ryan': 1538, 'strongly': 1734, 'photo': 1294, 'desert': 484, 'unforgettable': 1895, 'hooked': 854, 'identity': 879, 'spectacular': 1674, 'surface': 1767, 'supernatural': 1766, 'superbly': 1763, 'haunted': 815, 'rolling': 1520, 'chair': 290, 'horribly': 858, 'alex': 71, 'surrounding': 1770, 'sudden': 1751, 'mitchell': 1146, 'fame': 648, 'vicious': 1925, 'overcome': 1253, 'von': 1938, 'spooky': 1691, 'largely': 1009, 'obnoxious': 1224, 'blonde': 184, 'pie': 1300, 'grim': 774, 'complicated': 363, 'miserably': 1144, 'develop': 492, 'logic': 1050, 'jail': 944, 'sentence': 1581, 'juvenile': 977, 'bland': 177, 'carol': 275, 'required': 1477, 'wake': 1939, 'danger': 446, 'conversation': 387, 'tall': 1785, 'hitting': 840, 'uninspired': 1899, 'delivery': 470, 'bet': 163, 'bomb': 193, 'discovery': 515, 'mexican': 1126, 'bug': 236, 'dropped': 543, 'mike': 1133, 'cardboard': 269, 'incoherent': 893, 'celebrity': 286, 'theyll': 1815, 'williams': 1975, 'trilogy': 1871, 'carter': 279, 'lloyd': 1047, 'nick': 1199, 'daily': 441, 'contain': 375, 'humorous': 868, 'higher': 832, 'refreshing': 1442, 'margaret': 1092, 'felix': 660, 'joseph': 968, 'denzel': 475, 'washington': 1954, 'charisma': 298, 'happily': 803, 'farce': 650, 'donald': 525, 'africa': 55, 'liberal': 1033, 'cultural': 431, 'glimpse': 745, 'wallace': 1943, 'kevin': 989, 'meaningless': 1111, 'accomplished': 35, 'tradition': 1854, 'relate': 1448, 'pushed': 1402, 'emotionally': 580, 'believed': 157, 'germany': 739, 'settle': 1589, 'mission': 1145, 'outrageous': 1252, 'stopped': 1721, 'couldve': 400, 'cared': 270, 'fish': 670, 'nomination': 1205, 'desperately': 486, 'derek': 481, 'satire': 1551, 'lacked': 1004, 'fly': 681, 'reveal': 1493, 'erotic': 595, 'broad': 225, 'shoulder': 1616, 'harris': 808, 'preview': 1354, 'wilson': 1976, 'holding': 842, 'sympathetic': 1781, 'kung': 1001, 'football': 687, 'serf': 1584, 'ninja': 1200, 'non': 1206, 'method': 1125, 'stan': 1697, 'stood': 1719, 'offered': 1236, 'prize': 1368, 'australia': 129, 'activity': 41, 'talked': 1784, 'poster': 1333, 'clip': 330, 'cousin': 405, 'shop': 1614, 'credible': 420, 'appalling': 101, 'continued': 378, 'touched': 1848, 'matthew': 1107, 'website': 1962, 'jackie': 942, 'chan': 292, 'greek': 771, 'empire': 581, 'prepared': 1345, 'brand': 208, 'rap': 1419, 'sole': 1661, 'advice': 50, 'oil': 1239, 'trade': 1853, 'overdone': 1254, 'politics': 1321, 'accepted': 33, 'border': 197, 'asking': 113, 'producing': 1371, 'toilet': 1840, 'sing': 1631, 'rose': 1524, 'predecessor': 1341, 'instinct': 915, 'stylish': 1740, 'fourth': 701, 'lion': 1042, 'impress': 889, 'stone': 1718, 'stereotypical': 1708, 'notion': 1216, 'norman': 1209, 'offensive': 1235, 'handled': 798, 'delightful': 468, 'ensemble': 586, 'theatrical': 1812, 'crappy': 413, 'spoof': 1690, 'pride': 1357, 'goldberg': 752, 'julie': 973, 'stiller': 1712, 'block': 182, 'monkey': 1151, 'moon': 1153, 'werewolf': 1968, 'mate': 1103, 'breaking': 212, 'suffering': 1754, 'afford': 53, 'target': 1789, 'stretch': 1727, 'burt': 243, 'reynolds': 1501, 'learning': 1022, 'tend': 1802, 'wouldve': 1991, 'min': 1137, 'disgusting': 519, 'hammer': 795, 'tied': 1830, 'letting': 1031, 'ape': 100, 'kim': 991, 'jumping': 974, 'send': 1578, 'suggests': 1756, 'court': 404, 'granted': 765, 'bob': 189, 'sir': 1636, 'pilot': 1303, 'driving': 542, 'placed': 1308, 'neil': 1193, 'simon': 1627, 'uncomfortable': 1888, 'invite': 929, 'burned': 241, 'flynn': 682, 'walter': 1944, 'matthau': 1106, 'ordinary': 1245, 'poignant': 1316, 'rochester': 1516, 'basis': 146, 'timothy': 1836, 'miniseries': 1140, 'merit': 1123, 'test': 1808, 'alan': 67, 'howard': 863, 'taylor': 1792, 'text': 1810, 'melodramatic': 1118, 'france': 704, 'splendid': 1685, 'bo': 187, 'elephant': 572, 'practically': 1337, 'bruce': 233, 'brad': 205, 'pitt': 1306, 'cole': 341, 'terrorist': 1807, 'advantage': 49, 'ice': 875, 'survivor': 1772, 'princess': 1362, 'kidnapped': 990, 'ralph': 1414, 'davy': 454, 'larger': 1010, 'consequence': 371, 'mustsee': 1174, 'worthless': 1989, 'clown': 336, 'insane': 907, 'elvis': 574, 'thomas': 1819, 'shark': 1601, 'tiny': 1837, 'chuck': 318, 'host': 861, 'sitcom': 1637, 'gene': 733, 'facial': 639, 'strike': 1729, 'hysterical': 873, 'kapoor': 979, 'leonard': 1026, 'authentic': 131, 'flawed': 674, 'gate': 732, 'genuine': 737, 'sunshine': 1762, 'boot': 196, 'difficulty': 499, 'walker': 1942, 'lesbian': 1027, 'bedroom': 154, 'repetitive': 1471, 'arnold': 107, 'childrens': 308, 'revolutionary': 1499, 'powell': 1336, 'jake': 945, 'alike': 74, 'technology': 1797, 'occasional': 1229, 'risk': 1509, 'essence': 597, 'consists': 372, 'luke': 1072, 'hood': 852, 'uncle': 1887, 'mask': 1099, 'bright': 220, 'ron': 1521, 'cook': 392, 'parker': 1274, 'shell': 1605, 'controversial': 385, 'report': 1473, 'proper': 1381, 'split': 1686, 'brazil': 211, 'trial': 1868, 'maria': 1093, 'defeat': 464, 'spoken': 1689, 'perform': 1286, 'exploitation': 630, 'mirror': 1142, 'national': 1180, 'nelson': 1194, 'warren': 1952, 'brook': 230, 'parody': 1275, 'searching': 1567, 'nail': 1175, 'freddy': 710, 'argument': 106, 'sun': 1760, 'blown': 185, 'paced': 1259, 'rushed': 1533, 'columbo': 345, 'wealthy': 1959, 'newspaper': 1198, 'discover': 512, 'size': 1639, 'reveals': 1496, 'initially': 903, 'effectively': 566, 'nose': 1211, 'hint': 833, 'bang': 139, 'captain': 265, 'gas': 731, 'tower': 1850, 'mixed': 1147, 'crisis': 422, 'tap': 1787, 'jimmy': 961, 'singer': 1632, 'fever': 661, 'exists': 621, 'ripoff': 1507, 'countryside': 402, 'riding': 1504, 'pregnant': 1343, 'stronger': 1733, 'realizes': 1428, 'peace': 1284, 'suffered': 1753, 'united': 1903, 'exact': 610, 'skit': 1642, 'youth': 1998, 'function': 720, 'absence': 30, 'subplot': 1741, 'endless': 583, 'universe': 1905, 'african': 56, 'extent': 635, 'eighty': 568, 'proud': 1385, 'ambitious': 85, 'visually': 1935, 'weight': 1965, 'citizen': 322, 'regardless': 1446, 'false': 647, 'focused': 683, 'winner': 1978, 'kelly': 985, 'nearby': 1185, 'march': 1091, 'arrested': 108, 'shower': 1618, 'description': 483, 'cup': 432, 'tea': 1793, 'fx': 723, 'vehicle': 1921, 'lucky': 1068, 'mass': 1100, 'melting': 1119, 'nurse': 1221, 'elderly': 571, 'curtis': 437, 'creates': 416, 'baker': 137, 'ultimate': 1884, 'midnight': 1132, 'chill': 309, 'implausible': 886, 'eve': 604, 'mouse': 1161, 'hall': 791, 'initial': 902, 'wanna': 1945, 'elizabeth': 573, 'continues': 379, 'formula': 696, 'wolf': 1983, 'revolves': 1500, 'commit': 354, 'busy': 247, 'relatively': 1452, 'dig': 500, 'intrigued': 925, 'factory': 641, 'holiday': 843, 'passed': 1277, 'page': 1263, 'wise': 1980, 'cusack': 438, 'associated': 116, 'politically': 1319, 'blank': 178, 'hatred': 814, 'cruise': 428, 'wave': 1956, 'revolution': 1498, 'ear': 554, 'bullet': 238, 'proof': 1378, 'invisible': 928, 'rescue': 1479, 'ton': 1842, 'environment': 592, 'pitch': 1305, 'sympathy': 1782, 'quote': 1406, 'roger': 1518, 'broadway': 227, 'health': 817, 'ticket': 1828, 'sketch': 1640, 'deeper': 463, 'titled': 1839, 'discussion': 517, 'seventy': 1592, 'journalist': 969, 'repeatedly': 1470, 'thrilling': 1823, 'cage': 253, 'kitchen': 993, 'embarrassing': 577, 'depressing': 479, 'miracle': 1141, 'exaggerated': 611, 'porn': 1324, 'hopefully': 856, 'writerdirector': 1996, 'weapon': 1960, 'lou': 1059, 'luck': 1066, 'enjoying': 584, 'appreciated': 104, 'albert': 69, 'intent': 919, 'bin': 168, 'henry': 827, 'prime': 1360, 'charge': 297, 'ingredient': 901, 'buff': 235, 'massive': 1102, 'zone': 1999, 'pool': 1322, 'matrix': 1104, 'pity': 1307, 'thankfully': 1811, 'remote': 1464, 'fatal': 654, 'sends': 1579, 'profound': 1373, 'marvelous': 1098, 'bound': 202, 'catherine': 283, 'redemption': 1438, 'achievement': 40, 'nuclear': 1219, 'fbi': 657, 'theory': 1813, 'directorial': 507, 'daring': 450, 'protect': 1384, 'strip': 1732, 'gonna': 754, 'brady': 206, 'clean': 326, 'dynamic': 553, 'halloween': 792, 'usa': 1912, 'tarzan': 1790, 'caused': 285, 'instant': 913, 'icon': 876, 'hed': 822, 'mgm': 1128, 'department': 476, 'chief': 307, 'imaginative': 885, 'nude': 1220, 'plant': 1311, 'jungle': 975, 'official': 1238, 'veteran': 1923, 'listed': 1045, 'tribe': 1869, 'improved': 890, 'storytelling': 1723, 'harry': 809, 'hamilton': 793, 'returning': 1491, 'dress': 534, 'crack': 409, 'pursuit': 1400, 'stock': 1714, 'physically': 1297, 'triumph': 1874, 'rambo': 1415, 'dawn': 455, 'wing': 1977, 'tongue': 1843, 'atrocious': 120, 'choose': 313, 'assume': 117, 'frankly': 707, 'choreography': 314, 'university': 1906, 'occurred': 1231, 'extraordinary': 636, 'status': 1704, 'gratuitous': 766, 'streisand': 1726, 'ego': 567, 'harvey': 812, 'notably': 1213, 'press': 1348, 'religious': 1456, 'sky': 1643, 'goal': 749, 'inspiring': 911, '910': 26, 'occasionally': 1230, 'flight': 677, 'frequently': 713, 'disease': 518, 'spell': 1677, 'devil': 496, 'spends': 1679, 'pacino': 1260, 'courage': 403, 'nerve': 1196, 'morning': 1157, 'irish': 933, 'adapted': 43, 'attempted': 123, 'incident': 891, 'bringing': 223, 'closer': 332, 'guilt': 786, 'depression': 480, 'spending': 1678, 'exploit': 629, 'companion': 357, 'account': 36, 'poverty': 1335, 'union': 1902, 'reporter': 1474, 'carried': 277, 'kate': 982, 'learns': 1023, 'sacrifice': 1539, 'shine': 1607, 'link': 1041, 'snake': 1655, 'hat': 813, 'ideal': 877, 'urban': 1910, 'recognize': 1436, 'catholic': 284, 'wit': 1981, 'root': 1523, 'teach': 1794, 'lewis': 1032, 'forth': 697, 'liking': 1037, 'laurel': 1015, '20th': 17, 'spring': 1693, 'franchise': 705, 'fitting': 672, 'ship': 1609, 'sandler': 1547, 'response': 1486, 'executed': 615, 'specific': 1673, 'andor': 88, 'section': 1570, 'cutting': 439, 'trek': 1866, 'tree': 1865, 'iii': 883, 'uninteresting': 1901, 'scripted': 1563, '2006': 16, 'dear': 461, 'introduction': 926, 'lily': 1038, 'advance': 48, 'regard': 1444, '1930s': 7, 'corrupt': 399, 'stanwyck': 1700, 'throwing': 1825, 'charlotte': 301, 'edition': 562, 'hollow': 844, '1950s': 8, 'concern': 364, 'complain': 360, 'philip': 1293, 'bette': 164, 'obsessed': 1226, 'allows': 77, 'sentimental': 1582, 'naive': 1176, 'position': 1329, 'represents': 1475, 'grey': 773, 'importantly': 888, 'jessica': 957, 'breathtaking': 215, 'carefully': 271, 'eddie': 560, 'murphy': 1170, 'concerning': 365, 'stink': 1713, 'canada': 260, 'ireland': 932, 'north': 1210, 'frame': 703, 'unintentionally': 1900, 'cannibal': 263, 'honor': 851, 'melodrama': 1117, 'campy': 259, 'magazine': 1081, 'spark': 1671, 'jennifer': 953, 'laura': 1014, 'tracy': 1852, 'hang': 800, 'simpson': 1628, 'patrick': 1282, 'steven': 1709, 'structure': 1736, 'andrew': 89, 'hired': 836, 'jaw': 948, 'subsequent': 1743, 'forgettable': 692, 'throat': 1824, 'dirty': 508, 'thief': 1817, 'latest': 1012, 'convinced': 390, 'neck': 1188, 'occurs': 1232, 'blair': 176, 'jon': 967, 'ned': 1189, 'sexually': 1594, 'frightening': 716, 'utter': 1915, 'uneven': 1893, 'demon': 472, 'satan': 1550, 'mexico': 1127, 'duke': 550, 'cube': 430, 'overthetop': 1258, 'lesser': 1029, 'navy': 1183, 'served': 1587, 'communist': 356, 'gentleman': 736, 'harsh': 810, 'criticism': 424, 'piano': 1298, 'soviet': 1669, 'hunting': 871, 'helicopter': 825, 'combat': 346, 'candy': 262, 'roy': 1529, 'speaks': 1672, 'nonexistent': 1208, 'vivid': 1937, 'martial': 1097, 'hong': 850, 'kong': 998, 'identify': 878, 'prejudice': 1344, 'raw': 1422, 'manager': 1088, 'row': 1528, 'helping': 826, 'foster': 700, 'maggie': 1082, 'league': 1020, 'clark': 325, 'typically': 1882, 'jeff': 952, 'eva': 603, 'strictly': 1728, 'sidney': 1622, 'stunt': 1738, 'ruthless': 1537, 'wannabe': 1946, 'prevent': 1353, 'grave': 767, 'forgot': 694, 'walked': 1940, 'coherent': 339, 'picking': 1299, 'glorious': 746, 'strangely': 1724, 'hank': 802, 'andy': 90, 'scheme': 1559, 'hoffman': 841, 'bond': 194, 'trite': 1873, 'population': 1323, 'everyday': 606, 'stanley': 1699, 'keaton': 983, 'futuristic': 722, '3d': 21, 'ken': 986, 'larry': 1011, 'gut': 788, 'ignore': 881, 'fool': 686, '24': 18, 'unconvincing': 1889, 'purely': 1399, 'cheer': 305, 'staff': 1696, 'britain': 224, 'east': 556, 'pressure': 1349, 'eerie': 565, 'shallow': 1599, 'branagh': 207, 'stated': 1702, 'previously': 1355, 'amazingly': 83, 'narration': 1178, 'gotta': 759, 'opened': 1242, 'screening': 1561, 'california': 255, 'sum': 1758, 'outfit': 1251, 'revealing': 1495, 'interpretation': 923, 'investigation': 927, 'ripped': 1508, 'shining': 1608, 'madness': 1078, 'tomato': 1841, 'disbelief': 510, 'blah': 175, 'insulting': 916, 'convoluted': 391, 'scenario': 1558, 'sally': 1544, 'policeman': 1318, 'cinderella': 319, 'stiff': 1711, 'pretentious': 1352, 'spielberg': 1680, 'lucas': 1065, 'reasonable': 1430, 'feed': 659, 'uk': 1883, 'ashamed': 111, 'faced': 638, 'humanity': 867, 'duo': 551, 'viewed': 1929, 'replaced': 1472, 'destruction': 490, 'established': 599, '110': 2, 'lincoln': 1040, 'fonda': 685, 'whilst': 1971, 'necessarily': 1187, 'lawyer': 1017, 'dislike': 520, 'complexity': 362, 'serve': 1586, 'universal': 1904, 'inevitable': 898, 'opposed': 1244, 'samurai': 1545, 'timeless': 1834, 'curiosity': 433, 'mid': 1131, 'forbidden': 688, 'muslim': 1173, 'pleased': 1315, 'rat': 1421, 'em': 575, 'enters': 588, 'mild': 1134, 'aunt': 128, 'titanic': 1838, 'superman': 1765, 'superhero': 1764, 'colorful': 343, '13': 3, 'anime': 93, 'kiss': 992, 'leg': 1024, '18': 6, 'eric': 594, 'contrary': 382, 'pal': 1268, 'regarding': 1445, 'characteristic': 295, 'transition': 1858, 'sings': 1633, 'emma': 579, 'editor': 563, 'jet': 959, 'sullivan': 1757, 'max': 1109, 'generous': 735, 'johnson': 965, 'truck': 1876, 'christ': 317, 'broke': 228, '45': 23, 'virgin': 1932, 'received': 1435, 'fabulous': 637, 'kennedy': 987, 'cabin': 251, 'mickey': 1130, 'lifestyle': 1035, 'ocean': 1233, 'psychotic': 1393, 'audio': 127, 'pirate': 1304, 'mummy': 1166, 'prop': 1379, 'retarded': 1489, 'carrying': 278, 'cameron': 258, 'sink': 1635, 'psychiatrist': 1390, 'task': 1791, 'jealous': 950, 'entertain': 589, 'toy': 1851, 'featured': 658, 'theyve': 1816, 'cruel': 427, 'notorious': 1217, 'noted': 1215, 'beaten': 152, 'characterization': 296, 'lyric': 1076, 'expensive': 622, 'smoke': 1652, 'daniel': 447, 'solve': 1663, 'basement': 145, 'corner': 395, 'achieve': 38, 'involvement': 930, 'modesty': 1149, 'gold': 751, 'mar': 1090, 'believing': 158, 'notable': 1212, 'presentation': 1346, 'jeremy': 954, 'convention': 386, 'attracted': 125, 'lucy': 1069, 'confusion': 368, 'oddly': 1234, 'hook': 853, 'aged': 58, 'sadistic': 1540, 'nerd': 1195, 'prisoner': 1366, 'resemblance': 1481, 'reed': 1440, 'sea': 1564, 'checking': 304, 'rocket': 1517, '911': 27, 'segment': 1575, 'tribute': 1870, 'lisa': 1044, 'practice': 1338, 'racism': 1408, 'castle': 281, 'currently': 435, '2000': 13, 'grandmother': 763, 'walken': 1941, 'inner': 904, 'chasing': 302, 'rebel': 1432, 'captivating': 266, 'credibility': 419, 'soprano': 1665, 'monk': 1150, 'till': 1832, 'fond': 684, 'doc': 523, 'landscape': 1007, 'recall': 1433, 'rage': 1410, 'crafted': 411, 'built': 237, 'creation': 417, 'wizard': 1982, 'frustration': 718, 'sutherland': 1775, 'evident': 608, 'outcome': 1249, 'admittedly': 47, 'fisher': 671, 'delivered': 469, 'carpenter': 276, 'terrifying': 1804, 'obscure': 1225, 'jamie': 946, 'nowadays': 1218, 'ludicrous': 1070, 'striking': 1730, 'burton': 244, 'heston': 830, 'theyd': 1814, 'discus': 516, 'trio': 1872, 'hart': 811, 'rid': 1502, 'ruined': 1531, 'ambition': 84, 'saga': 1542, 'jay': 949, 'turkey': 1878, 'diamond': 497, 'los': 1054, 'connect': 369, '1st': 12, 'successfully': 1749, 'hip': 834, 'mature': 1108, 'handful': 796, 'bride': 217, 'bourne': 203, 'clichéd': 328, 'threatening': 1821, 'disc': 511, 'intensity': 918, 'glover': 748, 'lawrence': 1016, 'nominated': 1204, 'occasion': 1228, 'meaningful': 1110, 'matt': 1105, 'contract': 381, 'grows': 780, 'receive': 1434, 'aka': 64, 'louis': 1060, 'par': 1271, 'appearing': 103, 'twisted': 1881, 'post': 1332, 'funnier': 721, 'emily': 578, 'victoria': 1927, 'duty': 552, 'cheese': 306, 'pun': 1396, 'nazi': 1184, 'estate': 600, 'solo': 1662, 'swedish': 1777, 'politician': 1320, 'entry': 591, 'wayne': 1957, 'outer': 1250, 'sinatra': 1630, 'meat': 1113, 'digital': 501, 'prom': 1376, 'elaborate': 570, 'kane': 978, 'slight': 1649, 'beer': 155, 'blend': 180, 'hitler': 838, 'darkness': 452, 'sean': 1566, 'widmark': 1974, 'moore': 1154, 'virus': 1934, 'bettie': 165, 'subtlety': 1746, 'dentist': 474, 'ruth': 1536, 'drew': 536, 'market': 1095, 'scarecrow': 1556, 'properly': 1382, 'susan': 1773, 'mentally': 1121, 'gradually': 761, 'jewish': 960, 'thumb': 1827, 'barry': 142, 'menacing': 1120, 'summary': 1759, 'gray': 768, 'anna': 95, 'showcase': 1617, 'annie': 97, 'brilliance': 221, 'rain': 1411, 'react': 1424, 'fay': 656, 'performing': 1289, 'silver': 1625, 'wound': 1992, 'starred': 1701, 'vega': 1920, 'struck': 1735, 'winter': 1979, 'contact': 374, 'darker': 451, 'primarily': 1359, 'caine': 254, 'stole': 1715, 'wwii': 1997, 'adequate': 45, 'attached': 121, 'glory': 747, 'seller': 1576, 'worried': 1987, 'promising': 1377, 'innovative': 906, 'korean': 999, 'planning': 1310, 'san': 1546, 'wicked': 1972, 'stooge': 1720, 'combine': 348, 'bone': 195, 'shirt': 1610, 'craig': 412, 'remarkably': 1460, 'miller': 1136, 'realise': 1426, 'boxing': 204, 'lugosi': 1071, 'iron': 934, '1960s': 9, 'montage': 1152, 'aimed': 61, 'museum': 1171, 'explore': 631, 'kenneth': 988, 'dracula': 529, 'recognized': 1437, 'equal': 593, 'inspector': 909, 'mafia': 1080, 'shoe': 1612, 'europe': 602, 'charismatic': 299, 'reel': 1441, 'holmes': 845, 'tame': 1786, 'garbo': 728, 'installment': 912, 'francisco': 706, 'homosexual': 849, 'restaurant': 1488, '2005': 15, 'el': 569, 'item': 939, 'pleasantly': 1314, 'hamlet': 794, 'fancy': 649, 'variety': 1919, 'drivel': 539, 'dignity': 502, 'seed': 1572, 'karen': 980, 'welles': 1967, 'brando': 209, 'kurt': 1002, 'proceeding': 1370, 'alice': 73, 'resident': 1483, 'brosnan': 231, 'gadget': 724, 'gothic': 758, 'crush': 429, 'stealing': 1707, 'abc': 29, 'backdrop': 135, 'homer': 848, 'russell': 1534, 'financial': 667, 'karloff': 981, 'che': 303, 'seagal': 1565, 'macarthur': 1077, 'gandhi': 726, 'pat': 1279}\n"
          ]
        }
      ],
      "source": [
        "print(tfidfvec.vocabulary_)"
      ]
    },
    {
      "cell_type": "code",
      "execution_count": null,
      "id": "455b0b20",
      "metadata": {
        "id": "455b0b20",
        "outputId": "2df07b3c-4699-49e3-b45b-aa791c92e050"
      },
      "outputs": [
        {
          "data": {
            "text/plain": [
              "2000"
            ]
          },
          "execution_count": 65,
          "metadata": {},
          "output_type": "execute_result"
        }
      ],
      "source": [
        "len(tfidfvec.vocabulary_)"
      ]
    },
    {
      "cell_type": "markdown",
      "id": "2063f45a",
      "metadata": {
        "id": "2063f45a"
      },
      "source": [
        "### Word2Vec"
      ]
    },
    {
      "cell_type": "code",
      "source": [
        "# using pre-trained model"
      ],
      "metadata": {
        "id": "7htawfVk_Vxg"
      },
      "id": "7htawfVk_Vxg",
      "execution_count": null,
      "outputs": []
    },
    {
      "cell_type": "code",
      "execution_count": 34,
      "id": "609bda93",
      "metadata": {
        "id": "609bda93"
      },
      "outputs": [],
      "source": [
        "import gensim"
      ]
    },
    {
      "cell_type": "code",
      "execution_count": 35,
      "id": "b1ca6ba7",
      "metadata": {
        "id": "b1ca6ba7"
      },
      "outputs": [],
      "source": [
        "from gensim.models import Word2Vec,KeyedVectors"
      ]
    },
    {
      "cell_type": "code",
      "source": [
        "!wget -c \"https://s3.amazonaws.com/dl4j-distribution/GoogleNews-vectors-negative300.bin.gz\""
      ],
      "metadata": {
        "colab": {
          "base_uri": "https://localhost:8080/"
        },
        "id": "jn7ifjX7-Lyt",
        "outputId": "5e0b3338-c5dc-4076-b857-16d6adb31999"
      },
      "id": "jn7ifjX7-Lyt",
      "execution_count": 42,
      "outputs": [
        {
          "output_type": "stream",
          "name": "stdout",
          "text": [
            "--2023-08-13 08:18:41--  https://s3.amazonaws.com/dl4j-distribution/GoogleNews-vectors-negative300.bin.gz\n",
            "Resolving s3.amazonaws.com (s3.amazonaws.com)... 52.217.200.240, 52.217.121.0, 52.216.137.22, ...\n",
            "Connecting to s3.amazonaws.com (s3.amazonaws.com)|52.217.200.240|:443... connected.\n",
            "HTTP request sent, awaiting response... 404 Not Found\n",
            "2023-08-13 08:18:41 ERROR 404: Not Found.\n",
            "\n"
          ]
        }
      ]
    },
    {
      "cell_type": "code",
      "source": [
        "!gzip -d GoogleNews-vectors-negative300.bin.gz"
      ],
      "metadata": {
        "colab": {
          "base_uri": "https://localhost:8080/"
        },
        "id": "3pW58UPR-L1Z",
        "outputId": "3d7dd107-bbd7-499d-b16d-26e292c1d75f"
      },
      "id": "3pW58UPR-L1Z",
      "execution_count": 43,
      "outputs": [
        {
          "output_type": "stream",
          "name": "stdout",
          "text": [
            "gzip: GoogleNews-vectors-negative300.bin.gz: No such file or directory\n"
          ]
        }
      ]
    },
    {
      "cell_type": "code",
      "source": [
        "import gensim.downloader as api\n",
        "\n",
        "wv = api.load('word2vec-google-news-300')\n",
        "\n",
        "vec_king = wv['king']"
      ],
      "metadata": {
        "colab": {
          "base_uri": "https://localhost:8080/"
        },
        "id": "nIJ55NPZ-L4E",
        "outputId": "cb2cadce-d137-44ca-899c-475c90248579"
      },
      "id": "nIJ55NPZ-L4E",
      "execution_count": null,
      "outputs": [
        {
          "output_type": "stream",
          "name": "stdout",
          "text": [
            "[===========---------------------------------------] 22.1% 366.9/1662.8MB downloaded"
          ]
        }
      ]
    },
    {
      "cell_type": "code",
      "execution_count": 36,
      "id": "3be7df80",
      "metadata": {
        "colab": {
          "base_uri": "https://localhost:8080/",
          "height": 338
        },
        "id": "3be7df80",
        "outputId": "300207a1-da0d-4102-85c2-a3921a7e3f52"
      },
      "outputs": [
        {
          "output_type": "error",
          "ename": "FileNotFoundError",
          "evalue": "ignored",
          "traceback": [
            "\u001b[0;31m---------------------------------------------------------------------------\u001b[0m",
            "\u001b[0;31mFileNotFoundError\u001b[0m                         Traceback (most recent call last)",
            "\u001b[0;32m<ipython-input-36-4213b728527c>\u001b[0m in \u001b[0;36m<cell line: 1>\u001b[0;34m()\u001b[0m\n\u001b[0;32m----> 1\u001b[0;31m \u001b[0mmodel\u001b[0m \u001b[0;34m=\u001b[0m \u001b[0mKeyedVectors\u001b[0m\u001b[0;34m.\u001b[0m\u001b[0mload_word2vec_format\u001b[0m\u001b[0;34m(\u001b[0m\u001b[0;34m'GoogleNews-vectors-negative300.bin'\u001b[0m\u001b[0;34m,\u001b[0m\u001b[0mbinary\u001b[0m\u001b[0;34m=\u001b[0m\u001b[0;32mTrue\u001b[0m\u001b[0;34m,\u001b[0m\u001b[0mlimit\u001b[0m\u001b[0;34m=\u001b[0m\u001b[0;36m500000\u001b[0m\u001b[0;34m)\u001b[0m\u001b[0;34m\u001b[0m\u001b[0;34m\u001b[0m\u001b[0m\n\u001b[0m",
            "\u001b[0;32m/usr/local/lib/python3.10/dist-packages/gensim/models/keyedvectors.py\u001b[0m in \u001b[0;36mload_word2vec_format\u001b[0;34m(cls, fname, fvocab, binary, encoding, unicode_errors, limit, datatype, no_header)\u001b[0m\n\u001b[1;32m   1717\u001b[0m \u001b[0;34m\u001b[0m\u001b[0m\n\u001b[1;32m   1718\u001b[0m         \"\"\"\n\u001b[0;32m-> 1719\u001b[0;31m         return _load_word2vec_format(\n\u001b[0m\u001b[1;32m   1720\u001b[0m             \u001b[0mcls\u001b[0m\u001b[0;34m,\u001b[0m \u001b[0mfname\u001b[0m\u001b[0;34m,\u001b[0m \u001b[0mfvocab\u001b[0m\u001b[0;34m=\u001b[0m\u001b[0mfvocab\u001b[0m\u001b[0;34m,\u001b[0m \u001b[0mbinary\u001b[0m\u001b[0;34m=\u001b[0m\u001b[0mbinary\u001b[0m\u001b[0;34m,\u001b[0m \u001b[0mencoding\u001b[0m\u001b[0;34m=\u001b[0m\u001b[0mencoding\u001b[0m\u001b[0;34m,\u001b[0m \u001b[0municode_errors\u001b[0m\u001b[0;34m=\u001b[0m\u001b[0municode_errors\u001b[0m\u001b[0;34m,\u001b[0m\u001b[0;34m\u001b[0m\u001b[0;34m\u001b[0m\u001b[0m\n\u001b[1;32m   1721\u001b[0m             \u001b[0mlimit\u001b[0m\u001b[0;34m=\u001b[0m\u001b[0mlimit\u001b[0m\u001b[0;34m,\u001b[0m \u001b[0mdatatype\u001b[0m\u001b[0;34m=\u001b[0m\u001b[0mdatatype\u001b[0m\u001b[0;34m,\u001b[0m \u001b[0mno_header\u001b[0m\u001b[0;34m=\u001b[0m\u001b[0mno_header\u001b[0m\u001b[0;34m,\u001b[0m\u001b[0;34m\u001b[0m\u001b[0;34m\u001b[0m\u001b[0m\n",
            "\u001b[0;32m/usr/local/lib/python3.10/dist-packages/gensim/models/keyedvectors.py\u001b[0m in \u001b[0;36m_load_word2vec_format\u001b[0;34m(cls, fname, fvocab, binary, encoding, unicode_errors, limit, datatype, no_header, binary_chunk_size)\u001b[0m\n\u001b[1;32m   2046\u001b[0m \u001b[0;34m\u001b[0m\u001b[0m\n\u001b[1;32m   2047\u001b[0m     \u001b[0mlogger\u001b[0m\u001b[0;34m.\u001b[0m\u001b[0minfo\u001b[0m\u001b[0;34m(\u001b[0m\u001b[0;34m\"loading projection weights from %s\"\u001b[0m\u001b[0;34m,\u001b[0m \u001b[0mfname\u001b[0m\u001b[0;34m)\u001b[0m\u001b[0;34m\u001b[0m\u001b[0;34m\u001b[0m\u001b[0m\n\u001b[0;32m-> 2048\u001b[0;31m     \u001b[0;32mwith\u001b[0m \u001b[0mutils\u001b[0m\u001b[0;34m.\u001b[0m\u001b[0mopen\u001b[0m\u001b[0;34m(\u001b[0m\u001b[0mfname\u001b[0m\u001b[0;34m,\u001b[0m \u001b[0;34m'rb'\u001b[0m\u001b[0;34m)\u001b[0m \u001b[0;32mas\u001b[0m \u001b[0mfin\u001b[0m\u001b[0;34m:\u001b[0m\u001b[0;34m\u001b[0m\u001b[0;34m\u001b[0m\u001b[0m\n\u001b[0m\u001b[1;32m   2049\u001b[0m         \u001b[0;32mif\u001b[0m \u001b[0mno_header\u001b[0m\u001b[0;34m:\u001b[0m\u001b[0;34m\u001b[0m\u001b[0;34m\u001b[0m\u001b[0m\n\u001b[1;32m   2050\u001b[0m             \u001b[0;31m# deduce both vocab_size & vector_size from 1st pass over file\u001b[0m\u001b[0;34m\u001b[0m\u001b[0;34m\u001b[0m\u001b[0m\n",
            "\u001b[0;32m/usr/local/lib/python3.10/dist-packages/smart_open/smart_open_lib.py\u001b[0m in \u001b[0;36mopen\u001b[0;34m(uri, mode, buffering, encoding, errors, newline, closefd, opener, compression, transport_params)\u001b[0m\n\u001b[1;32m    175\u001b[0m         \u001b[0mtransport_params\u001b[0m \u001b[0;34m=\u001b[0m \u001b[0;34m{\u001b[0m\u001b[0;34m}\u001b[0m\u001b[0;34m\u001b[0m\u001b[0;34m\u001b[0m\u001b[0m\n\u001b[1;32m    176\u001b[0m \u001b[0;34m\u001b[0m\u001b[0m\n\u001b[0;32m--> 177\u001b[0;31m     fobj = _shortcut_open(\n\u001b[0m\u001b[1;32m    178\u001b[0m         \u001b[0muri\u001b[0m\u001b[0;34m,\u001b[0m\u001b[0;34m\u001b[0m\u001b[0;34m\u001b[0m\u001b[0m\n\u001b[1;32m    179\u001b[0m         \u001b[0mmode\u001b[0m\u001b[0;34m,\u001b[0m\u001b[0;34m\u001b[0m\u001b[0;34m\u001b[0m\u001b[0m\n",
            "\u001b[0;32m/usr/local/lib/python3.10/dist-packages/smart_open/smart_open_lib.py\u001b[0m in \u001b[0;36m_shortcut_open\u001b[0;34m(uri, mode, compression, buffering, encoding, errors, newline)\u001b[0m\n\u001b[1;32m    361\u001b[0m         \u001b[0mopen_kwargs\u001b[0m\u001b[0;34m[\u001b[0m\u001b[0;34m'errors'\u001b[0m\u001b[0;34m]\u001b[0m \u001b[0;34m=\u001b[0m \u001b[0merrors\u001b[0m\u001b[0;34m\u001b[0m\u001b[0;34m\u001b[0m\u001b[0m\n\u001b[1;32m    362\u001b[0m \u001b[0;34m\u001b[0m\u001b[0m\n\u001b[0;32m--> 363\u001b[0;31m     \u001b[0;32mreturn\u001b[0m \u001b[0m_builtin_open\u001b[0m\u001b[0;34m(\u001b[0m\u001b[0mlocal_path\u001b[0m\u001b[0;34m,\u001b[0m \u001b[0mmode\u001b[0m\u001b[0;34m,\u001b[0m \u001b[0mbuffering\u001b[0m\u001b[0;34m=\u001b[0m\u001b[0mbuffering\u001b[0m\u001b[0;34m,\u001b[0m \u001b[0;34m**\u001b[0m\u001b[0mopen_kwargs\u001b[0m\u001b[0;34m)\u001b[0m\u001b[0;34m\u001b[0m\u001b[0;34m\u001b[0m\u001b[0m\n\u001b[0m\u001b[1;32m    364\u001b[0m \u001b[0;34m\u001b[0m\u001b[0m\n\u001b[1;32m    365\u001b[0m \u001b[0;34m\u001b[0m\u001b[0m\n",
            "\u001b[0;31mFileNotFoundError\u001b[0m: [Errno 2] No such file or directory: 'GoogleNews-vectors-negative300.bin'"
          ]
        }
      ],
      "source": [
        "model = KeyedVectors.load_word2vec_format('GoogleNews-vectors-negative300.bin',binary=True,limit=500000)"
      ]
    },
    {
      "cell_type": "code",
      "execution_count": null,
      "id": "44f250e4",
      "metadata": {
        "id": "44f250e4"
      },
      "outputs": [],
      "source": [
        "# Remove stopwords\n",
        "\n",
        "X_train = X_train['review'].apply(lambda x: [item for item in x.split() if item not in sw_list]).apply(lambda x:\" \".join(x))\n",
        "# Remove stopwords\n",
        "\n",
        "X_test = X_test['review'].apply(lambda x: [item for item in x.split() if item not in sw_list]).apply(lambda x:\" \".join(x))"
      ]
    },
    {
      "cell_type": "code",
      "execution_count": null,
      "id": "f8d630f4",
      "metadata": {
        "id": "f8d630f4"
      },
      "outputs": [],
      "source": [
        "import spacy\n",
        "import en_core_web_sm\n",
        "# Load the spacy model. This takes a few seconds.\n",
        "nlp = en_core_web_sm.load()\n",
        "# Process a sentence using the model\n",
        "doc = nlp(x_train.values[0])\n",
        "print(doc.vector)"
      ]
    },
    {
      "cell_type": "code",
      "execution_count": 45,
      "id": "06429828",
      "metadata": {
        "colab": {
          "base_uri": "https://localhost:8080/"
        },
        "id": "06429828",
        "outputId": "297849eb-399d-4b67-86bd-589d8a443366"
      },
      "outputs": [
        {
          "output_type": "stream",
          "name": "stdout",
          "text": [
            "Collecting https://github.com/explosion/spacy-models/releases/download/en_core_web_sm-2.2.0/en_core_web_sm-2.2.5.tar.gz\n",
            "\u001b[31m  ERROR: HTTP error 404 while getting https://github.com/explosion/spacy-models/releases/download/en_core_web_sm-2.2.0/en_core_web_sm-2.2.5.tar.gz\u001b[0m\u001b[31m\n",
            "\u001b[0m\u001b[31mERROR: Could not install requirement https://github.com/explosion/spacy-models/releases/download/en_core_web_sm-2.2.0/en_core_web_sm-2.2.5.tar.gz because of HTTP error 404 Client Error: Not Found for url: https://github.com/explosion/spacy-models/releases/download/en_core_web_sm-2.2.0/en_core_web_sm-2.2.5.tar.gz for URL https://github.com/explosion/spacy-models/releases/download/en_core_web_sm-2.2.0/en_core_web_sm-2.2.5.tar.gz\u001b[0m\u001b[31m\n",
            "\u001b[0m2023-08-13 08:20:40.208996: W tensorflow/compiler/tf2tensorrt/utils/py_utils.cc:38] TF-TRT Warning: Could not find TensorRT\n",
            "Collecting en-core-web-sm==3.6.0\n",
            "  Downloading https://github.com/explosion/spacy-models/releases/download/en_core_web_sm-3.6.0/en_core_web_sm-3.6.0-py3-none-any.whl (12.8 MB)\n",
            "\u001b[2K     \u001b[90m━━━━━━━━━━━━━━━━━━━━━━━━━━━━━━━━━━━━━━━━\u001b[0m \u001b[32m12.8/12.8 MB\u001b[0m \u001b[31m56.3 MB/s\u001b[0m eta \u001b[36m0:00:00\u001b[0m\n",
            "\u001b[?25hRequirement already satisfied: spacy<3.7.0,>=3.6.0 in /usr/local/lib/python3.10/dist-packages (from en-core-web-sm==3.6.0) (3.6.1)\n",
            "Requirement already satisfied: spacy-legacy<3.1.0,>=3.0.11 in /usr/local/lib/python3.10/dist-packages (from spacy<3.7.0,>=3.6.0->en-core-web-sm==3.6.0) (3.0.12)\n",
            "Requirement already satisfied: spacy-loggers<2.0.0,>=1.0.0 in /usr/local/lib/python3.10/dist-packages (from spacy<3.7.0,>=3.6.0->en-core-web-sm==3.6.0) (1.0.4)\n",
            "Requirement already satisfied: murmurhash<1.1.0,>=0.28.0 in /usr/local/lib/python3.10/dist-packages (from spacy<3.7.0,>=3.6.0->en-core-web-sm==3.6.0) (1.0.9)\n",
            "Requirement already satisfied: cymem<2.1.0,>=2.0.2 in /usr/local/lib/python3.10/dist-packages (from spacy<3.7.0,>=3.6.0->en-core-web-sm==3.6.0) (2.0.7)\n",
            "Requirement already satisfied: preshed<3.1.0,>=3.0.2 in /usr/local/lib/python3.10/dist-packages (from spacy<3.7.0,>=3.6.0->en-core-web-sm==3.6.0) (3.0.8)\n",
            "Requirement already satisfied: thinc<8.2.0,>=8.1.8 in /usr/local/lib/python3.10/dist-packages (from spacy<3.7.0,>=3.6.0->en-core-web-sm==3.6.0) (8.1.11)\n",
            "Requirement already satisfied: wasabi<1.2.0,>=0.9.1 in /usr/local/lib/python3.10/dist-packages (from spacy<3.7.0,>=3.6.0->en-core-web-sm==3.6.0) (1.1.2)\n",
            "Requirement already satisfied: srsly<3.0.0,>=2.4.3 in /usr/local/lib/python3.10/dist-packages (from spacy<3.7.0,>=3.6.0->en-core-web-sm==3.6.0) (2.4.7)\n",
            "Requirement already satisfied: catalogue<2.1.0,>=2.0.6 in /usr/local/lib/python3.10/dist-packages (from spacy<3.7.0,>=3.6.0->en-core-web-sm==3.6.0) (2.0.9)\n",
            "Requirement already satisfied: typer<0.10.0,>=0.3.0 in /usr/local/lib/python3.10/dist-packages (from spacy<3.7.0,>=3.6.0->en-core-web-sm==3.6.0) (0.9.0)\n",
            "Requirement already satisfied: pathy>=0.10.0 in /usr/local/lib/python3.10/dist-packages (from spacy<3.7.0,>=3.6.0->en-core-web-sm==3.6.0) (0.10.2)\n",
            "Requirement already satisfied: smart-open<7.0.0,>=5.2.1 in /usr/local/lib/python3.10/dist-packages (from spacy<3.7.0,>=3.6.0->en-core-web-sm==3.6.0) (6.3.0)\n",
            "Requirement already satisfied: tqdm<5.0.0,>=4.38.0 in /usr/local/lib/python3.10/dist-packages (from spacy<3.7.0,>=3.6.0->en-core-web-sm==3.6.0) (4.66.0)\n",
            "Requirement already satisfied: numpy>=1.15.0 in /usr/local/lib/python3.10/dist-packages (from spacy<3.7.0,>=3.6.0->en-core-web-sm==3.6.0) (1.23.5)\n",
            "Requirement already satisfied: requests<3.0.0,>=2.13.0 in /usr/local/lib/python3.10/dist-packages (from spacy<3.7.0,>=3.6.0->en-core-web-sm==3.6.0) (2.31.0)\n",
            "Requirement already satisfied: pydantic!=1.8,!=1.8.1,<3.0.0,>=1.7.4 in /usr/local/lib/python3.10/dist-packages (from spacy<3.7.0,>=3.6.0->en-core-web-sm==3.6.0) (2.1.1)\n",
            "Requirement already satisfied: jinja2 in /usr/local/lib/python3.10/dist-packages (from spacy<3.7.0,>=3.6.0->en-core-web-sm==3.6.0) (3.1.2)\n",
            "Requirement already satisfied: setuptools in /usr/local/lib/python3.10/dist-packages (from spacy<3.7.0,>=3.6.0->en-core-web-sm==3.6.0) (67.7.2)\n",
            "Requirement already satisfied: packaging>=20.0 in /usr/local/lib/python3.10/dist-packages (from spacy<3.7.0,>=3.6.0->en-core-web-sm==3.6.0) (23.1)\n",
            "Requirement already satisfied: langcodes<4.0.0,>=3.2.0 in /usr/local/lib/python3.10/dist-packages (from spacy<3.7.0,>=3.6.0->en-core-web-sm==3.6.0) (3.3.0)\n",
            "Requirement already satisfied: annotated-types>=0.4.0 in /usr/local/lib/python3.10/dist-packages (from pydantic!=1.8,!=1.8.1,<3.0.0,>=1.7.4->spacy<3.7.0,>=3.6.0->en-core-web-sm==3.6.0) (0.5.0)\n",
            "Requirement already satisfied: pydantic-core==2.4.0 in /usr/local/lib/python3.10/dist-packages (from pydantic!=1.8,!=1.8.1,<3.0.0,>=1.7.4->spacy<3.7.0,>=3.6.0->en-core-web-sm==3.6.0) (2.4.0)\n",
            "Requirement already satisfied: typing-extensions>=4.6.1 in /usr/local/lib/python3.10/dist-packages (from pydantic!=1.8,!=1.8.1,<3.0.0,>=1.7.4->spacy<3.7.0,>=3.6.0->en-core-web-sm==3.6.0) (4.7.1)\n",
            "Requirement already satisfied: charset-normalizer<4,>=2 in /usr/local/lib/python3.10/dist-packages (from requests<3.0.0,>=2.13.0->spacy<3.7.0,>=3.6.0->en-core-web-sm==3.6.0) (3.2.0)\n",
            "Requirement already satisfied: idna<4,>=2.5 in /usr/local/lib/python3.10/dist-packages (from requests<3.0.0,>=2.13.0->spacy<3.7.0,>=3.6.0->en-core-web-sm==3.6.0) (3.4)\n",
            "Requirement already satisfied: urllib3<3,>=1.21.1 in /usr/local/lib/python3.10/dist-packages (from requests<3.0.0,>=2.13.0->spacy<3.7.0,>=3.6.0->en-core-web-sm==3.6.0) (2.0.4)\n",
            "Requirement already satisfied: certifi>=2017.4.17 in /usr/local/lib/python3.10/dist-packages (from requests<3.0.0,>=2.13.0->spacy<3.7.0,>=3.6.0->en-core-web-sm==3.6.0) (2023.7.22)\n",
            "Requirement already satisfied: blis<0.8.0,>=0.7.8 in /usr/local/lib/python3.10/dist-packages (from thinc<8.2.0,>=8.1.8->spacy<3.7.0,>=3.6.0->en-core-web-sm==3.6.0) (0.7.10)\n",
            "Requirement already satisfied: confection<1.0.0,>=0.0.1 in /usr/local/lib/python3.10/dist-packages (from thinc<8.2.0,>=8.1.8->spacy<3.7.0,>=3.6.0->en-core-web-sm==3.6.0) (0.1.1)\n",
            "Requirement already satisfied: click<9.0.0,>=7.1.1 in /usr/local/lib/python3.10/dist-packages (from typer<0.10.0,>=0.3.0->spacy<3.7.0,>=3.6.0->en-core-web-sm==3.6.0) (8.1.6)\n",
            "Requirement already satisfied: MarkupSafe>=2.0 in /usr/local/lib/python3.10/dist-packages (from jinja2->spacy<3.7.0,>=3.6.0->en-core-web-sm==3.6.0) (2.1.3)\n",
            "\u001b[38;5;2m✔ Download and installation successful\u001b[0m\n",
            "You can now load the package via spacy.load('en_core_web_sm')\n"
          ]
        }
      ],
      "source": [
        "!pip install https://github.com/explosion/spacy-models/releases/download/en_core_web_sm-2.2.0/en_core_web_sm-2.2.5.tar.gz\n",
        "!python -m spacy download en_core_web_sm"
      ]
    },
    {
      "cell_type": "code",
      "execution_count": null,
      "id": "db2c7e10",
      "metadata": {
        "id": "db2c7e10"
      },
      "outputs": [],
      "source": [
        "input_arr = []\n",
        "for item in X_train.values:\n",
        "    doc = nlp(item)\n",
        "    input_arr.append(doc.vector)\n",
        "\n",
        "input_arr = np.array(input_arr)"
      ]
    },
    {
      "cell_type": "code",
      "execution_count": null,
      "id": "75cb1393",
      "metadata": {
        "id": "75cb1393"
      },
      "outputs": [],
      "source": [
        "input_test_arr = []\n",
        "for item in X_test.values:\n",
        "    doc = nlp(item)\n",
        "    input_test_arr.append(doc.vector)\n",
        "\n",
        "input_test_arr = np.array(input_test_arr)"
      ]
    },
    {
      "cell_type": "code",
      "execution_count": null,
      "id": "f3a50f9e",
      "metadata": {
        "id": "f3a50f9e"
      },
      "outputs": [],
      "source": [
        "from sklearn.naive_bayes import GaussianNB\n",
        "gnb = GaussianNB()\n",
        "gnb.fit(input_arr,y_train)"
      ]
    },
    {
      "cell_type": "code",
      "execution_count": null,
      "id": "acc77797",
      "metadata": {
        "id": "acc77797"
      },
      "outputs": [],
      "source": [
        "y_pred = gnb.predict(input_test_arr)\n",
        "accuracy_score(y_test,y_pred)"
      ]
    },
    {
      "cell_type": "code",
      "execution_count": null,
      "id": "03b93eaa",
      "metadata": {
        "id": "03b93eaa"
      },
      "outputs": [],
      "source": []
    },
    {
      "cell_type": "code",
      "execution_count": null,
      "id": "f0579384",
      "metadata": {
        "id": "f0579384"
      },
      "outputs": [],
      "source": []
    },
    {
      "cell_type": "markdown",
      "id": "b56faf53",
      "metadata": {
        "id": "b56faf53"
      },
      "source": [
        "## Model Building and Evaluation"
      ]
    },
    {
      "cell_type": "markdown",
      "id": "7badc273",
      "metadata": {
        "id": "7badc273"
      },
      "source": [
        "### 1. Logistic regression"
      ]
    },
    {
      "cell_type": "code",
      "execution_count": null,
      "id": "797d724c",
      "metadata": {
        "id": "797d724c"
      },
      "outputs": [],
      "source": [
        "## Using BOW"
      ]
    },
    {
      "cell_type": "code",
      "execution_count": null,
      "id": "d578edae",
      "metadata": {
        "id": "d578edae"
      },
      "outputs": [],
      "source": [
        "from sklearn.linear_model import LogisticRegression\n",
        "lr= LogisticRegression()"
      ]
    },
    {
      "cell_type": "code",
      "execution_count": null,
      "id": "cdd491d2",
      "metadata": {
        "id": "cdd491d2"
      },
      "outputs": [],
      "source": [
        "lr.fit(x_train_bow,y_train)\n",
        "y_pred = lr.predict(x_test_bow)"
      ]
    },
    {
      "cell_type": "code",
      "execution_count": null,
      "id": "20f892c4",
      "metadata": {
        "id": "20f892c4",
        "outputId": "8930f96c-3a84-4b91-b876-9773ba83eb40"
      },
      "outputs": [
        {
          "data": {
            "text/plain": [
              "0.5922"
            ]
          },
          "execution_count": 69,
          "metadata": {},
          "output_type": "execute_result"
        }
      ],
      "source": [
        "from sklearn.metrics import accuracy_score, recall_score, f1_score, confusion_matrix, classification_report\n",
        "accuracy_score(y_test,y_pred)"
      ]
    },
    {
      "cell_type": "code",
      "execution_count": null,
      "id": "32eb9ae7",
      "metadata": {
        "id": "32eb9ae7"
      },
      "outputs": [],
      "source": [
        "## Using Tf-IDF"
      ]
    },
    {
      "cell_type": "code",
      "execution_count": null,
      "id": "9a9318e0",
      "metadata": {
        "id": "9a9318e0",
        "outputId": "02edf0ff-ed72-4586-9bef-01ebfe154ba2"
      },
      "outputs": [
        {
          "data": {
            "text/plain": [
              "LogisticRegression()"
            ]
          },
          "execution_count": 71,
          "metadata": {},
          "output_type": "execute_result"
        }
      ],
      "source": [
        "lr= LogisticRegression()\n",
        "lr.fit(x_train_tfidf,y_train)"
      ]
    },
    {
      "cell_type": "code",
      "execution_count": null,
      "id": "94b2ebd4",
      "metadata": {
        "id": "94b2ebd4",
        "outputId": "a38bcc1b-776e-4e03-a6fa-91c9cd223601"
      },
      "outputs": [
        {
          "data": {
            "text/plain": [
              "0.7522"
            ]
          },
          "execution_count": 72,
          "metadata": {},
          "output_type": "execute_result"
        }
      ],
      "source": [
        "y_pred = lr.predict(x_test_tfidf)\n",
        "accuracy_score(y_test,y_pred)"
      ]
    },
    {
      "cell_type": "markdown",
      "id": "76cf6aaa",
      "metadata": {
        "id": "76cf6aaa"
      },
      "source": [
        "## 2. GaussianNB"
      ]
    },
    {
      "cell_type": "code",
      "execution_count": null,
      "id": "1c9f9d0d",
      "metadata": {
        "id": "1c9f9d0d"
      },
      "outputs": [],
      "source": [
        "## Using BOW"
      ]
    },
    {
      "cell_type": "code",
      "execution_count": null,
      "id": "2ae90685",
      "metadata": {
        "id": "2ae90685",
        "outputId": "d865cc83-b11e-4493-e8c6-cede6a2be7b2"
      },
      "outputs": [
        {
          "data": {
            "text/plain": [
              "GaussianNB()"
            ]
          },
          "execution_count": 74,
          "metadata": {},
          "output_type": "execute_result"
        }
      ],
      "source": [
        "#Gaussian Naive Bayes algorithm\n",
        "from sklearn.naive_bayes import GaussianNB\n",
        "gnb = GaussianNB()\n",
        "\n",
        "gnb.fit(x_train_bow,y_train)"
      ]
    },
    {
      "cell_type": "code",
      "execution_count": null,
      "id": "11dfb1be",
      "metadata": {
        "id": "11dfb1be",
        "outputId": "5a25ccc2-5a8a-47cb-cc8d-4105ea0aae9d"
      },
      "outputs": [
        {
          "data": {
            "text/plain": [
              "0.5714"
            ]
          },
          "execution_count": 75,
          "metadata": {},
          "output_type": "execute_result"
        }
      ],
      "source": [
        "y_pred = gnb.predict(x_test_bow)\n",
        "\n",
        "from sklearn.metrics import accuracy_score,confusion_matrix\n",
        "accuracy_score(y_test,y_pred)"
      ]
    },
    {
      "cell_type": "code",
      "execution_count": null,
      "id": "f4b5bf3d",
      "metadata": {
        "id": "f4b5bf3d"
      },
      "outputs": [],
      "source": [
        "## Using TF-IDF"
      ]
    },
    {
      "cell_type": "code",
      "execution_count": null,
      "id": "2c6b1d34",
      "metadata": {
        "id": "2c6b1d34",
        "outputId": "d8474b92-d54f-4ca9-9b95-f7e50afab11a"
      },
      "outputs": [
        {
          "data": {
            "text/plain": [
              "GaussianNB()"
            ]
          },
          "execution_count": 77,
          "metadata": {},
          "output_type": "execute_result"
        }
      ],
      "source": [
        "gnb = GaussianNB()\n",
        "\n",
        "gnb.fit(x_train_tfidf,y_train)"
      ]
    },
    {
      "cell_type": "code",
      "execution_count": null,
      "id": "5b60feed",
      "metadata": {
        "id": "5b60feed",
        "outputId": "dbdd48ea-d0ac-4022-dd08-11e998ca8f5d"
      },
      "outputs": [
        {
          "data": {
            "text/plain": [
              "0.7356"
            ]
          },
          "execution_count": 78,
          "metadata": {},
          "output_type": "execute_result"
        }
      ],
      "source": [
        "y_pred = gnb.predict(x_test_tfidf)\n",
        "\n",
        "accuracy_score(y_test,y_pred)"
      ]
    },
    {
      "cell_type": "markdown",
      "id": "480cfa7d",
      "metadata": {
        "id": "480cfa7d"
      },
      "source": [
        "## 3. RandomForestClassifier"
      ]
    },
    {
      "cell_type": "code",
      "execution_count": null,
      "id": "f4b8d009",
      "metadata": {
        "id": "f4b8d009"
      },
      "outputs": [],
      "source": [
        "## Using BOW"
      ]
    },
    {
      "cell_type": "code",
      "execution_count": null,
      "id": "606d5fb3",
      "metadata": {
        "id": "606d5fb3",
        "outputId": "743b24ed-7ba0-4c1e-fdd2-c3f07a2b3ef7"
      },
      "outputs": [
        {
          "data": {
            "text/plain": [
              "0.5804"
            ]
          },
          "execution_count": 80,
          "metadata": {},
          "output_type": "execute_result"
        }
      ],
      "source": [
        "from sklearn.ensemble import RandomForestClassifier\n",
        "rf = RandomForestClassifier()\n",
        "\n",
        "rf.fit(x_train_bow,y_train)\n",
        "y_pred = rf.predict(x_test_bow)\n",
        "accuracy_score(y_test,y_pred)"
      ]
    },
    {
      "cell_type": "code",
      "execution_count": null,
      "id": "d5685351",
      "metadata": {
        "id": "d5685351"
      },
      "outputs": [],
      "source": [
        "## Using TF-IDF"
      ]
    },
    {
      "cell_type": "code",
      "execution_count": null,
      "id": "56ed2487",
      "metadata": {
        "id": "56ed2487",
        "outputId": "27f50120-139e-4cf6-aa13-d3c04dad72a3"
      },
      "outputs": [
        {
          "data": {
            "text/plain": [
              "0.7402"
            ]
          },
          "execution_count": 82,
          "metadata": {},
          "output_type": "execute_result"
        }
      ],
      "source": [
        "rf = RandomForestClassifier()\n",
        "\n",
        "rf.fit(x_train_tfidf,y_train)\n",
        "y_pred = rf.predict(x_test_tfidf)\n",
        "accuracy_score(y_test,y_pred)"
      ]
    },
    {
      "cell_type": "markdown",
      "id": "d2186a29",
      "metadata": {
        "id": "d2186a29"
      },
      "source": [
        "- Best performing one is Random Forest model with TF-IDF feature extraction technique"
      ]
    },
    {
      "cell_type": "markdown",
      "id": "8f5fdd72",
      "metadata": {
        "id": "8f5fdd72"
      },
      "source": [
        "Now, we will try increasing no.of features"
      ]
    },
    {
      "cell_type": "code",
      "execution_count": null,
      "id": "6a215ce1",
      "metadata": {
        "id": "6a215ce1"
      },
      "outputs": [],
      "source": [
        "## With max features = 3000"
      ]
    },
    {
      "cell_type": "code",
      "execution_count": null,
      "id": "91e2d178",
      "metadata": {
        "id": "91e2d178",
        "outputId": "14fdaa54-7e26-420b-91af-77b946c7b25b"
      },
      "outputs": [
        {
          "data": {
            "text/plain": [
              "0.8276"
            ]
          },
          "execution_count": 57,
          "metadata": {},
          "output_type": "execute_result"
        }
      ],
      "source": [
        "cv = CountVectorizer(max_features=3000)\n",
        "\n",
        "x_train_bow = cv.fit_transform(x_train['review']).toarray()\n",
        "x_test_bow = cv.transform(x_test['review']).toarray()\n",
        "\n",
        "rf = RandomForestClassifier()\n",
        "\n",
        "rf.fit(x_train_bow,y_train)\n",
        "y_pred = rf.predict(x_test_bow)\n",
        "accuracy_score(y_test,y_pred)"
      ]
    },
    {
      "cell_type": "code",
      "execution_count": null,
      "id": "bce7361d",
      "metadata": {
        "id": "bce7361d",
        "outputId": "17fb6ff9-b529-44aa-fd3f-b6315333a358"
      },
      "outputs": [
        {
          "data": {
            "text/plain": [
              "0.8366"
            ]
          },
          "execution_count": 83,
          "metadata": {},
          "output_type": "execute_result"
        }
      ],
      "source": [
        "tfidfvec = TfidfVectorizer(max_features=3000)\n",
        "\n",
        "x_train_tfidf = tfidfvec.fit_transform(x_train['review']).toarray()\n",
        "x_test_tfidf = tfidfvec.transform(x_test['review']).toarray()\n",
        "\n",
        "rf = RandomForestClassifier()\n",
        "\n",
        "rf.fit(x_train_tfidf,y_train)\n",
        "y_pred = rf.predict(x_test_tfidf)\n",
        "accuracy_score(y_test,y_pred)"
      ]
    },
    {
      "cell_type": "code",
      "execution_count": null,
      "id": "46bf8a76",
      "metadata": {
        "id": "46bf8a76",
        "outputId": "4803cd47-95e3-4535-d1e2-dd15f5e069a9"
      },
      "outputs": [
        {
          "name": "stdout",
          "output_type": "stream",
          "text": [
            "The accuracy score is:  0.8366\n"
          ]
        }
      ],
      "source": [
        "print('The accuracy score is: ', accuracy_score(y_test,y_pred))"
      ]
    },
    {
      "cell_type": "code",
      "execution_count": null,
      "id": "9e1c6448",
      "metadata": {
        "id": "9e1c6448"
      },
      "outputs": [],
      "source": [
        "from sklearn.metrics import accuracy_score, recall_score, f1_score, confusion_matrix, classification_report"
      ]
    },
    {
      "cell_type": "code",
      "execution_count": null,
      "id": "acc5693d",
      "metadata": {
        "id": "acc5693d",
        "outputId": "c91cce6b-0b65-4524-a8be-853bc3cadfd5"
      },
      "outputs": [
        {
          "data": {
            "text/plain": [
              "0.8328723824575267"
            ]
          },
          "execution_count": 89,
          "metadata": {},
          "output_type": "execute_result"
        }
      ],
      "source": [
        "recall_score(y_test,y_pred)"
      ]
    },
    {
      "cell_type": "code",
      "execution_count": null,
      "id": "0fa3fa39",
      "metadata": {
        "id": "0fa3fa39",
        "outputId": "36c0b268-9524-4735-d095-c226c7afa013"
      },
      "outputs": [
        {
          "data": {
            "text/plain": [
              "0.8376713689648321"
            ]
          },
          "execution_count": 90,
          "metadata": {},
          "output_type": "execute_result"
        }
      ],
      "source": [
        "f1_score(y_test,y_pred)"
      ]
    },
    {
      "cell_type": "code",
      "execution_count": null,
      "id": "6f401d63",
      "metadata": {
        "id": "6f401d63",
        "outputId": "338f63fe-fa28-420d-aa1f-71f87c9a4ca0"
      },
      "outputs": [
        {
          "data": {
            "text/plain": [
              "array([[2075,  394],\n",
              "       [ 423, 2108]], dtype=int64)"
            ]
          },
          "execution_count": 85,
          "metadata": {},
          "output_type": "execute_result"
        }
      ],
      "source": [
        "confusion_matrix(y_test,y_pred)"
      ]
    },
    {
      "cell_type": "code",
      "execution_count": null,
      "id": "12994622",
      "metadata": {
        "id": "12994622",
        "outputId": "3e103939-f717-4b7d-a4ff-d7bf6fa890cd"
      },
      "outputs": [
        {
          "name": "stdout",
          "output_type": "stream",
          "text": [
            "              precision    recall  f1-score   support\n",
            "\n",
            "           0       0.83      0.84      0.84      2469\n",
            "           1       0.84      0.83      0.84      2531\n",
            "\n",
            "    accuracy                           0.84      5000\n",
            "   macro avg       0.84      0.84      0.84      5000\n",
            "weighted avg       0.84      0.84      0.84      5000\n",
            "\n"
          ]
        }
      ],
      "source": [
        "print(classification_report(y_test,y_pred))"
      ]
    },
    {
      "cell_type": "markdown",
      "id": "06452474",
      "metadata": {
        "id": "06452474"
      },
      "source": [
        "#### using N-grams"
      ]
    },
    {
      "cell_type": "code",
      "execution_count": null,
      "id": "16a3a54a",
      "metadata": {
        "id": "16a3a54a"
      },
      "outputs": [],
      "source": [
        "# #N-grams(bi-gram)\n",
        "# cv = CountVectorizer(ngram_range=(1,2),max_features=5000)\n",
        "\n",
        "# X_train_bow = cv.fit_transform(X_train['review']).toarray()\n",
        "# X_test_bow = cv.transform(X_test['review']).toarray()\n",
        "\n",
        "# rf = RandomForestClassifier()\n",
        "\n",
        "# rf.fit(X_train_bow,y_train)\n",
        "# y_pred = rf.predict(X_test_bow)\n",
        "# accuracy_score(y_test,y_pred)"
      ]
    }
  ],
  "metadata": {
    "kernelspec": {
      "display_name": "Python 3",
      "name": "python3"
    },
    "language_info": {
      "codemirror_mode": {
        "name": "ipython",
        "version": 3
      },
      "file_extension": ".py",
      "mimetype": "text/x-python",
      "name": "python",
      "nbconvert_exporter": "python",
      "pygments_lexer": "ipython3",
      "version": "3.9.13"
    },
    "colab": {
      "provenance": [],
      "gpuType": "T4"
    },
    "accelerator": "GPU"
  },
  "nbformat": 4,
  "nbformat_minor": 5
}