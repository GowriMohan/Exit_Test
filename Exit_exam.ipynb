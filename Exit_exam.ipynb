{
 "cells": [
  {
   "cell_type": "markdown",
   "id": "d317c4eb",
   "metadata": {},
   "source": [
    "## Sentiment Analysis on Movie Reviews"
   ]
  },
  {
   "cell_type": "markdown",
   "id": "4bae1a22",
   "metadata": {},
   "source": [
    "The sentiment of reviews is binary, meaning the rating < 5 results in a sentiment score of 0, and rating >=7 have a sentiment score of 1.\n",
    "No individual movie has more than 30 reviews. \n",
    "\n",
    "##### Data fields\n",
    "- id - Unique ID of each review\n",
    "- sentiment - Sentiment of the review; 1 for positive reviews and 0 for negative reviews\n",
    "- review - Text of the revie"
   ]
  },
  {
   "cell_type": "markdown",
   "id": "ffe8dc87",
   "metadata": {},
   "source": [
    "### Problem Statement:\n",
    "\n",
    "Build a sentiment analysis model to classify movie reviews as positive or negative based on the text content. Utilize techniques such as word embeddings, word to vec, Bag of words etc. \n",
    "\n",
    "To accomplish this, you need to follow the below steps:\n",
    "-  Data Preprocessing:\n",
    "- Feature Extraction:\n",
    "- Model Building and Evaluation:\n",
    "- Evaluate the model's performance "
   ]
  },
  {
   "cell_type": "code",
   "execution_count": 1,
   "id": "544ded82",
   "metadata": {},
   "outputs": [],
   "source": [
    "# importing neccessary libraries\n",
    "\n",
    "import numpy as np\n",
    "import pandas as pd\n",
    "import re\n",
    "import nltk\n",
    "import spacy\n",
    "import string\n",
    "\n",
    "from nltk.corpus import stopwords\n",
    "from nltk.tokenize import word_tokenize\n",
    "from nltk.stem import WordNetLemmatizer\n",
    "\n",
    "from sklearn.feature_extraction.text import CountVectorizer\n",
    "from sklearn.feature_extraction.text import TfidfVectorizer"
   ]
  },
  {
   "cell_type": "code",
   "execution_count": 2,
   "id": "3a7a53fc",
   "metadata": {},
   "outputs": [
    {
     "data": {
      "text/html": [
       "<div>\n",
       "<style scoped>\n",
       "    .dataframe tbody tr th:only-of-type {\n",
       "        vertical-align: middle;\n",
       "    }\n",
       "\n",
       "    .dataframe tbody tr th {\n",
       "        vertical-align: top;\n",
       "    }\n",
       "\n",
       "    .dataframe thead th {\n",
       "        text-align: right;\n",
       "    }\n",
       "</style>\n",
       "<table border=\"1\" class=\"dataframe\">\n",
       "  <thead>\n",
       "    <tr style=\"text-align: right;\">\n",
       "      <th></th>\n",
       "      <th>id</th>\n",
       "      <th>sentiment</th>\n",
       "      <th>review</th>\n",
       "    </tr>\n",
       "  </thead>\n",
       "  <tbody>\n",
       "    <tr>\n",
       "      <th>0</th>\n",
       "      <td>5814_8</td>\n",
       "      <td>1</td>\n",
       "      <td>With all this stuff going down at the moment w...</td>\n",
       "    </tr>\n",
       "    <tr>\n",
       "      <th>1</th>\n",
       "      <td>2381_9</td>\n",
       "      <td>1</td>\n",
       "      <td>\\The Classic War of the Worlds\\\" by Timothy Hi...</td>\n",
       "    </tr>\n",
       "    <tr>\n",
       "      <th>2</th>\n",
       "      <td>7759_3</td>\n",
       "      <td>0</td>\n",
       "      <td>The film starts with a manager (Nicholas Bell)...</td>\n",
       "    </tr>\n",
       "    <tr>\n",
       "      <th>3</th>\n",
       "      <td>3630_4</td>\n",
       "      <td>0</td>\n",
       "      <td>It must be assumed that those who praised this...</td>\n",
       "    </tr>\n",
       "    <tr>\n",
       "      <th>4</th>\n",
       "      <td>9495_8</td>\n",
       "      <td>1</td>\n",
       "      <td>Superbly trashy and wondrously unpretentious 8...</td>\n",
       "    </tr>\n",
       "  </tbody>\n",
       "</table>\n",
       "</div>"
      ],
      "text/plain": [
       "       id  sentiment                                             review\n",
       "0  5814_8          1  With all this stuff going down at the moment w...\n",
       "1  2381_9          1  \\The Classic War of the Worlds\\\" by Timothy Hi...\n",
       "2  7759_3          0  The film starts with a manager (Nicholas Bell)...\n",
       "3  3630_4          0  It must be assumed that those who praised this...\n",
       "4  9495_8          1  Superbly trashy and wondrously unpretentious 8..."
      ]
     },
     "execution_count": 2,
     "metadata": {},
     "output_type": "execute_result"
    }
   ],
   "source": [
    "# Reading the dataset\n",
    "data = pd.read_csv('labeledTrainData.tsv', delimiter='\\t')\n",
    "data.head()"
   ]
  },
  {
   "cell_type": "code",
   "execution_count": 3,
   "id": "44807563",
   "metadata": {},
   "outputs": [
    {
     "data": {
      "text/plain": [
       "(25000, 3)"
      ]
     },
     "execution_count": 3,
     "metadata": {},
     "output_type": "execute_result"
    }
   ],
   "source": [
    "data.shape"
   ]
  },
  {
   "cell_type": "code",
   "execution_count": 4,
   "id": "2bb47f9c",
   "metadata": {},
   "outputs": [
    {
     "data": {
      "text/plain": [
       "id           object\n",
       "sentiment     int64\n",
       "review       object\n",
       "dtype: object"
      ]
     },
     "execution_count": 4,
     "metadata": {},
     "output_type": "execute_result"
    }
   ],
   "source": [
    "data.dtypes"
   ]
  },
  {
   "cell_type": "code",
   "execution_count": 5,
   "id": "de1be4ea",
   "metadata": {},
   "outputs": [
    {
     "data": {
      "text/html": [
       "<div>\n",
       "<style scoped>\n",
       "    .dataframe tbody tr th:only-of-type {\n",
       "        vertical-align: middle;\n",
       "    }\n",
       "\n",
       "    .dataframe tbody tr th {\n",
       "        vertical-align: top;\n",
       "    }\n",
       "\n",
       "    .dataframe thead th {\n",
       "        text-align: right;\n",
       "    }\n",
       "</style>\n",
       "<table border=\"1\" class=\"dataframe\">\n",
       "  <thead>\n",
       "    <tr style=\"text-align: right;\">\n",
       "      <th></th>\n",
       "      <th>sentiment</th>\n",
       "    </tr>\n",
       "  </thead>\n",
       "  <tbody>\n",
       "    <tr>\n",
       "      <th>count</th>\n",
       "      <td>25000.00000</td>\n",
       "    </tr>\n",
       "    <tr>\n",
       "      <th>mean</th>\n",
       "      <td>0.50000</td>\n",
       "    </tr>\n",
       "    <tr>\n",
       "      <th>std</th>\n",
       "      <td>0.50001</td>\n",
       "    </tr>\n",
       "    <tr>\n",
       "      <th>min</th>\n",
       "      <td>0.00000</td>\n",
       "    </tr>\n",
       "    <tr>\n",
       "      <th>25%</th>\n",
       "      <td>0.00000</td>\n",
       "    </tr>\n",
       "    <tr>\n",
       "      <th>50%</th>\n",
       "      <td>0.50000</td>\n",
       "    </tr>\n",
       "    <tr>\n",
       "      <th>75%</th>\n",
       "      <td>1.00000</td>\n",
       "    </tr>\n",
       "    <tr>\n",
       "      <th>max</th>\n",
       "      <td>1.00000</td>\n",
       "    </tr>\n",
       "  </tbody>\n",
       "</table>\n",
       "</div>"
      ],
      "text/plain": [
       "         sentiment\n",
       "count  25000.00000\n",
       "mean       0.50000\n",
       "std        0.50001\n",
       "min        0.00000\n",
       "25%        0.00000\n",
       "50%        0.50000\n",
       "75%        1.00000\n",
       "max        1.00000"
      ]
     },
     "execution_count": 5,
     "metadata": {},
     "output_type": "execute_result"
    }
   ],
   "source": [
    "#Summary of the dataset\n",
    "data.describe()"
   ]
  },
  {
   "cell_type": "code",
   "execution_count": 6,
   "id": "9eccbc9b",
   "metadata": {},
   "outputs": [
    {
     "data": {
      "text/plain": [
       "id           0\n",
       "sentiment    0\n",
       "review       0\n",
       "dtype: int64"
      ]
     },
     "execution_count": 6,
     "metadata": {},
     "output_type": "execute_result"
    }
   ],
   "source": [
    "# Checking for null values\n",
    "data.isna().sum()                                # No null values present"
   ]
  },
  {
   "cell_type": "code",
   "execution_count": 7,
   "id": "93037812",
   "metadata": {},
   "outputs": [
    {
     "data": {
      "text/plain": [
       "'\\\\The Classic War of the Worlds\\\\\" by Timothy Hines is a very entertaining film that obviously goes to great effort and lengths to faithfully recreate H. G. Wells\\' classic book. Mr. Hines succeeds in doing so. I, and those who watched his film with me, appreciated the fact that it was not the standard, predictable Hollywood fare that comes out every year, e.g. the Spielberg version with Tom Cruise that had only the slightest resemblance to the book. Obviously, everyone looks for different things in a movie. Those who envision themselves as amateur \\\\\"critics\\\\\" look only to criticize everything they can. Others rate a movie on more important bases,like being entertained, which is why most people never agree with the \\\\\"critics\\\\\". We enjoyed the effort Mr. Hines put into being faithful to H.G. Wells\\' classic novel, and we found it to be very entertaining. This made it easy to overlook what the \\\\\"critics\\\\\" perceive to be its shortcomings.\"'"
      ]
     },
     "execution_count": 7,
     "metadata": {},
     "output_type": "execute_result"
    }
   ],
   "source": [
    "data['review'][1]"
   ]
  },
  {
   "cell_type": "code",
   "execution_count": 8,
   "id": "66a3830d",
   "metadata": {},
   "outputs": [
    {
     "data": {
      "text/plain": [
       "1    12500\n",
       "0    12500\n",
       "Name: sentiment, dtype: int64"
      ]
     },
     "execution_count": 8,
     "metadata": {},
     "output_type": "execute_result"
    }
   ],
   "source": [
    "#sentiment count\n",
    "data['sentiment'].value_counts()            # Dataset is Balanced "
   ]
  },
  {
   "cell_type": "code",
   "execution_count": 9,
   "id": "90ff8f93",
   "metadata": {},
   "outputs": [
    {
     "data": {
      "text/plain": [
       "0"
      ]
     },
     "execution_count": 9,
     "metadata": {},
     "output_type": "execute_result"
    }
   ],
   "source": [
    "# Checking for duplicate values\n",
    "data.duplicated().sum()                    # No duplicate values present"
   ]
  },
  {
   "cell_type": "markdown",
   "id": "2bce2e17",
   "metadata": {},
   "source": [
    "## Basic Preprocessing\n",
    "- Removing tags\n",
    "- lowercasing\n",
    "- removing punctuations\n",
    "- removing stopwords\n",
    "- lemmatization"
   ]
  },
  {
   "cell_type": "markdown",
   "id": "1d9b5e3f",
   "metadata": {},
   "source": [
    "#### Removing HTML tags"
   ]
  },
  {
   "cell_type": "code",
   "execution_count": 10,
   "id": "d5b745d8",
   "metadata": {},
   "outputs": [],
   "source": [
    "import re\n",
    "def remove_tags(raw_text):\n",
    "    cleaned_text = re.sub(re.compile('<.*?>'), '', raw_text)\n",
    "    return cleaned_text\n",
    "\n",
    "data['review'] = data['review'].apply(remove_tags)"
   ]
  },
  {
   "cell_type": "code",
   "execution_count": 11,
   "id": "56b4153f",
   "metadata": {},
   "outputs": [
    {
     "data": {
      "text/plain": [
       "'\\\\The Classic War of the Worlds\\\\\" by Timothy Hines is a very entertaining film that obviously goes to great effort and lengths to faithfully recreate H. G. Wells\\' classic book. Mr. Hines succeeds in doing so. I, and those who watched his film with me, appreciated the fact that it was not the standard, predictable Hollywood fare that comes out every year, e.g. the Spielberg version with Tom Cruise that had only the slightest resemblance to the book. Obviously, everyone looks for different things in a movie. Those who envision themselves as amateur \\\\\"critics\\\\\" look only to criticize everything they can. Others rate a movie on more important bases,like being entertained, which is why most people never agree with the \\\\\"critics\\\\\". We enjoyed the effort Mr. Hines put into being faithful to H.G. Wells\\' classic novel, and we found it to be very entertaining. This made it easy to overlook what the \\\\\"critics\\\\\" perceive to be its shortcomings.\"'"
      ]
     },
     "execution_count": 11,
     "metadata": {},
     "output_type": "execute_result"
    }
   ],
   "source": [
    "data['review'][1]"
   ]
  },
  {
   "cell_type": "markdown",
   "id": "1cda058d",
   "metadata": {},
   "source": [
    "#### Lowercasing"
   ]
  },
  {
   "cell_type": "code",
   "execution_count": 12,
   "id": "f8d1609e",
   "metadata": {},
   "outputs": [],
   "source": [
    "data['review'] = data['review'].apply(lambda x:x.lower())"
   ]
  },
  {
   "cell_type": "markdown",
   "id": "a6136b97",
   "metadata": {},
   "source": [
    "#### Removing punctuations"
   ]
  },
  {
   "cell_type": "code",
   "execution_count": 13,
   "id": "df5cb026",
   "metadata": {},
   "outputs": [],
   "source": [
    "PUNCT_TO_REMOVE = string.punctuation\n",
    "def remove_punctuation(text):\n",
    "    \"\"\"custom function to remove the punctuation\"\"\"\n",
    "    return text.translate(str.maketrans('', '', PUNCT_TO_REMOVE))\n",
    "\n",
    "\n",
    "data['review'] = data['review'].apply(lambda text: remove_punctuation(text))"
   ]
  },
  {
   "cell_type": "code",
   "execution_count": 14,
   "id": "25760151",
   "metadata": {},
   "outputs": [
    {
     "data": {
      "text/plain": [
       "'the classic war of the worlds by timothy hines is a very entertaining film that obviously goes to great effort and lengths to faithfully recreate h g wells classic book mr hines succeeds in doing so i and those who watched his film with me appreciated the fact that it was not the standard predictable hollywood fare that comes out every year eg the spielberg version with tom cruise that had only the slightest resemblance to the book obviously everyone looks for different things in a movie those who envision themselves as amateur critics look only to criticize everything they can others rate a movie on more important baseslike being entertained which is why most people never agree with the critics we enjoyed the effort mr hines put into being faithful to hg wells classic novel and we found it to be very entertaining this made it easy to overlook what the critics perceive to be its shortcomings'"
      ]
     },
     "execution_count": 14,
     "metadata": {},
     "output_type": "execute_result"
    }
   ],
   "source": [
    "data['review'][1]"
   ]
  },
  {
   "cell_type": "markdown",
   "id": "1b7f2a69",
   "metadata": {},
   "source": [
    "#### Removing stopwords"
   ]
  },
  {
   "cell_type": "code",
   "execution_count": 15,
   "id": "f4617e40",
   "metadata": {},
   "outputs": [],
   "source": [
    "from nltk.corpus import stopwords\n",
    "\n",
    "sw_list = stopwords.words('english')\n",
    "\n",
    "data['review'] = data['review'].apply(lambda x: [item for item in x.split() if item not in sw_list]).apply(lambda x:\" \".join(x))"
   ]
  },
  {
   "cell_type": "code",
   "execution_count": 16,
   "id": "4f007884",
   "metadata": {},
   "outputs": [
    {
     "data": {
      "text/html": [
       "<div>\n",
       "<style scoped>\n",
       "    .dataframe tbody tr th:only-of-type {\n",
       "        vertical-align: middle;\n",
       "    }\n",
       "\n",
       "    .dataframe tbody tr th {\n",
       "        vertical-align: top;\n",
       "    }\n",
       "\n",
       "    .dataframe thead th {\n",
       "        text-align: right;\n",
       "    }\n",
       "</style>\n",
       "<table border=\"1\" class=\"dataframe\">\n",
       "  <thead>\n",
       "    <tr style=\"text-align: right;\">\n",
       "      <th></th>\n",
       "      <th>id</th>\n",
       "      <th>sentiment</th>\n",
       "      <th>review</th>\n",
       "    </tr>\n",
       "  </thead>\n",
       "  <tbody>\n",
       "    <tr>\n",
       "      <th>0</th>\n",
       "      <td>5814_8</td>\n",
       "      <td>1</td>\n",
       "      <td>stuff going moment mj ive started listening mu...</td>\n",
       "    </tr>\n",
       "    <tr>\n",
       "      <th>1</th>\n",
       "      <td>2381_9</td>\n",
       "      <td>1</td>\n",
       "      <td>classic war worlds timothy hines entertaining ...</td>\n",
       "    </tr>\n",
       "    <tr>\n",
       "      <th>2</th>\n",
       "      <td>7759_3</td>\n",
       "      <td>0</td>\n",
       "      <td>film starts manager nicholas bell giving welco...</td>\n",
       "    </tr>\n",
       "    <tr>\n",
       "      <th>3</th>\n",
       "      <td>3630_4</td>\n",
       "      <td>0</td>\n",
       "      <td>must assumed praised film greatest filmed oper...</td>\n",
       "    </tr>\n",
       "    <tr>\n",
       "      <th>4</th>\n",
       "      <td>9495_8</td>\n",
       "      <td>1</td>\n",
       "      <td>superbly trashy wondrously unpretentious 80s e...</td>\n",
       "    </tr>\n",
       "  </tbody>\n",
       "</table>\n",
       "</div>"
      ],
      "text/plain": [
       "       id  sentiment                                             review\n",
       "0  5814_8          1  stuff going moment mj ive started listening mu...\n",
       "1  2381_9          1  classic war worlds timothy hines entertaining ...\n",
       "2  7759_3          0  film starts manager nicholas bell giving welco...\n",
       "3  3630_4          0  must assumed praised film greatest filmed oper...\n",
       "4  9495_8          1  superbly trashy wondrously unpretentious 80s e..."
      ]
     },
     "execution_count": 16,
     "metadata": {},
     "output_type": "execute_result"
    }
   ],
   "source": [
    "data.head()"
   ]
  },
  {
   "cell_type": "markdown",
   "id": "37d99207",
   "metadata": {},
   "source": [
    "#### Lemmatization"
   ]
  },
  {
   "cell_type": "code",
   "execution_count": 17,
   "id": "ba9161d8",
   "metadata": {},
   "outputs": [
    {
     "name": "stderr",
     "output_type": "stream",
     "text": [
      "[nltk_data] Downloading package wordnet to\n",
      "[nltk_data]     C:\\Users\\Mohan\\AppData\\Roaming\\nltk_data...\n",
      "[nltk_data]   Package wordnet is already up-to-date!\n"
     ]
    },
    {
     "data": {
      "text/plain": [
       "True"
      ]
     },
     "execution_count": 17,
     "metadata": {},
     "output_type": "execute_result"
    }
   ],
   "source": [
    "import nltk\n",
    "nltk.download('wordnet')"
   ]
  },
  {
   "cell_type": "code",
   "execution_count": 18,
   "id": "50ae5fd1",
   "metadata": {},
   "outputs": [
    {
     "data": {
      "text/html": [
       "<div>\n",
       "<style scoped>\n",
       "    .dataframe tbody tr th:only-of-type {\n",
       "        vertical-align: middle;\n",
       "    }\n",
       "\n",
       "    .dataframe tbody tr th {\n",
       "        vertical-align: top;\n",
       "    }\n",
       "\n",
       "    .dataframe thead th {\n",
       "        text-align: right;\n",
       "    }\n",
       "</style>\n",
       "<table border=\"1\" class=\"dataframe\">\n",
       "  <thead>\n",
       "    <tr style=\"text-align: right;\">\n",
       "      <th></th>\n",
       "      <th>id</th>\n",
       "      <th>sentiment</th>\n",
       "      <th>review</th>\n",
       "    </tr>\n",
       "  </thead>\n",
       "  <tbody>\n",
       "    <tr>\n",
       "      <th>0</th>\n",
       "      <td>5814_8</td>\n",
       "      <td>1</td>\n",
       "      <td>stuff going moment mj ive started listening mu...</td>\n",
       "    </tr>\n",
       "    <tr>\n",
       "      <th>1</th>\n",
       "      <td>2381_9</td>\n",
       "      <td>1</td>\n",
       "      <td>classic war world timothy hines entertaining f...</td>\n",
       "    </tr>\n",
       "    <tr>\n",
       "      <th>2</th>\n",
       "      <td>7759_3</td>\n",
       "      <td>0</td>\n",
       "      <td>film start manager nicholas bell giving welcom...</td>\n",
       "    </tr>\n",
       "    <tr>\n",
       "      <th>3</th>\n",
       "      <td>3630_4</td>\n",
       "      <td>0</td>\n",
       "      <td>must assumed praised film greatest filmed oper...</td>\n",
       "    </tr>\n",
       "    <tr>\n",
       "      <th>4</th>\n",
       "      <td>9495_8</td>\n",
       "      <td>1</td>\n",
       "      <td>superbly trashy wondrously unpretentious 80 ex...</td>\n",
       "    </tr>\n",
       "  </tbody>\n",
       "</table>\n",
       "</div>"
      ],
      "text/plain": [
       "       id  sentiment                                             review\n",
       "0  5814_8          1  stuff going moment mj ive started listening mu...\n",
       "1  2381_9          1  classic war world timothy hines entertaining f...\n",
       "2  7759_3          0  film start manager nicholas bell giving welcom...\n",
       "3  3630_4          0  must assumed praised film greatest filmed oper...\n",
       "4  9495_8          1  superbly trashy wondrously unpretentious 80 ex..."
      ]
     },
     "execution_count": 18,
     "metadata": {},
     "output_type": "execute_result"
    }
   ],
   "source": [
    "from nltk.stem import WordNetLemmatizer\n",
    "\n",
    "lemmatizer = WordNetLemmatizer()\n",
    "def lemmatize_words(text):\n",
    "    return \" \".join([lemmatizer.lemmatize(word) for word in text.split()])\n",
    "\n",
    "data[\"review\"] = data[\"review\"].apply(lambda text: lemmatize_words(text))\n",
    "data.head()"
   ]
  },
  {
   "cell_type": "markdown",
   "id": "45f6a3a0",
   "metadata": {},
   "source": [
    "## Feature Extraction Techniques:\n",
    "- BOW\n",
    "- TF-IDF\n",
    "- Word2Vec\n"
   ]
  },
  {
   "cell_type": "code",
   "execution_count": 19,
   "id": "d1379a19",
   "metadata": {},
   "outputs": [
    {
     "data": {
      "text/html": [
       "<div>\n",
       "<style scoped>\n",
       "    .dataframe tbody tr th:only-of-type {\n",
       "        vertical-align: middle;\n",
       "    }\n",
       "\n",
       "    .dataframe tbody tr th {\n",
       "        vertical-align: top;\n",
       "    }\n",
       "\n",
       "    .dataframe thead th {\n",
       "        text-align: right;\n",
       "    }\n",
       "</style>\n",
       "<table border=\"1\" class=\"dataframe\">\n",
       "  <thead>\n",
       "    <tr style=\"text-align: right;\">\n",
       "      <th></th>\n",
       "      <th>review</th>\n",
       "    </tr>\n",
       "  </thead>\n",
       "  <tbody>\n",
       "    <tr>\n",
       "      <th>0</th>\n",
       "      <td>stuff going moment mj ive started listening mu...</td>\n",
       "    </tr>\n",
       "    <tr>\n",
       "      <th>1</th>\n",
       "      <td>classic war world timothy hines entertaining f...</td>\n",
       "    </tr>\n",
       "    <tr>\n",
       "      <th>2</th>\n",
       "      <td>film start manager nicholas bell giving welcom...</td>\n",
       "    </tr>\n",
       "    <tr>\n",
       "      <th>3</th>\n",
       "      <td>must assumed praised film greatest filmed oper...</td>\n",
       "    </tr>\n",
       "    <tr>\n",
       "      <th>4</th>\n",
       "      <td>superbly trashy wondrously unpretentious 80 ex...</td>\n",
       "    </tr>\n",
       "  </tbody>\n",
       "</table>\n",
       "</div>"
      ],
      "text/plain": [
       "                                              review\n",
       "0  stuff going moment mj ive started listening mu...\n",
       "1  classic war world timothy hines entertaining f...\n",
       "2  film start manager nicholas bell giving welcom...\n",
       "3  must assumed praised film greatest filmed oper...\n",
       "4  superbly trashy wondrously unpretentious 80 ex..."
      ]
     },
     "execution_count": 19,
     "metadata": {},
     "output_type": "execute_result"
    }
   ],
   "source": [
    "x = data.iloc[:,2:3]\n",
    "x.head()"
   ]
  },
  {
   "cell_type": "code",
   "execution_count": 20,
   "id": "d9b3b4ac",
   "metadata": {},
   "outputs": [
    {
     "data": {
      "text/plain": [
       "0    1\n",
       "1    1\n",
       "2    0\n",
       "3    0\n",
       "4    1\n",
       "Name: sentiment, dtype: int64"
      ]
     },
     "execution_count": 20,
     "metadata": {},
     "output_type": "execute_result"
    }
   ],
   "source": [
    "y= data['sentiment']\n",
    "y.head()"
   ]
  },
  {
   "cell_type": "code",
   "execution_count": 21,
   "id": "32b2f894",
   "metadata": {},
   "outputs": [],
   "source": [
    "from sklearn.model_selection import train_test_split\n",
    "x_train, x_test, y_train, y_test = train_test_split(x,y,test_size=0.2, random_state=134)"
   ]
  },
  {
   "cell_type": "code",
   "execution_count": 22,
   "id": "2dc5782f",
   "metadata": {},
   "outputs": [
    {
     "data": {
      "text/html": [
       "<div>\n",
       "<style scoped>\n",
       "    .dataframe tbody tr th:only-of-type {\n",
       "        vertical-align: middle;\n",
       "    }\n",
       "\n",
       "    .dataframe tbody tr th {\n",
       "        vertical-align: top;\n",
       "    }\n",
       "\n",
       "    .dataframe thead th {\n",
       "        text-align: right;\n",
       "    }\n",
       "</style>\n",
       "<table border=\"1\" class=\"dataframe\">\n",
       "  <thead>\n",
       "    <tr style=\"text-align: right;\">\n",
       "      <th></th>\n",
       "      <th>review</th>\n",
       "    </tr>\n",
       "  </thead>\n",
       "  <tbody>\n",
       "    <tr>\n",
       "      <th>17272</th>\n",
       "      <td>admit weakness alternate history story wonderf...</td>\n",
       "    </tr>\n",
       "    <tr>\n",
       "      <th>11941</th>\n",
       "      <td>sur me lèvres read lip fine little thriller al...</td>\n",
       "    </tr>\n",
       "    <tr>\n",
       "      <th>2802</th>\n",
       "      <td>sex youve ever farm animal tag line movie prob...</td>\n",
       "    </tr>\n",
       "    <tr>\n",
       "      <th>4511</th>\n",
       "      <td>browsing internet previous sale price ran acro...</td>\n",
       "    </tr>\n",
       "    <tr>\n",
       "      <th>7929</th>\n",
       "      <td>nope going get refuse go along program dont su...</td>\n",
       "    </tr>\n",
       "    <tr>\n",
       "      <th>...</th>\n",
       "      <td>...</td>\n",
       "    </tr>\n",
       "    <tr>\n",
       "      <th>1202</th>\n",
       "      <td>kept attention start finish great performance ...</td>\n",
       "    </tr>\n",
       "    <tr>\n",
       "      <th>13687</th>\n",
       "      <td>take special kind person make movie wretched b...</td>\n",
       "    </tr>\n",
       "    <tr>\n",
       "      <th>11640</th>\n",
       "      <td>found imdb searched film moved almost tear com...</td>\n",
       "    </tr>\n",
       "    <tr>\n",
       "      <th>13862</th>\n",
       "      <td>known fall asleep film usually due combination...</td>\n",
       "    </tr>\n",
       "    <tr>\n",
       "      <th>9699</th>\n",
       "      <td>inlaws weekend film hasten departure failing i...</td>\n",
       "    </tr>\n",
       "  </tbody>\n",
       "</table>\n",
       "<p>20000 rows × 1 columns</p>\n",
       "</div>"
      ],
      "text/plain": [
       "                                                  review\n",
       "17272  admit weakness alternate history story wonderf...\n",
       "11941  sur me lèvres read lip fine little thriller al...\n",
       "2802   sex youve ever farm animal tag line movie prob...\n",
       "4511   browsing internet previous sale price ran acro...\n",
       "7929   nope going get refuse go along program dont su...\n",
       "...                                                  ...\n",
       "1202   kept attention start finish great performance ...\n",
       "13687  take special kind person make movie wretched b...\n",
       "11640  found imdb searched film moved almost tear com...\n",
       "13862  known fall asleep film usually due combination...\n",
       "9699   inlaws weekend film hasten departure failing i...\n",
       "\n",
       "[20000 rows x 1 columns]"
      ]
     },
     "execution_count": 22,
     "metadata": {},
     "output_type": "execute_result"
    }
   ],
   "source": [
    "x_train"
   ]
  },
  {
   "cell_type": "markdown",
   "id": "6446c0fb",
   "metadata": {},
   "source": [
    "### BOW\n",
    "\n",
    "Bags of words model : It is used to convert text documents to numerical vectors or bag of words."
   ]
  },
  {
   "cell_type": "code",
   "execution_count": 28,
   "id": "4261ac73",
   "metadata": {},
   "outputs": [],
   "source": [
    "cv = CountVectorizer(stop_words = \"english\", min_df = 10, max_df=200, max_features = 2000)"
   ]
  },
  {
   "cell_type": "code",
   "execution_count": 29,
   "id": "9fa05231",
   "metadata": {},
   "outputs": [],
   "source": [
    "#parse matrix to numpy array to_array\n",
    "x_train_bow = cv.fit_transform(x_train['review']).toarray()\n",
    "x_test_bow = cv.transform(x_test['review']).toarray()"
   ]
  },
  {
   "cell_type": "code",
   "execution_count": 30,
   "id": "3a0d4d27",
   "metadata": {},
   "outputs": [
    {
     "name": "stdout",
     "output_type": "stream",
     "text": [
      "{'weakness': 1958, 'destiny': 487, 'murderous': 1169, 'cox': 408, 'scale': 1555, 'afternoon': 57, 'rental': 1466, 'lip': 1043, 'tense': 1803, 'tight': 1831, 'significant': 1623, 'statement': 1703, 'thirty': 1818, 'secretary': 1569, 'bleak': 179, 'enter': 587, 'vincent': 1931, 'ad': 42, 'assistant': 115, 'meeting': 1115, 'hoped': 855, 'sleazy': 1647, 'letter': 1030, 'discovers': 514, 'spy': 1694, 'join': 966, 'gain': 725, 'freedom': 711, 'seat': 1568, 'unlikely': 1907, 'factor': 640, 'sensitive': 1580, 'hearing': 818, 'aid': 59, 'rank': 1418, 'noir': 1202, 'farm': 652, 'lying': 1074, 'burning': 242, 'iti': 940, 'unable': 1885, 'fictional': 662, 'conspiracy': 373, 'internet': 922, 'price': 1356, 'ran': 1416, 'refuse': 1443, 'program': 1374, 'overrated': 1257, 'reader': 1425, '710': 24, 'mainstream': 1085, 'bag': 136, 'thrill': 1822, 'itthe': 941, '25': 19, 'hardcore': 805, 'appropriate': 105, 'critical': 423, 'religion': 1455, 'remaining': 1458, 'acceptable': 32, 'revealed': 1494, 'bbc': 149, 'broadcast': 226, 'bible': 166, 'priest': 1358, 'skin': 1641, '14': 4, 'photographed': 1295, 'closeup': 334, 'portion': 1325, 'imagery': 884, 'grant': 764, 'execution': 616, 'forest': 691, 'painting': 1266, 'bridge': 218, 'wrap': 1993, 'neat': 1186, 'guilty': 787, 'achieved': 39, 'fallen': 646, 'urge': 1911, 'separate': 1583, 'noble': 1201, 'parallel': 1272, 'beast': 151, 'logical': 1051, 'sexuality': 1593, 'fairy': 643, 'surrounded': 1769, 'anne': 96, 'happiness': 804, 'lonely': 1052, 'prince': 1361, 'edward': 564, 'delight': 467, 'helen': 824, 'command': 353, 'innocence': 905, 'australian': 130, 'shy': 1620, 'welcome': 1966, 'arrives': 109, 'brown': 232, 'grab': 760, 'neighbor': 1191, 'bollywood': 192, 'combination': 347, 'godfather': 750, 'portrays': 1328, 'expert': 625, 'grow': 778, 'hugh': 865, 'figured': 664, 'driven': 540, 'competition': 359, 'knight': 995, 'greater': 769, 'uwe': 1916, 'boll': 191, 'downright': 528, 'chain': 289, 'bigger': 167, 'generic': 734, 'forgive': 693, 'stupidity': 1739, 'origin': 1246, 'grew': 772, 'circumstance': 321, 'civil': 323, 'vietnam': 1928, 'beach': 150, 'alright': 79, 'shut': 1619, 'metal': 1124, 'worthwhile': 1990, 'fat': 653, 'cash': 280, 'favor': 655, 'frustrated': 717, 'excited': 613, 'technique': 1796, 'learned': 1021, 'pulling': 1395, 'complaint': 361, 'essential': 598, 'golden': 753, 'satisfying': 1552, 'concert': 366, 'crash': 414, 'mansion': 1089, 'noise': 1203, 'dinner': 503, 'calling': 256, 'halfway': 790, 'gruesome': 781, 'brilliantly': 222, 'gory': 757, 'bore': 198, 'suffers': 1755, 'horrendous': 857, 'realism': 1427, 'overlooked': 1255, 'tape': 1788, 'friday': 714, 'depiction': 478, 'al': 65, 'existed': 619, 'spoil': 1687, 'motivation': 1159, 'resolution': 1484, 'persona': 1291, 'troubled': 1875, 'seven': 1591, 'pound': 1334, 'dawson': 456, 'performer': 1288, 'portraying': 1327, 'quirky': 1405, 'condition': 367, 'woody': 1985, 'tremendous': 1867, 'sold': 1660, 'blind': 181, 'research': 1480, 'pet': 1292, 'upset': 1909, 'dealt': 459, 'jerry': 956, 'covered': 406, 'lane': 1008, 'southern': 1668, 'soap': 1657, 'douglas': 527, 'jr': 970, 'understood': 1892, 'magnificent': 1084, 'temple': 1801, 'warn': 1949, 'grand': 762, 'underrated': 1891, 'fu': 719, 'caricature': 272, 'india': 895, 'alexander': 72, 'underground': 1890, 'wreck': 1994, 'luckily': 1067, 'prove': 1386, 'entertained': 590, 'dressed': 535, 'baseball': 144, 'uniform': 1898, 'bat': 147, 'creator': 418, 'locked': 1049, 'anderson': 87, 'judge': 971, 'davis': 453, 'colonel': 342, 'cliff': 329, 'setup': 1590, 'spoiled': 1688, 'spin': 1682, 'loss': 1058, 'enjoyment': 585, 'st': 1695, 'stolen': 1716, 'vhs': 1924, 'japan': 947, 'path': 1280, 'buried': 239, 'amateurish': 81, 'junk': 976, 'aint': 62, 'fred': 709, 'haunting': 816, 'included': 892, 'paper': 1270, 'translation': 1859, 'tune': 1877, 'colour': 344, 'minimal': 1139, 'slapstick': 1645, 'paris': 1273, 'texas': 1809, 'et': 601, 'lifetime': 1036, 'irritating': 937, 'joey': 963, 'danny': 448, 'raise': 1412, 'instantly': 914, 'shakespeare': 1597, 'medical': 1114, 'stewart': 1710, 'tie': 1829, 'rifle': 1505, 'adding': 44, 'obsession': 1227, 'laid': 1005, 'cowboy': 407, 'fighter': 663, 'bank': 140, 'dan': 443, 'standing': 1698, 'johnny': 964, 'dean': 460, 'finger': 668, 'hudson': 864, 'range': 1417, 'shootout': 1613, '810': 25, 'pushing': 1403, 'hitman': 839, 'giallo': 740, 'explosion': 632, 'broken': 229, 'bottle': 201, 'territory': 1805, 'reminiscent': 1463, 'bird': 169, 'foreign': 690, 'camerawork': 257, 'knife': 994, 'blade': 174, 'repeated': 1469, 'shall': 1598, 'subtitle': 1745, 'appealing': 102, 'ritter': 1510, 'smoking': 1653, 'dorothy': 526, 'murdered': 1167, 'shocked': 1611, 'moviei': 1162, 'sounded': 1666, 'hunt': 869, 'contrived': 384, 'heavily': 820, 'coincidence': 340, 'lazy': 1019, 'related': 1449, 'screenwriter': 1562, 'experienced': 623, 'knowledge': 997, 'mere': 1122, 'slightest': 1650, 'fare': 651, 'remotely': 1465, 'vague': 1918, 'presumably': 1350, 'committed': 355, 'explains': 627, 'round': 1526, 'tour': 1849, 'albeit': 68, 'amateur': 80, 'native': 1181, 'brave': 210, 'curious': 434, 'curse': 436, 'psycho': 1391, 'murderer': 1168, 'table': 1783, 'rip': 1506, 'wes': 1969, 'craven': 415, 'fortunately': 698, 'worry': 1988, 'ha': 789, 'oneliners': 1241, 'regret': 1447, 'renting': 1467, 'professor': 1372, 'joan': 962, 'ginger': 742, 'rogers': 1519, 'miscast': 1143, 'heroine': 829, 'astaire': 118, 'burn': 240, 'allen': 75, 'routine': 1527, 'pan': 1269, 'treatment': 1864, 'pleasant': 1313, 'servant': 1585, 'remind': 1462, 'keeping': 984, 'distance': 521, 'painfully': 1264, 'unbelievably': 1886, 'useless': 1913, 'push': 1401, 'crowd': 425, 'directly': 506, 'connected': 370, 'raped': 1420, 'screaming': 1560, 'president': 1347, 'bush': 246, 'speech': 1675, 'sword': 1779, 'relative': 1451, '1980s': 11, 'saturday': 1553, 'wrestling': 1995, 'ted': 1798, 'turner': 1879, 'wide': 1973, 'pro': 1369, 'florida': 679, 'weekend': 1964, 'library': 1034, 'lay': 1018, 'switch': 1778, 'multiple': 1165, 'sloppy': 1651, 'disagree': 509, 'staying': 1706, 'gangster': 727, 'motif': 1158, 'behavior': 156, 'paying': 1283, 'breath': 214, 'naturally': 1182, 'abuse': 31, 'substance': 1744, 'reputation': 1476, 'losing': 1057, 'wasting': 1955, 'precious': 1340, 'ridiculously': 1503, 'propaganda': 1380, 'raised': 1413, 'treated': 1863, 'versus': 1922, 'similarity': 1626, 'craft': 410, 'bmovie': 186, 'interaction': 920, 'genuinely': 738, 'requires': 1478, 'lake': 1006, 'button': 249, 'ed': 559, 'dinosaur': 504, 'evidence': 607, 'passing': 1278, 'boat': 188, 'stranger': 1725, 'drunk': 544, 'endearing': 582, 'shadow': 1595, 'puppet': 1398, 'dragged': 530, 'pair': 1267, 'lovable': 1062, 'majority': 1086, 'beloved': 161, 'affected': 52, 'closing': 335, 'height': 823, '11': 1, 'briefly': 219, 'garden': 729, 'perry': 1290, 'praise': 1339, 'jackson': 943, 'pile': 1302, 'beating': 153, 'scared': 1557, 'sleeping': 1648, 'bus': 245, 'driver': 541, 'grown': 779, 'reduced': 1439, 'reunion': 1492, 'weve': 1970, 'load': 1048, 'sake': 1543, 'overly': 1256, 'babe': 134, 'butt': 248, 'bell': 159, 'pack': 1261, 'wedding': 1963, 'angel': 91, 'hanging': 801, 'safe': 1541, 'irony': 936, 'birth': 170, 'nation': 1179, 'selling': 1577, 'river': 1512, 'dude': 549, 'nut': 1222, 'savage': 1554, 'slave': 1646, 'posse': 1330, 'mindless': 1138, 'balance': 138, 'snow': 1656, 'inept': 897, 'progress': 1375, 'charlie': 300, 'chaplin': 294, 'corpse': 397, 'russian': 1535, 'magical': 1083, 'treasure': 1862, 'gift': 741, 'aired': 63, 'horrific': 860, 'sharp': 1602, 'teeth': 1800, 'eat': 557, 'flesh': 676, 'destroy': 488, 'comfortable': 351, 'seeking': 1574, 'bite': 172, 'knock': 996, 'paint': 1265, 'portrait': 1326, 'sheriff': 1606, 'sidekick': 1621, 'drunken': 545, 'attacked': 122, 'freak': 708, 'leslie': 1028, 'authority': 132, 'birthday': 171, 'mst3k': 1164, 'eating': 558, 'racist': 1409, 'succeed': 1747, 'damage': 442, 'dubbing': 548, 'batman': 148, 'drawing': 532, 'lousy': 1061, 'annoyed': 98, 'robin': 1514, 'handle': 797, 'punch': 1397, 'tim': 1833, 'training': 1856, 'remain': 1457, 'faithful': 645, 'cgi': 288, 'network': 1197, 'huh': 866, 'operation': 1243, 'offering': 1237, 'service': 1588, 'dragon': 531, 'hunter': 870, 'loving': 1063, 'returned': 1490, 'hire': 835, 'hiding': 831, 'designed': 485, 'rob': 1513, 'claire': 324, 'dane': 445, 'awkward': 133, 'socalled': 1658, 'pretend': 1351, 'swear': 1776, 'reached': 1423, 'glenn': 744, 'providing': 1389, 'relief': 1454, 'boredom': 199, 'error': 596, 'ann': 94, 'jerk': 955, 'evening': 605, '310': 20, 'bothered': 200, 'pulled': 1394, 'user': 1914, 'amazed': 82, 'michelle': 1129, 'coach': 337, 'rough': 1525, 'indie': 896, 'dreadful': 533, 'julia': 972, 'greatly': 770, 'international': 921, 'intrigue': 924, 'terror': 1806, 'revelation': 1497, 'anthony': 99, 'guide': 785, 'flow': 680, 'influence': 900, 'changing': 293, 'rush': 1532, 'web': 1961, 'prior': 1365, 'context': 377, 'ignored': 882, 'unfortunate': 1896, 'reallife': 1429, 'closet': 333, 'importance': 887, 'buck': 234, 'china': 311, 'provided': 1388, 'insight': 908, 'chinese': 312, 'technically': 1795, 'survive': 1771, 'village': 1930, 'traditional': 1855, 'asian': 112, 'homeless': 847, 'mob': 1148, 'fortune': 699, 'site': 1638, 'increasingly': 894, 'loses': 1056, 'plague': 1309, 'worker': 1986, 'succeeds': 1748, '1970s': 10, 'inspiration': 910, 'shake': 1596, 'silence': 1624, 'drink': 537, 'object': 1223, 'spanish': 1670, 'accused': 37, 'determined': 491, 'hotel': 862, 'guest': 784, 'brian': 216, 'chose': 315, 'explicit': 628, 'soft': 1659, 'core': 394, 'psychological': 1392, 'deliberately': 466, 'possibility': 1331, 'nancy': 1177, 'filmthe': 665, 'relevant': 1453, '1010': 0, 'canadian': 261, 'distant': 522, 'spiritual': 1683, 'idiotic': 880, 'code': 338, 'closely': 331, 'resembles': 1482, 'suspenseful': 1774, 'exercise': 618, 'challenge': 291, 'trapped': 1861, 'dare': 449, 'cell': 287, 'lab': 1003, 'experiment': 624, 'tedious': 1799, 'sucked': 1750, 'fox': 702, 'cried': 421, 'stayed': 1705, 'heroic': 828, 'thug': 1826, 'mountain': 1160, 'storm': 1722, 'gary': 730, 'bobby': 190, 'goofy': 755, 'quest': 1404, 'loosely': 1053, 'resort': 1485, 'struggling': 1737, 'rubbish': 1530, 'cable': 252, 'needle': 1190, 'subplots': 1742, 'exceptional': 612, 'freeman': 712, 'morgan': 1156, 'combined': 349, 'horrid': 859, 'flop': 678, 'express': 633, 'convey': 388, 'caring': 273, 'measure': 1112, 'surreal': 1768, 'nonetheless': 1207, 'ought': 1248, 'aim': 60, 'comical': 352, 'sophisticated': 1664, 'alltime': 78, 'infamous': 899, 'pig': 1301, 'unrealistic': 1908, 'captured': 267, 'tortured': 1847, 'torture': 1846, 'limit': 1039, '17': 5, 'described': 482, 'unfunny': 1897, 'oliver': 1240, 'hardy': 807, 'marry': 1096, 'sport': 1692, 'glass': 743, 'sarah': 1549, 'dry': 546, 'listening': 1046, 'repeat': 1468, 'packed': 1262, 'corny': 396, 'bitter': 173, 'loser': 1055, 'extended': 634, 'musician': 1172, 'breast': 213, 'album': 70, 'warner': 1951, 'category': 282, 'rachel': 1407, 'ward': 1947, 'heat': 819, 'notch': 1214, 'benefit': 162, 'hype': 872, 'wondered': 1984, 'ironic': 935, 'attempting': 124, 'madonna': 1079, 'remembered': 1461, 'relation': 1450, 'convince': 389, 'ala': 66, 'capable': 264, 'explaining': 626, 'existence': 620, 'degree': 465, 'dealing': 458, 'speed': 1676, 'attraction': 126, 'drinking': 538, 'lynch': 1075, 'seek': 1573, 'intellectual': 917, 'stomach': 1717, 'hitchcock': 837, 'cynical': 440, 'morality': 1155, 'competent': 358, 'developing': 493, 'smooth': 1654, 'contrast': 383, 'card': 268, 'faith': 644, 'symbolism': 1780, 'timing': 1835, 'device': 495, 'aforementioned': 54, 'handsome': 799, 'carl': 274, 'spite': 1684, 'dancer': 444, 'rival': 1511, 'ian': 874, 'torn': 1845, 'gordon': 756, 'virtually': 1933, 'gripping': 775, 'chilling': 310, 'visuals': 1936, 'depicted': 477, 'failing': 642, '2001': 14, 'robot': 1515, 'mildly': 1135, 'print': 1364, 'edited': 561, 'dubbed': 547, 'shape': 1600, 'correct': 398, 'dire': 505, 'reasonably': 1431, 'atmospheric': 119, 'involves': 931, 'photographer': 1296, 'ex': 609, 'vacation': 1917, 'sinister': 1634, 'victor': 1926, 'ancient': 86, 'abandoned': 28, 'friendly': 715, 'develops': 494, 'doll': 524, 'performed': 1287, 'deadly': 457, 'slap': 1644, 'suffer': 1752, 'barbara': 141, 'shed': 1603, 'moviethe': 1163, 'dick': 498, 'remark': 1459, 'circle': 320, 'pointed': 1317, 'sin': 1629, 'embarrassed': 576, 'fired': 669, 'roommate': 1522, 'gross': 777, 'cliche': 327, 'italy': 938, 'dennis': 473, 'santa': 1548, 'unexpected': 1894, 'base': 143, 'demand': 471, 'affect': 51, 'buying': 250, 'executive': 617, 'shortly': 1615, 'sunday': 1761, 'originality': 1247, 'prostitute': 1383, 'easier': 555, 'belongs': 160, 'flawless': 675, 'transformation': 1857, 'admire': 46, 'partly': 1276, 'contemporary': 376, 'flash': 673, 'string': 1731, 'ford': 689, 'cooper': 393, 'jean': 951, 'arthur': 110, 'debut': 462, 'warrior': 1953, 'massacre': 1101, 'finale': 666, 'legendary': 1025, 'perfection': 1285, 'excitement': 614, 'plastic': 1312, 'warm': 1948, 'accidentally': 34, 'twin': 1880, 'asleep': 114, 'warned': 1950, 'heck': 821, 'security': 1571, 'guard': 782, 'guessing': 783, 'continuity': 380, 'spike': 1681, 'chosen': 316, 'gritty': 776, 'neighborhood': 1192, 'threat': 1820, 'anger': 92, 'lust': 1073, 'countless': 401, 'proved': 1387, 'comedian': 350, 'prefer': 1342, 'laughter': 1013, '410': 22, 'discovered': 513, 'lower': 1064, 'shelf': 1604, 'blockbuster': 183, 'kubrick': 1000, 'format': 695, 'destroyed': 489, 'homage': 846, 'crude': 426, 'responsible': 1487, 'manage': 1087, 'source': 1667, 'topic': 1844, 'jesus': 958, 'mel': 1116, 'principal': 1363, 'private': 1367, 'trap': 1860, 'harder': 806, 'patient': 1281, 'allowing': 76, 'marie': 1094, 'ryan': 1538, 'strongly': 1734, 'photo': 1294, 'desert': 484, 'unforgettable': 1895, 'hooked': 854, 'identity': 879, 'spectacular': 1674, 'surface': 1767, 'supernatural': 1766, 'superbly': 1763, 'haunted': 815, 'rolling': 1520, 'chair': 290, 'horribly': 858, 'alex': 71, 'surrounding': 1770, 'sudden': 1751, 'mitchell': 1146, 'fame': 648, 'vicious': 1925, 'overcome': 1253, 'von': 1938, 'spooky': 1691, 'largely': 1009, 'obnoxious': 1224, 'blonde': 184, 'pie': 1300, 'grim': 774, 'complicated': 363, 'miserably': 1144, 'develop': 492, 'logic': 1050, 'jail': 944, 'sentence': 1581, 'juvenile': 977, 'bland': 177, 'carol': 275, 'required': 1477, 'wake': 1939, 'danger': 446, 'conversation': 387, 'tall': 1785, 'hitting': 840, 'uninspired': 1899, 'delivery': 470, 'bet': 163, 'bomb': 193, 'discovery': 515, 'mexican': 1126, 'bug': 236, 'dropped': 543, 'mike': 1133, 'cardboard': 269, 'incoherent': 893, 'celebrity': 286, 'theyll': 1815, 'williams': 1975, 'trilogy': 1871, 'carter': 279, 'lloyd': 1047, 'nick': 1199, 'daily': 441, 'contain': 375, 'humorous': 868, 'higher': 832, 'refreshing': 1442, 'margaret': 1092, 'felix': 660, 'joseph': 968, 'denzel': 475, 'washington': 1954, 'charisma': 298, 'happily': 803, 'farce': 650, 'donald': 525, 'africa': 55, 'liberal': 1033, 'cultural': 431, 'glimpse': 745, 'wallace': 1943, 'kevin': 989, 'meaningless': 1111, 'accomplished': 35, 'tradition': 1854, 'relate': 1448, 'pushed': 1402, 'emotionally': 580, 'believed': 157, 'germany': 739, 'settle': 1589, 'mission': 1145, 'outrageous': 1252, 'stopped': 1721, 'couldve': 400, 'cared': 270, 'fish': 670, 'nomination': 1205, 'desperately': 486, 'derek': 481, 'satire': 1551, 'lacked': 1004, 'fly': 681, 'reveal': 1493, 'erotic': 595, 'broad': 225, 'shoulder': 1616, 'harris': 808, 'preview': 1354, 'wilson': 1976, 'holding': 842, 'sympathetic': 1781, 'kung': 1001, 'football': 687, 'serf': 1584, 'ninja': 1200, 'non': 1206, 'method': 1125, 'stan': 1697, 'stood': 1719, 'offered': 1236, 'prize': 1368, 'australia': 129, 'activity': 41, 'talked': 1784, 'poster': 1333, 'clip': 330, 'cousin': 405, 'shop': 1614, 'credible': 420, 'appalling': 101, 'continued': 378, 'touched': 1848, 'matthew': 1107, 'website': 1962, 'jackie': 942, 'chan': 292, 'greek': 771, 'empire': 581, 'prepared': 1345, 'brand': 208, 'rap': 1419, 'sole': 1661, 'advice': 50, 'oil': 1239, 'trade': 1853, 'overdone': 1254, 'politics': 1321, 'accepted': 33, 'border': 197, 'asking': 113, 'producing': 1371, 'toilet': 1840, 'sing': 1631, 'rose': 1524, 'predecessor': 1341, 'instinct': 915, 'stylish': 1740, 'fourth': 701, 'lion': 1042, 'impress': 889, 'stone': 1718, 'stereotypical': 1708, 'notion': 1216, 'norman': 1209, 'offensive': 1235, 'handled': 798, 'delightful': 468, 'ensemble': 586, 'theatrical': 1812, 'crappy': 413, 'spoof': 1690, 'pride': 1357, 'goldberg': 752, 'julie': 973, 'stiller': 1712, 'block': 182, 'monkey': 1151, 'moon': 1153, 'werewolf': 1968, 'mate': 1103, 'breaking': 212, 'suffering': 1754, 'afford': 53, 'target': 1789, 'stretch': 1727, 'burt': 243, 'reynolds': 1501, 'learning': 1022, 'tend': 1802, 'wouldve': 1991, 'min': 1137, 'disgusting': 519, 'hammer': 795, 'tied': 1830, 'letting': 1031, 'ape': 100, 'kim': 991, 'jumping': 974, 'send': 1578, 'suggests': 1756, 'court': 404, 'granted': 765, 'bob': 189, 'sir': 1636, 'pilot': 1303, 'driving': 542, 'placed': 1308, 'neil': 1193, 'simon': 1627, 'uncomfortable': 1888, 'invite': 929, 'burned': 241, 'flynn': 682, 'walter': 1944, 'matthau': 1106, 'ordinary': 1245, 'poignant': 1316, 'rochester': 1516, 'basis': 146, 'timothy': 1836, 'miniseries': 1140, 'merit': 1123, 'test': 1808, 'alan': 67, 'howard': 863, 'taylor': 1792, 'text': 1810, 'melodramatic': 1118, 'france': 704, 'splendid': 1685, 'bo': 187, 'elephant': 572, 'practically': 1337, 'bruce': 233, 'brad': 205, 'pitt': 1306, 'cole': 341, 'terrorist': 1807, 'advantage': 49, 'ice': 875, 'survivor': 1772, 'princess': 1362, 'kidnapped': 990, 'ralph': 1414, 'davy': 454, 'larger': 1010, 'consequence': 371, 'mustsee': 1174, 'worthless': 1989, 'clown': 336, 'insane': 907, 'elvis': 574, 'thomas': 1819, 'shark': 1601, 'tiny': 1837, 'chuck': 318, 'host': 861, 'sitcom': 1637, 'gene': 733, 'facial': 639, 'strike': 1729, 'hysterical': 873, 'kapoor': 979, 'leonard': 1026, 'authentic': 131, 'flawed': 674, 'gate': 732, 'genuine': 737, 'sunshine': 1762, 'boot': 196, 'difficulty': 499, 'walker': 1942, 'lesbian': 1027, 'bedroom': 154, 'repetitive': 1471, 'arnold': 107, 'childrens': 308, 'revolutionary': 1499, 'powell': 1336, 'jake': 945, 'alike': 74, 'technology': 1797, 'occasional': 1229, 'risk': 1509, 'essence': 597, 'consists': 372, 'luke': 1072, 'hood': 852, 'uncle': 1887, 'mask': 1099, 'bright': 220, 'ron': 1521, 'cook': 392, 'parker': 1274, 'shell': 1605, 'controversial': 385, 'report': 1473, 'proper': 1381, 'split': 1686, 'brazil': 211, 'trial': 1868, 'maria': 1093, 'defeat': 464, 'spoken': 1689, 'perform': 1286, 'exploitation': 630, 'mirror': 1142, 'national': 1180, 'nelson': 1194, 'warren': 1952, 'brook': 230, 'parody': 1275, 'searching': 1567, 'nail': 1175, 'freddy': 710, 'argument': 106, 'sun': 1760, 'blown': 185, 'paced': 1259, 'rushed': 1533, 'columbo': 345, 'wealthy': 1959, 'newspaper': 1198, 'discover': 512, 'size': 1639, 'reveals': 1496, 'initially': 903, 'effectively': 566, 'nose': 1211, 'hint': 833, 'bang': 139, 'captain': 265, 'gas': 731, 'tower': 1850, 'mixed': 1147, 'crisis': 422, 'tap': 1787, 'jimmy': 961, 'singer': 1632, 'fever': 661, 'exists': 621, 'ripoff': 1507, 'countryside': 402, 'riding': 1504, 'pregnant': 1343, 'stronger': 1733, 'realizes': 1428, 'peace': 1284, 'suffered': 1753, 'united': 1903, 'exact': 610, 'skit': 1642, 'youth': 1998, 'function': 720, 'absence': 30, 'subplot': 1741, 'endless': 583, 'universe': 1905, 'african': 56, 'extent': 635, 'eighty': 568, 'proud': 1385, 'ambitious': 85, 'visually': 1935, 'weight': 1965, 'citizen': 322, 'regardless': 1446, 'false': 647, 'focused': 683, 'winner': 1978, 'kelly': 985, 'nearby': 1185, 'march': 1091, 'arrested': 108, 'shower': 1618, 'description': 483, 'cup': 432, 'tea': 1793, 'fx': 723, 'vehicle': 1921, 'lucky': 1068, 'mass': 1100, 'melting': 1119, 'nurse': 1221, 'elderly': 571, 'curtis': 437, 'creates': 416, 'baker': 137, 'ultimate': 1884, 'midnight': 1132, 'chill': 309, 'implausible': 886, 'eve': 604, 'mouse': 1161, 'hall': 791, 'initial': 902, 'wanna': 1945, 'elizabeth': 573, 'continues': 379, 'formula': 696, 'wolf': 1983, 'revolves': 1500, 'commit': 354, 'busy': 247, 'relatively': 1452, 'dig': 500, 'intrigued': 925, 'factory': 641, 'holiday': 843, 'passed': 1277, 'page': 1263, 'wise': 1980, 'cusack': 438, 'associated': 116, 'politically': 1319, 'blank': 178, 'hatred': 814, 'cruise': 428, 'wave': 1956, 'revolution': 1498, 'ear': 554, 'bullet': 238, 'proof': 1378, 'invisible': 928, 'rescue': 1479, 'ton': 1842, 'environment': 592, 'pitch': 1305, 'sympathy': 1782, 'quote': 1406, 'roger': 1518, 'broadway': 227, 'health': 817, 'ticket': 1828, 'sketch': 1640, 'deeper': 463, 'titled': 1839, 'discussion': 517, 'seventy': 1592, 'journalist': 969, 'repeatedly': 1470, 'thrilling': 1823, 'cage': 253, 'kitchen': 993, 'embarrassing': 577, 'depressing': 479, 'miracle': 1141, 'exaggerated': 611, 'porn': 1324, 'hopefully': 856, 'writerdirector': 1996, 'weapon': 1960, 'lou': 1059, 'luck': 1066, 'enjoying': 584, 'appreciated': 104, 'albert': 69, 'intent': 919, 'bin': 168, 'henry': 827, 'prime': 1360, 'charge': 297, 'ingredient': 901, 'buff': 235, 'massive': 1102, 'zone': 1999, 'pool': 1322, 'matrix': 1104, 'pity': 1307, 'thankfully': 1811, 'remote': 1464, 'fatal': 654, 'sends': 1579, 'profound': 1373, 'marvelous': 1098, 'bound': 202, 'catherine': 283, 'redemption': 1438, 'achievement': 40, 'nuclear': 1219, 'fbi': 657, 'theory': 1813, 'directorial': 507, 'daring': 450, 'protect': 1384, 'strip': 1732, 'gonna': 754, 'brady': 206, 'clean': 326, 'dynamic': 553, 'halloween': 792, 'usa': 1912, 'tarzan': 1790, 'caused': 285, 'instant': 913, 'icon': 876, 'hed': 822, 'mgm': 1128, 'department': 476, 'chief': 307, 'imaginative': 885, 'nude': 1220, 'plant': 1311, 'jungle': 975, 'official': 1238, 'veteran': 1923, 'listed': 1045, 'tribe': 1869, 'improved': 890, 'storytelling': 1723, 'harry': 809, 'hamilton': 793, 'returning': 1491, 'dress': 534, 'crack': 409, 'pursuit': 1400, 'stock': 1714, 'physically': 1297, 'triumph': 1874, 'rambo': 1415, 'dawn': 455, 'wing': 1977, 'tongue': 1843, 'atrocious': 120, 'choose': 313, 'assume': 117, 'frankly': 707, 'choreography': 314, 'university': 1906, 'occurred': 1231, 'extraordinary': 636, 'status': 1704, 'gratuitous': 766, 'streisand': 1726, 'ego': 567, 'harvey': 812, 'notably': 1213, 'press': 1348, 'religious': 1456, 'sky': 1643, 'goal': 749, 'inspiring': 911, '910': 26, 'occasionally': 1230, 'flight': 677, 'frequently': 713, 'disease': 518, 'spell': 1677, 'devil': 496, 'spends': 1679, 'pacino': 1260, 'courage': 403, 'nerve': 1196, 'morning': 1157, 'irish': 933, 'adapted': 43, 'attempted': 123, 'incident': 891, 'bringing': 223, 'closer': 332, 'guilt': 786, 'depression': 480, 'spending': 1678, 'exploit': 629, 'companion': 357, 'account': 36, 'poverty': 1335, 'union': 1902, 'reporter': 1474, 'carried': 277, 'kate': 982, 'learns': 1023, 'sacrifice': 1539, 'shine': 1607, 'link': 1041, 'snake': 1655, 'hat': 813, 'ideal': 877, 'urban': 1910, 'recognize': 1436, 'catholic': 284, 'wit': 1981, 'root': 1523, 'teach': 1794, 'lewis': 1032, 'forth': 697, 'liking': 1037, 'laurel': 1015, '20th': 17, 'spring': 1693, 'franchise': 705, 'fitting': 672, 'ship': 1609, 'sandler': 1547, 'response': 1486, 'executed': 615, 'specific': 1673, 'andor': 88, 'section': 1570, 'cutting': 439, 'trek': 1866, 'tree': 1865, 'iii': 883, 'uninteresting': 1901, 'scripted': 1563, '2006': 16, 'dear': 461, 'introduction': 926, 'lily': 1038, 'advance': 48, 'regard': 1444, '1930s': 7, 'corrupt': 399, 'stanwyck': 1700, 'throwing': 1825, 'charlotte': 301, 'edition': 562, 'hollow': 844, '1950s': 8, 'concern': 364, 'complain': 360, 'philip': 1293, 'bette': 164, 'obsessed': 1226, 'allows': 77, 'sentimental': 1582, 'naive': 1176, 'position': 1329, 'represents': 1475, 'grey': 773, 'importantly': 888, 'jessica': 957, 'breathtaking': 215, 'carefully': 271, 'eddie': 560, 'murphy': 1170, 'concerning': 365, 'stink': 1713, 'canada': 260, 'ireland': 932, 'north': 1210, 'frame': 703, 'unintentionally': 1900, 'cannibal': 263, 'honor': 851, 'melodrama': 1117, 'campy': 259, 'magazine': 1081, 'spark': 1671, 'jennifer': 953, 'laura': 1014, 'tracy': 1852, 'hang': 800, 'simpson': 1628, 'patrick': 1282, 'steven': 1709, 'structure': 1736, 'andrew': 89, 'hired': 836, 'jaw': 948, 'subsequent': 1743, 'forgettable': 692, 'throat': 1824, 'dirty': 508, 'thief': 1817, 'latest': 1012, 'convinced': 390, 'neck': 1188, 'occurs': 1232, 'blair': 176, 'jon': 967, 'ned': 1189, 'sexually': 1594, 'frightening': 716, 'utter': 1915, 'uneven': 1893, 'demon': 472, 'satan': 1550, 'mexico': 1127, 'duke': 550, 'cube': 430, 'overthetop': 1258, 'lesser': 1029, 'navy': 1183, 'served': 1587, 'communist': 356, 'gentleman': 736, 'harsh': 810, 'criticism': 424, 'piano': 1298, 'soviet': 1669, 'hunting': 871, 'helicopter': 825, 'combat': 346, 'candy': 262, 'roy': 1529, 'speaks': 1672, 'nonexistent': 1208, 'vivid': 1937, 'martial': 1097, 'hong': 850, 'kong': 998, 'identify': 878, 'prejudice': 1344, 'raw': 1422, 'manager': 1088, 'row': 1528, 'helping': 826, 'foster': 700, 'maggie': 1082, 'league': 1020, 'clark': 325, 'typically': 1882, 'jeff': 952, 'eva': 603, 'strictly': 1728, 'sidney': 1622, 'stunt': 1738, 'ruthless': 1537, 'wannabe': 1946, 'prevent': 1353, 'grave': 767, 'forgot': 694, 'walked': 1940, 'coherent': 339, 'picking': 1299, 'glorious': 746, 'strangely': 1724, 'hank': 802, 'andy': 90, 'scheme': 1559, 'hoffman': 841, 'bond': 194, 'trite': 1873, 'population': 1323, 'everyday': 606, 'stanley': 1699, 'keaton': 983, 'futuristic': 722, '3d': 21, 'ken': 986, 'larry': 1011, 'gut': 788, 'ignore': 881, 'fool': 686, '24': 18, 'unconvincing': 1889, 'purely': 1399, 'cheer': 305, 'staff': 1696, 'britain': 224, 'east': 556, 'pressure': 1349, 'eerie': 565, 'shallow': 1599, 'branagh': 207, 'stated': 1702, 'previously': 1355, 'amazingly': 83, 'narration': 1178, 'gotta': 759, 'opened': 1242, 'screening': 1561, 'california': 255, 'sum': 1758, 'outfit': 1251, 'revealing': 1495, 'interpretation': 923, 'investigation': 927, 'ripped': 1508, 'shining': 1608, 'madness': 1078, 'tomato': 1841, 'disbelief': 510, 'blah': 175, 'insulting': 916, 'convoluted': 391, 'scenario': 1558, 'sally': 1544, 'policeman': 1318, 'cinderella': 319, 'stiff': 1711, 'pretentious': 1352, 'spielberg': 1680, 'lucas': 1065, 'reasonable': 1430, 'feed': 659, 'uk': 1883, 'ashamed': 111, 'faced': 638, 'humanity': 867, 'duo': 551, 'viewed': 1929, 'replaced': 1472, 'destruction': 490, 'established': 599, '110': 2, 'lincoln': 1040, 'fonda': 685, 'whilst': 1971, 'necessarily': 1187, 'lawyer': 1017, 'dislike': 520, 'complexity': 362, 'serve': 1586, 'universal': 1904, 'inevitable': 898, 'opposed': 1244, 'samurai': 1545, 'timeless': 1834, 'curiosity': 433, 'mid': 1131, 'forbidden': 688, 'muslim': 1173, 'pleased': 1315, 'rat': 1421, 'em': 575, 'enters': 588, 'mild': 1134, 'aunt': 128, 'titanic': 1838, 'superman': 1765, 'superhero': 1764, 'colorful': 343, '13': 3, 'anime': 93, 'kiss': 992, 'leg': 1024, '18': 6, 'eric': 594, 'contrary': 382, 'pal': 1268, 'regarding': 1445, 'characteristic': 295, 'transition': 1858, 'sings': 1633, 'emma': 579, 'editor': 563, 'jet': 959, 'sullivan': 1757, 'max': 1109, 'generous': 735, 'johnson': 965, 'truck': 1876, 'christ': 317, 'broke': 228, '45': 23, 'virgin': 1932, 'received': 1435, 'fabulous': 637, 'kennedy': 987, 'cabin': 251, 'mickey': 1130, 'lifestyle': 1035, 'ocean': 1233, 'psychotic': 1393, 'audio': 127, 'pirate': 1304, 'mummy': 1166, 'prop': 1379, 'retarded': 1489, 'carrying': 278, 'cameron': 258, 'sink': 1635, 'psychiatrist': 1390, 'task': 1791, 'jealous': 950, 'entertain': 589, 'toy': 1851, 'featured': 658, 'theyve': 1816, 'cruel': 427, 'notorious': 1217, 'noted': 1215, 'beaten': 152, 'characterization': 296, 'lyric': 1076, 'expensive': 622, 'smoke': 1652, 'daniel': 447, 'solve': 1663, 'basement': 145, 'corner': 395, 'achieve': 38, 'involvement': 930, 'modesty': 1149, 'gold': 751, 'mar': 1090, 'believing': 158, 'notable': 1212, 'presentation': 1346, 'jeremy': 954, 'convention': 386, 'attracted': 125, 'lucy': 1069, 'confusion': 368, 'oddly': 1234, 'hook': 853, 'aged': 58, 'sadistic': 1540, 'nerd': 1195, 'prisoner': 1366, 'resemblance': 1481, 'reed': 1440, 'sea': 1564, 'checking': 304, 'rocket': 1517, '911': 27, 'segment': 1575, 'tribute': 1870, 'lisa': 1044, 'practice': 1338, 'racism': 1408, 'castle': 281, 'currently': 435, '2000': 13, 'grandmother': 763, 'walken': 1941, 'inner': 904, 'chasing': 302, 'rebel': 1432, 'captivating': 266, 'credibility': 419, 'soprano': 1665, 'monk': 1150, 'till': 1832, 'fond': 684, 'doc': 523, 'landscape': 1007, 'recall': 1433, 'rage': 1410, 'crafted': 411, 'built': 237, 'creation': 417, 'wizard': 1982, 'frustration': 718, 'sutherland': 1775, 'evident': 608, 'outcome': 1249, 'admittedly': 47, 'fisher': 671, 'delivered': 469, 'carpenter': 276, 'terrifying': 1804, 'obscure': 1225, 'jamie': 946, 'nowadays': 1218, 'ludicrous': 1070, 'striking': 1730, 'burton': 244, 'heston': 830, 'theyd': 1814, 'discus': 516, 'trio': 1872, 'hart': 811, 'rid': 1502, 'ruined': 1531, 'ambition': 84, 'saga': 1542, 'jay': 949, 'turkey': 1878, 'diamond': 497, 'los': 1054, 'connect': 369, '1st': 12, 'successfully': 1749, 'hip': 834, 'mature': 1108, 'handful': 796, 'bride': 217, 'bourne': 203, 'clichéd': 328, 'threatening': 1821, 'disc': 511, 'intensity': 918, 'glover': 748, 'lawrence': 1016, 'nominated': 1204, 'occasion': 1228, 'meaningful': 1110, 'matt': 1105, 'contract': 381, 'grows': 780, 'receive': 1434, 'aka': 64, 'louis': 1060, 'par': 1271, 'appearing': 103, 'twisted': 1881, 'post': 1332, 'funnier': 721, 'emily': 578, 'victoria': 1927, 'duty': 552, 'cheese': 306, 'pun': 1396, 'nazi': 1184, 'estate': 600, 'solo': 1662, 'swedish': 1777, 'politician': 1320, 'entry': 591, 'wayne': 1957, 'outer': 1250, 'sinatra': 1630, 'meat': 1113, 'digital': 501, 'prom': 1376, 'elaborate': 570, 'kane': 978, 'slight': 1649, 'beer': 155, 'blend': 180, 'hitler': 838, 'darkness': 452, 'sean': 1566, 'widmark': 1974, 'moore': 1154, 'virus': 1934, 'bettie': 165, 'subtlety': 1746, 'dentist': 474, 'ruth': 1536, 'drew': 536, 'market': 1095, 'scarecrow': 1556, 'properly': 1382, 'susan': 1773, 'mentally': 1121, 'gradually': 761, 'jewish': 960, 'thumb': 1827, 'barry': 142, 'menacing': 1120, 'summary': 1759, 'gray': 768, 'anna': 95, 'showcase': 1617, 'annie': 97, 'brilliance': 221, 'rain': 1411, 'react': 1424, 'fay': 656, 'performing': 1289, 'silver': 1625, 'wound': 1992, 'starred': 1701, 'vega': 1920, 'struck': 1735, 'winter': 1979, 'contact': 374, 'darker': 451, 'primarily': 1359, 'caine': 254, 'stole': 1715, 'wwii': 1997, 'adequate': 45, 'attached': 121, 'glory': 747, 'seller': 1576, 'worried': 1987, 'promising': 1377, 'innovative': 906, 'korean': 999, 'planning': 1310, 'san': 1546, 'wicked': 1972, 'stooge': 1720, 'combine': 348, 'bone': 195, 'shirt': 1610, 'craig': 412, 'remarkably': 1460, 'miller': 1136, 'realise': 1426, 'boxing': 204, 'lugosi': 1071, 'iron': 934, '1960s': 9, 'montage': 1152, 'aimed': 61, 'museum': 1171, 'explore': 631, 'kenneth': 988, 'dracula': 529, 'recognized': 1437, 'equal': 593, 'inspector': 909, 'mafia': 1080, 'shoe': 1612, 'europe': 602, 'charismatic': 299, 'reel': 1441, 'holmes': 845, 'tame': 1786, 'garbo': 728, 'installment': 912, 'francisco': 706, 'homosexual': 849, 'restaurant': 1488, '2005': 15, 'el': 569, 'item': 939, 'pleasantly': 1314, 'hamlet': 794, 'fancy': 649, 'variety': 1919, 'drivel': 539, 'dignity': 502, 'seed': 1572, 'karen': 980, 'welles': 1967, 'brando': 209, 'kurt': 1002, 'proceeding': 1370, 'alice': 73, 'resident': 1483, 'brosnan': 231, 'gadget': 724, 'gothic': 758, 'crush': 429, 'stealing': 1707, 'abc': 29, 'backdrop': 135, 'homer': 848, 'russell': 1534, 'financial': 667, 'karloff': 981, 'che': 303, 'seagal': 1565, 'macarthur': 1077, 'gandhi': 726, 'pat': 1279}\n"
     ]
    }
   ],
   "source": [
    "print(cv.vocabulary_)"
   ]
  },
  {
   "cell_type": "code",
   "execution_count": 31,
   "id": "7390e7ab",
   "metadata": {},
   "outputs": [
    {
     "data": {
      "text/plain": [
       "2000"
      ]
     },
     "execution_count": 31,
     "metadata": {},
     "output_type": "execute_result"
    }
   ],
   "source": [
    "len(cv.vocabulary_)"
   ]
  },
  {
   "cell_type": "markdown",
   "id": "9b20f697",
   "metadata": {},
   "source": [
    "### TF-IDF\n",
    "\n",
    "Term Frequency-Inverse Document Frequency model (TFIDF) : It is used to convert text documents to matrix of tfidf features."
   ]
  },
  {
   "cell_type": "code",
   "execution_count": 32,
   "id": "3d461864",
   "metadata": {},
   "outputs": [],
   "source": [
    "tfidfvec = TfidfVectorizer(stop_words = \"english\", min_df = 10, max_df=200, max_features = 2000)"
   ]
  },
  {
   "cell_type": "code",
   "execution_count": 33,
   "id": "daa08dc4",
   "metadata": {},
   "outputs": [],
   "source": [
    "#parse matrix to numpy array to_array\n",
    "x_train_tfidf= tfidfvec.fit_transform(x_train['review']).toarray()\n",
    "x_test_tfidf = tfidfvec.transform(x_test['review']).toarray()"
   ]
  },
  {
   "cell_type": "code",
   "execution_count": 34,
   "id": "4a3952d1",
   "metadata": {},
   "outputs": [
    {
     "name": "stdout",
     "output_type": "stream",
     "text": [
      "{'weakness': 1958, 'destiny': 487, 'murderous': 1169, 'cox': 408, 'scale': 1555, 'afternoon': 57, 'rental': 1466, 'lip': 1043, 'tense': 1803, 'tight': 1831, 'significant': 1623, 'statement': 1703, 'thirty': 1818, 'secretary': 1569, 'bleak': 179, 'enter': 587, 'vincent': 1931, 'ad': 42, 'assistant': 115, 'meeting': 1115, 'hoped': 855, 'sleazy': 1647, 'letter': 1030, 'discovers': 514, 'spy': 1694, 'join': 966, 'gain': 725, 'freedom': 711, 'seat': 1568, 'unlikely': 1907, 'factor': 640, 'sensitive': 1580, 'hearing': 818, 'aid': 59, 'rank': 1418, 'noir': 1202, 'farm': 652, 'lying': 1074, 'burning': 242, 'iti': 940, 'unable': 1885, 'fictional': 662, 'conspiracy': 373, 'internet': 922, 'price': 1356, 'ran': 1416, 'refuse': 1443, 'program': 1374, 'overrated': 1257, 'reader': 1425, '710': 24, 'mainstream': 1085, 'bag': 136, 'thrill': 1822, 'itthe': 941, '25': 19, 'hardcore': 805, 'appropriate': 105, 'critical': 423, 'religion': 1455, 'remaining': 1458, 'acceptable': 32, 'revealed': 1494, 'bbc': 149, 'broadcast': 226, 'bible': 166, 'priest': 1358, 'skin': 1641, '14': 4, 'photographed': 1295, 'closeup': 334, 'portion': 1325, 'imagery': 884, 'grant': 764, 'execution': 616, 'forest': 691, 'painting': 1266, 'bridge': 218, 'wrap': 1993, 'neat': 1186, 'guilty': 787, 'achieved': 39, 'fallen': 646, 'urge': 1911, 'separate': 1583, 'noble': 1201, 'parallel': 1272, 'beast': 151, 'logical': 1051, 'sexuality': 1593, 'fairy': 643, 'surrounded': 1769, 'anne': 96, 'happiness': 804, 'lonely': 1052, 'prince': 1361, 'edward': 564, 'delight': 467, 'helen': 824, 'command': 353, 'innocence': 905, 'australian': 130, 'shy': 1620, 'welcome': 1966, 'arrives': 109, 'brown': 232, 'grab': 760, 'neighbor': 1191, 'bollywood': 192, 'combination': 347, 'godfather': 750, 'portrays': 1328, 'expert': 625, 'grow': 778, 'hugh': 865, 'figured': 664, 'driven': 540, 'competition': 359, 'knight': 995, 'greater': 769, 'uwe': 1916, 'boll': 191, 'downright': 528, 'chain': 289, 'bigger': 167, 'generic': 734, 'forgive': 693, 'stupidity': 1739, 'origin': 1246, 'grew': 772, 'circumstance': 321, 'civil': 323, 'vietnam': 1928, 'beach': 150, 'alright': 79, 'shut': 1619, 'metal': 1124, 'worthwhile': 1990, 'fat': 653, 'cash': 280, 'favor': 655, 'frustrated': 717, 'excited': 613, 'technique': 1796, 'learned': 1021, 'pulling': 1395, 'complaint': 361, 'essential': 598, 'golden': 753, 'satisfying': 1552, 'concert': 366, 'crash': 414, 'mansion': 1089, 'noise': 1203, 'dinner': 503, 'calling': 256, 'halfway': 790, 'gruesome': 781, 'brilliantly': 222, 'gory': 757, 'bore': 198, 'suffers': 1755, 'horrendous': 857, 'realism': 1427, 'overlooked': 1255, 'tape': 1788, 'friday': 714, 'depiction': 478, 'al': 65, 'existed': 619, 'spoil': 1687, 'motivation': 1159, 'resolution': 1484, 'persona': 1291, 'troubled': 1875, 'seven': 1591, 'pound': 1334, 'dawson': 456, 'performer': 1288, 'portraying': 1327, 'quirky': 1405, 'condition': 367, 'woody': 1985, 'tremendous': 1867, 'sold': 1660, 'blind': 181, 'research': 1480, 'pet': 1292, 'upset': 1909, 'dealt': 459, 'jerry': 956, 'covered': 406, 'lane': 1008, 'southern': 1668, 'soap': 1657, 'douglas': 527, 'jr': 970, 'understood': 1892, 'magnificent': 1084, 'temple': 1801, 'warn': 1949, 'grand': 762, 'underrated': 1891, 'fu': 719, 'caricature': 272, 'india': 895, 'alexander': 72, 'underground': 1890, 'wreck': 1994, 'luckily': 1067, 'prove': 1386, 'entertained': 590, 'dressed': 535, 'baseball': 144, 'uniform': 1898, 'bat': 147, 'creator': 418, 'locked': 1049, 'anderson': 87, 'judge': 971, 'davis': 453, 'colonel': 342, 'cliff': 329, 'setup': 1590, 'spoiled': 1688, 'spin': 1682, 'loss': 1058, 'enjoyment': 585, 'st': 1695, 'stolen': 1716, 'vhs': 1924, 'japan': 947, 'path': 1280, 'buried': 239, 'amateurish': 81, 'junk': 976, 'aint': 62, 'fred': 709, 'haunting': 816, 'included': 892, 'paper': 1270, 'translation': 1859, 'tune': 1877, 'colour': 344, 'minimal': 1139, 'slapstick': 1645, 'paris': 1273, 'texas': 1809, 'et': 601, 'lifetime': 1036, 'irritating': 937, 'joey': 963, 'danny': 448, 'raise': 1412, 'instantly': 914, 'shakespeare': 1597, 'medical': 1114, 'stewart': 1710, 'tie': 1829, 'rifle': 1505, 'adding': 44, 'obsession': 1227, 'laid': 1005, 'cowboy': 407, 'fighter': 663, 'bank': 140, 'dan': 443, 'standing': 1698, 'johnny': 964, 'dean': 460, 'finger': 668, 'hudson': 864, 'range': 1417, 'shootout': 1613, '810': 25, 'pushing': 1403, 'hitman': 839, 'giallo': 740, 'explosion': 632, 'broken': 229, 'bottle': 201, 'territory': 1805, 'reminiscent': 1463, 'bird': 169, 'foreign': 690, 'camerawork': 257, 'knife': 994, 'blade': 174, 'repeated': 1469, 'shall': 1598, 'subtitle': 1745, 'appealing': 102, 'ritter': 1510, 'smoking': 1653, 'dorothy': 526, 'murdered': 1167, 'shocked': 1611, 'moviei': 1162, 'sounded': 1666, 'hunt': 869, 'contrived': 384, 'heavily': 820, 'coincidence': 340, 'lazy': 1019, 'related': 1449, 'screenwriter': 1562, 'experienced': 623, 'knowledge': 997, 'mere': 1122, 'slightest': 1650, 'fare': 651, 'remotely': 1465, 'vague': 1918, 'presumably': 1350, 'committed': 355, 'explains': 627, 'round': 1526, 'tour': 1849, 'albeit': 68, 'amateur': 80, 'native': 1181, 'brave': 210, 'curious': 434, 'curse': 436, 'psycho': 1391, 'murderer': 1168, 'table': 1783, 'rip': 1506, 'wes': 1969, 'craven': 415, 'fortunately': 698, 'worry': 1988, 'ha': 789, 'oneliners': 1241, 'regret': 1447, 'renting': 1467, 'professor': 1372, 'joan': 962, 'ginger': 742, 'rogers': 1519, 'miscast': 1143, 'heroine': 829, 'astaire': 118, 'burn': 240, 'allen': 75, 'routine': 1527, 'pan': 1269, 'treatment': 1864, 'pleasant': 1313, 'servant': 1585, 'remind': 1462, 'keeping': 984, 'distance': 521, 'painfully': 1264, 'unbelievably': 1886, 'useless': 1913, 'push': 1401, 'crowd': 425, 'directly': 506, 'connected': 370, 'raped': 1420, 'screaming': 1560, 'president': 1347, 'bush': 246, 'speech': 1675, 'sword': 1779, 'relative': 1451, '1980s': 11, 'saturday': 1553, 'wrestling': 1995, 'ted': 1798, 'turner': 1879, 'wide': 1973, 'pro': 1369, 'florida': 679, 'weekend': 1964, 'library': 1034, 'lay': 1018, 'switch': 1778, 'multiple': 1165, 'sloppy': 1651, 'disagree': 509, 'staying': 1706, 'gangster': 727, 'motif': 1158, 'behavior': 156, 'paying': 1283, 'breath': 214, 'naturally': 1182, 'abuse': 31, 'substance': 1744, 'reputation': 1476, 'losing': 1057, 'wasting': 1955, 'precious': 1340, 'ridiculously': 1503, 'propaganda': 1380, 'raised': 1413, 'treated': 1863, 'versus': 1922, 'similarity': 1626, 'craft': 410, 'bmovie': 186, 'interaction': 920, 'genuinely': 738, 'requires': 1478, 'lake': 1006, 'button': 249, 'ed': 559, 'dinosaur': 504, 'evidence': 607, 'passing': 1278, 'boat': 188, 'stranger': 1725, 'drunk': 544, 'endearing': 582, 'shadow': 1595, 'puppet': 1398, 'dragged': 530, 'pair': 1267, 'lovable': 1062, 'majority': 1086, 'beloved': 161, 'affected': 52, 'closing': 335, 'height': 823, '11': 1, 'briefly': 219, 'garden': 729, 'perry': 1290, 'praise': 1339, 'jackson': 943, 'pile': 1302, 'beating': 153, 'scared': 1557, 'sleeping': 1648, 'bus': 245, 'driver': 541, 'grown': 779, 'reduced': 1439, 'reunion': 1492, 'weve': 1970, 'load': 1048, 'sake': 1543, 'overly': 1256, 'babe': 134, 'butt': 248, 'bell': 159, 'pack': 1261, 'wedding': 1963, 'angel': 91, 'hanging': 801, 'safe': 1541, 'irony': 936, 'birth': 170, 'nation': 1179, 'selling': 1577, 'river': 1512, 'dude': 549, 'nut': 1222, 'savage': 1554, 'slave': 1646, 'posse': 1330, 'mindless': 1138, 'balance': 138, 'snow': 1656, 'inept': 897, 'progress': 1375, 'charlie': 300, 'chaplin': 294, 'corpse': 397, 'russian': 1535, 'magical': 1083, 'treasure': 1862, 'gift': 741, 'aired': 63, 'horrific': 860, 'sharp': 1602, 'teeth': 1800, 'eat': 557, 'flesh': 676, 'destroy': 488, 'comfortable': 351, 'seeking': 1574, 'bite': 172, 'knock': 996, 'paint': 1265, 'portrait': 1326, 'sheriff': 1606, 'sidekick': 1621, 'drunken': 545, 'attacked': 122, 'freak': 708, 'leslie': 1028, 'authority': 132, 'birthday': 171, 'mst3k': 1164, 'eating': 558, 'racist': 1409, 'succeed': 1747, 'damage': 442, 'dubbing': 548, 'batman': 148, 'drawing': 532, 'lousy': 1061, 'annoyed': 98, 'robin': 1514, 'handle': 797, 'punch': 1397, 'tim': 1833, 'training': 1856, 'remain': 1457, 'faithful': 645, 'cgi': 288, 'network': 1197, 'huh': 866, 'operation': 1243, 'offering': 1237, 'service': 1588, 'dragon': 531, 'hunter': 870, 'loving': 1063, 'returned': 1490, 'hire': 835, 'hiding': 831, 'designed': 485, 'rob': 1513, 'claire': 324, 'dane': 445, 'awkward': 133, 'socalled': 1658, 'pretend': 1351, 'swear': 1776, 'reached': 1423, 'glenn': 744, 'providing': 1389, 'relief': 1454, 'boredom': 199, 'error': 596, 'ann': 94, 'jerk': 955, 'evening': 605, '310': 20, 'bothered': 200, 'pulled': 1394, 'user': 1914, 'amazed': 82, 'michelle': 1129, 'coach': 337, 'rough': 1525, 'indie': 896, 'dreadful': 533, 'julia': 972, 'greatly': 770, 'international': 921, 'intrigue': 924, 'terror': 1806, 'revelation': 1497, 'anthony': 99, 'guide': 785, 'flow': 680, 'influence': 900, 'changing': 293, 'rush': 1532, 'web': 1961, 'prior': 1365, 'context': 377, 'ignored': 882, 'unfortunate': 1896, 'reallife': 1429, 'closet': 333, 'importance': 887, 'buck': 234, 'china': 311, 'provided': 1388, 'insight': 908, 'chinese': 312, 'technically': 1795, 'survive': 1771, 'village': 1930, 'traditional': 1855, 'asian': 112, 'homeless': 847, 'mob': 1148, 'fortune': 699, 'site': 1638, 'increasingly': 894, 'loses': 1056, 'plague': 1309, 'worker': 1986, 'succeeds': 1748, '1970s': 10, 'inspiration': 910, 'shake': 1596, 'silence': 1624, 'drink': 537, 'object': 1223, 'spanish': 1670, 'accused': 37, 'determined': 491, 'hotel': 862, 'guest': 784, 'brian': 216, 'chose': 315, 'explicit': 628, 'soft': 1659, 'core': 394, 'psychological': 1392, 'deliberately': 466, 'possibility': 1331, 'nancy': 1177, 'filmthe': 665, 'relevant': 1453, '1010': 0, 'canadian': 261, 'distant': 522, 'spiritual': 1683, 'idiotic': 880, 'code': 338, 'closely': 331, 'resembles': 1482, 'suspenseful': 1774, 'exercise': 618, 'challenge': 291, 'trapped': 1861, 'dare': 449, 'cell': 287, 'lab': 1003, 'experiment': 624, 'tedious': 1799, 'sucked': 1750, 'fox': 702, 'cried': 421, 'stayed': 1705, 'heroic': 828, 'thug': 1826, 'mountain': 1160, 'storm': 1722, 'gary': 730, 'bobby': 190, 'goofy': 755, 'quest': 1404, 'loosely': 1053, 'resort': 1485, 'struggling': 1737, 'rubbish': 1530, 'cable': 252, 'needle': 1190, 'subplots': 1742, 'exceptional': 612, 'freeman': 712, 'morgan': 1156, 'combined': 349, 'horrid': 859, 'flop': 678, 'express': 633, 'convey': 388, 'caring': 273, 'measure': 1112, 'surreal': 1768, 'nonetheless': 1207, 'ought': 1248, 'aim': 60, 'comical': 352, 'sophisticated': 1664, 'alltime': 78, 'infamous': 899, 'pig': 1301, 'unrealistic': 1908, 'captured': 267, 'tortured': 1847, 'torture': 1846, 'limit': 1039, '17': 5, 'described': 482, 'unfunny': 1897, 'oliver': 1240, 'hardy': 807, 'marry': 1096, 'sport': 1692, 'glass': 743, 'sarah': 1549, 'dry': 546, 'listening': 1046, 'repeat': 1468, 'packed': 1262, 'corny': 396, 'bitter': 173, 'loser': 1055, 'extended': 634, 'musician': 1172, 'breast': 213, 'album': 70, 'warner': 1951, 'category': 282, 'rachel': 1407, 'ward': 1947, 'heat': 819, 'notch': 1214, 'benefit': 162, 'hype': 872, 'wondered': 1984, 'ironic': 935, 'attempting': 124, 'madonna': 1079, 'remembered': 1461, 'relation': 1450, 'convince': 389, 'ala': 66, 'capable': 264, 'explaining': 626, 'existence': 620, 'degree': 465, 'dealing': 458, 'speed': 1676, 'attraction': 126, 'drinking': 538, 'lynch': 1075, 'seek': 1573, 'intellectual': 917, 'stomach': 1717, 'hitchcock': 837, 'cynical': 440, 'morality': 1155, 'competent': 358, 'developing': 493, 'smooth': 1654, 'contrast': 383, 'card': 268, 'faith': 644, 'symbolism': 1780, 'timing': 1835, 'device': 495, 'aforementioned': 54, 'handsome': 799, 'carl': 274, 'spite': 1684, 'dancer': 444, 'rival': 1511, 'ian': 874, 'torn': 1845, 'gordon': 756, 'virtually': 1933, 'gripping': 775, 'chilling': 310, 'visuals': 1936, 'depicted': 477, 'failing': 642, '2001': 14, 'robot': 1515, 'mildly': 1135, 'print': 1364, 'edited': 561, 'dubbed': 547, 'shape': 1600, 'correct': 398, 'dire': 505, 'reasonably': 1431, 'atmospheric': 119, 'involves': 931, 'photographer': 1296, 'ex': 609, 'vacation': 1917, 'sinister': 1634, 'victor': 1926, 'ancient': 86, 'abandoned': 28, 'friendly': 715, 'develops': 494, 'doll': 524, 'performed': 1287, 'deadly': 457, 'slap': 1644, 'suffer': 1752, 'barbara': 141, 'shed': 1603, 'moviethe': 1163, 'dick': 498, 'remark': 1459, 'circle': 320, 'pointed': 1317, 'sin': 1629, 'embarrassed': 576, 'fired': 669, 'roommate': 1522, 'gross': 777, 'cliche': 327, 'italy': 938, 'dennis': 473, 'santa': 1548, 'unexpected': 1894, 'base': 143, 'demand': 471, 'affect': 51, 'buying': 250, 'executive': 617, 'shortly': 1615, 'sunday': 1761, 'originality': 1247, 'prostitute': 1383, 'easier': 555, 'belongs': 160, 'flawless': 675, 'transformation': 1857, 'admire': 46, 'partly': 1276, 'contemporary': 376, 'flash': 673, 'string': 1731, 'ford': 689, 'cooper': 393, 'jean': 951, 'arthur': 110, 'debut': 462, 'warrior': 1953, 'massacre': 1101, 'finale': 666, 'legendary': 1025, 'perfection': 1285, 'excitement': 614, 'plastic': 1312, 'warm': 1948, 'accidentally': 34, 'twin': 1880, 'asleep': 114, 'warned': 1950, 'heck': 821, 'security': 1571, 'guard': 782, 'guessing': 783, 'continuity': 380, 'spike': 1681, 'chosen': 316, 'gritty': 776, 'neighborhood': 1192, 'threat': 1820, 'anger': 92, 'lust': 1073, 'countless': 401, 'proved': 1387, 'comedian': 350, 'prefer': 1342, 'laughter': 1013, '410': 22, 'discovered': 513, 'lower': 1064, 'shelf': 1604, 'blockbuster': 183, 'kubrick': 1000, 'format': 695, 'destroyed': 489, 'homage': 846, 'crude': 426, 'responsible': 1487, 'manage': 1087, 'source': 1667, 'topic': 1844, 'jesus': 958, 'mel': 1116, 'principal': 1363, 'private': 1367, 'trap': 1860, 'harder': 806, 'patient': 1281, 'allowing': 76, 'marie': 1094, 'ryan': 1538, 'strongly': 1734, 'photo': 1294, 'desert': 484, 'unforgettable': 1895, 'hooked': 854, 'identity': 879, 'spectacular': 1674, 'surface': 1767, 'supernatural': 1766, 'superbly': 1763, 'haunted': 815, 'rolling': 1520, 'chair': 290, 'horribly': 858, 'alex': 71, 'surrounding': 1770, 'sudden': 1751, 'mitchell': 1146, 'fame': 648, 'vicious': 1925, 'overcome': 1253, 'von': 1938, 'spooky': 1691, 'largely': 1009, 'obnoxious': 1224, 'blonde': 184, 'pie': 1300, 'grim': 774, 'complicated': 363, 'miserably': 1144, 'develop': 492, 'logic': 1050, 'jail': 944, 'sentence': 1581, 'juvenile': 977, 'bland': 177, 'carol': 275, 'required': 1477, 'wake': 1939, 'danger': 446, 'conversation': 387, 'tall': 1785, 'hitting': 840, 'uninspired': 1899, 'delivery': 470, 'bet': 163, 'bomb': 193, 'discovery': 515, 'mexican': 1126, 'bug': 236, 'dropped': 543, 'mike': 1133, 'cardboard': 269, 'incoherent': 893, 'celebrity': 286, 'theyll': 1815, 'williams': 1975, 'trilogy': 1871, 'carter': 279, 'lloyd': 1047, 'nick': 1199, 'daily': 441, 'contain': 375, 'humorous': 868, 'higher': 832, 'refreshing': 1442, 'margaret': 1092, 'felix': 660, 'joseph': 968, 'denzel': 475, 'washington': 1954, 'charisma': 298, 'happily': 803, 'farce': 650, 'donald': 525, 'africa': 55, 'liberal': 1033, 'cultural': 431, 'glimpse': 745, 'wallace': 1943, 'kevin': 989, 'meaningless': 1111, 'accomplished': 35, 'tradition': 1854, 'relate': 1448, 'pushed': 1402, 'emotionally': 580, 'believed': 157, 'germany': 739, 'settle': 1589, 'mission': 1145, 'outrageous': 1252, 'stopped': 1721, 'couldve': 400, 'cared': 270, 'fish': 670, 'nomination': 1205, 'desperately': 486, 'derek': 481, 'satire': 1551, 'lacked': 1004, 'fly': 681, 'reveal': 1493, 'erotic': 595, 'broad': 225, 'shoulder': 1616, 'harris': 808, 'preview': 1354, 'wilson': 1976, 'holding': 842, 'sympathetic': 1781, 'kung': 1001, 'football': 687, 'serf': 1584, 'ninja': 1200, 'non': 1206, 'method': 1125, 'stan': 1697, 'stood': 1719, 'offered': 1236, 'prize': 1368, 'australia': 129, 'activity': 41, 'talked': 1784, 'poster': 1333, 'clip': 330, 'cousin': 405, 'shop': 1614, 'credible': 420, 'appalling': 101, 'continued': 378, 'touched': 1848, 'matthew': 1107, 'website': 1962, 'jackie': 942, 'chan': 292, 'greek': 771, 'empire': 581, 'prepared': 1345, 'brand': 208, 'rap': 1419, 'sole': 1661, 'advice': 50, 'oil': 1239, 'trade': 1853, 'overdone': 1254, 'politics': 1321, 'accepted': 33, 'border': 197, 'asking': 113, 'producing': 1371, 'toilet': 1840, 'sing': 1631, 'rose': 1524, 'predecessor': 1341, 'instinct': 915, 'stylish': 1740, 'fourth': 701, 'lion': 1042, 'impress': 889, 'stone': 1718, 'stereotypical': 1708, 'notion': 1216, 'norman': 1209, 'offensive': 1235, 'handled': 798, 'delightful': 468, 'ensemble': 586, 'theatrical': 1812, 'crappy': 413, 'spoof': 1690, 'pride': 1357, 'goldberg': 752, 'julie': 973, 'stiller': 1712, 'block': 182, 'monkey': 1151, 'moon': 1153, 'werewolf': 1968, 'mate': 1103, 'breaking': 212, 'suffering': 1754, 'afford': 53, 'target': 1789, 'stretch': 1727, 'burt': 243, 'reynolds': 1501, 'learning': 1022, 'tend': 1802, 'wouldve': 1991, 'min': 1137, 'disgusting': 519, 'hammer': 795, 'tied': 1830, 'letting': 1031, 'ape': 100, 'kim': 991, 'jumping': 974, 'send': 1578, 'suggests': 1756, 'court': 404, 'granted': 765, 'bob': 189, 'sir': 1636, 'pilot': 1303, 'driving': 542, 'placed': 1308, 'neil': 1193, 'simon': 1627, 'uncomfortable': 1888, 'invite': 929, 'burned': 241, 'flynn': 682, 'walter': 1944, 'matthau': 1106, 'ordinary': 1245, 'poignant': 1316, 'rochester': 1516, 'basis': 146, 'timothy': 1836, 'miniseries': 1140, 'merit': 1123, 'test': 1808, 'alan': 67, 'howard': 863, 'taylor': 1792, 'text': 1810, 'melodramatic': 1118, 'france': 704, 'splendid': 1685, 'bo': 187, 'elephant': 572, 'practically': 1337, 'bruce': 233, 'brad': 205, 'pitt': 1306, 'cole': 341, 'terrorist': 1807, 'advantage': 49, 'ice': 875, 'survivor': 1772, 'princess': 1362, 'kidnapped': 990, 'ralph': 1414, 'davy': 454, 'larger': 1010, 'consequence': 371, 'mustsee': 1174, 'worthless': 1989, 'clown': 336, 'insane': 907, 'elvis': 574, 'thomas': 1819, 'shark': 1601, 'tiny': 1837, 'chuck': 318, 'host': 861, 'sitcom': 1637, 'gene': 733, 'facial': 639, 'strike': 1729, 'hysterical': 873, 'kapoor': 979, 'leonard': 1026, 'authentic': 131, 'flawed': 674, 'gate': 732, 'genuine': 737, 'sunshine': 1762, 'boot': 196, 'difficulty': 499, 'walker': 1942, 'lesbian': 1027, 'bedroom': 154, 'repetitive': 1471, 'arnold': 107, 'childrens': 308, 'revolutionary': 1499, 'powell': 1336, 'jake': 945, 'alike': 74, 'technology': 1797, 'occasional': 1229, 'risk': 1509, 'essence': 597, 'consists': 372, 'luke': 1072, 'hood': 852, 'uncle': 1887, 'mask': 1099, 'bright': 220, 'ron': 1521, 'cook': 392, 'parker': 1274, 'shell': 1605, 'controversial': 385, 'report': 1473, 'proper': 1381, 'split': 1686, 'brazil': 211, 'trial': 1868, 'maria': 1093, 'defeat': 464, 'spoken': 1689, 'perform': 1286, 'exploitation': 630, 'mirror': 1142, 'national': 1180, 'nelson': 1194, 'warren': 1952, 'brook': 230, 'parody': 1275, 'searching': 1567, 'nail': 1175, 'freddy': 710, 'argument': 106, 'sun': 1760, 'blown': 185, 'paced': 1259, 'rushed': 1533, 'columbo': 345, 'wealthy': 1959, 'newspaper': 1198, 'discover': 512, 'size': 1639, 'reveals': 1496, 'initially': 903, 'effectively': 566, 'nose': 1211, 'hint': 833, 'bang': 139, 'captain': 265, 'gas': 731, 'tower': 1850, 'mixed': 1147, 'crisis': 422, 'tap': 1787, 'jimmy': 961, 'singer': 1632, 'fever': 661, 'exists': 621, 'ripoff': 1507, 'countryside': 402, 'riding': 1504, 'pregnant': 1343, 'stronger': 1733, 'realizes': 1428, 'peace': 1284, 'suffered': 1753, 'united': 1903, 'exact': 610, 'skit': 1642, 'youth': 1998, 'function': 720, 'absence': 30, 'subplot': 1741, 'endless': 583, 'universe': 1905, 'african': 56, 'extent': 635, 'eighty': 568, 'proud': 1385, 'ambitious': 85, 'visually': 1935, 'weight': 1965, 'citizen': 322, 'regardless': 1446, 'false': 647, 'focused': 683, 'winner': 1978, 'kelly': 985, 'nearby': 1185, 'march': 1091, 'arrested': 108, 'shower': 1618, 'description': 483, 'cup': 432, 'tea': 1793, 'fx': 723, 'vehicle': 1921, 'lucky': 1068, 'mass': 1100, 'melting': 1119, 'nurse': 1221, 'elderly': 571, 'curtis': 437, 'creates': 416, 'baker': 137, 'ultimate': 1884, 'midnight': 1132, 'chill': 309, 'implausible': 886, 'eve': 604, 'mouse': 1161, 'hall': 791, 'initial': 902, 'wanna': 1945, 'elizabeth': 573, 'continues': 379, 'formula': 696, 'wolf': 1983, 'revolves': 1500, 'commit': 354, 'busy': 247, 'relatively': 1452, 'dig': 500, 'intrigued': 925, 'factory': 641, 'holiday': 843, 'passed': 1277, 'page': 1263, 'wise': 1980, 'cusack': 438, 'associated': 116, 'politically': 1319, 'blank': 178, 'hatred': 814, 'cruise': 428, 'wave': 1956, 'revolution': 1498, 'ear': 554, 'bullet': 238, 'proof': 1378, 'invisible': 928, 'rescue': 1479, 'ton': 1842, 'environment': 592, 'pitch': 1305, 'sympathy': 1782, 'quote': 1406, 'roger': 1518, 'broadway': 227, 'health': 817, 'ticket': 1828, 'sketch': 1640, 'deeper': 463, 'titled': 1839, 'discussion': 517, 'seventy': 1592, 'journalist': 969, 'repeatedly': 1470, 'thrilling': 1823, 'cage': 253, 'kitchen': 993, 'embarrassing': 577, 'depressing': 479, 'miracle': 1141, 'exaggerated': 611, 'porn': 1324, 'hopefully': 856, 'writerdirector': 1996, 'weapon': 1960, 'lou': 1059, 'luck': 1066, 'enjoying': 584, 'appreciated': 104, 'albert': 69, 'intent': 919, 'bin': 168, 'henry': 827, 'prime': 1360, 'charge': 297, 'ingredient': 901, 'buff': 235, 'massive': 1102, 'zone': 1999, 'pool': 1322, 'matrix': 1104, 'pity': 1307, 'thankfully': 1811, 'remote': 1464, 'fatal': 654, 'sends': 1579, 'profound': 1373, 'marvelous': 1098, 'bound': 202, 'catherine': 283, 'redemption': 1438, 'achievement': 40, 'nuclear': 1219, 'fbi': 657, 'theory': 1813, 'directorial': 507, 'daring': 450, 'protect': 1384, 'strip': 1732, 'gonna': 754, 'brady': 206, 'clean': 326, 'dynamic': 553, 'halloween': 792, 'usa': 1912, 'tarzan': 1790, 'caused': 285, 'instant': 913, 'icon': 876, 'hed': 822, 'mgm': 1128, 'department': 476, 'chief': 307, 'imaginative': 885, 'nude': 1220, 'plant': 1311, 'jungle': 975, 'official': 1238, 'veteran': 1923, 'listed': 1045, 'tribe': 1869, 'improved': 890, 'storytelling': 1723, 'harry': 809, 'hamilton': 793, 'returning': 1491, 'dress': 534, 'crack': 409, 'pursuit': 1400, 'stock': 1714, 'physically': 1297, 'triumph': 1874, 'rambo': 1415, 'dawn': 455, 'wing': 1977, 'tongue': 1843, 'atrocious': 120, 'choose': 313, 'assume': 117, 'frankly': 707, 'choreography': 314, 'university': 1906, 'occurred': 1231, 'extraordinary': 636, 'status': 1704, 'gratuitous': 766, 'streisand': 1726, 'ego': 567, 'harvey': 812, 'notably': 1213, 'press': 1348, 'religious': 1456, 'sky': 1643, 'goal': 749, 'inspiring': 911, '910': 26, 'occasionally': 1230, 'flight': 677, 'frequently': 713, 'disease': 518, 'spell': 1677, 'devil': 496, 'spends': 1679, 'pacino': 1260, 'courage': 403, 'nerve': 1196, 'morning': 1157, 'irish': 933, 'adapted': 43, 'attempted': 123, 'incident': 891, 'bringing': 223, 'closer': 332, 'guilt': 786, 'depression': 480, 'spending': 1678, 'exploit': 629, 'companion': 357, 'account': 36, 'poverty': 1335, 'union': 1902, 'reporter': 1474, 'carried': 277, 'kate': 982, 'learns': 1023, 'sacrifice': 1539, 'shine': 1607, 'link': 1041, 'snake': 1655, 'hat': 813, 'ideal': 877, 'urban': 1910, 'recognize': 1436, 'catholic': 284, 'wit': 1981, 'root': 1523, 'teach': 1794, 'lewis': 1032, 'forth': 697, 'liking': 1037, 'laurel': 1015, '20th': 17, 'spring': 1693, 'franchise': 705, 'fitting': 672, 'ship': 1609, 'sandler': 1547, 'response': 1486, 'executed': 615, 'specific': 1673, 'andor': 88, 'section': 1570, 'cutting': 439, 'trek': 1866, 'tree': 1865, 'iii': 883, 'uninteresting': 1901, 'scripted': 1563, '2006': 16, 'dear': 461, 'introduction': 926, 'lily': 1038, 'advance': 48, 'regard': 1444, '1930s': 7, 'corrupt': 399, 'stanwyck': 1700, 'throwing': 1825, 'charlotte': 301, 'edition': 562, 'hollow': 844, '1950s': 8, 'concern': 364, 'complain': 360, 'philip': 1293, 'bette': 164, 'obsessed': 1226, 'allows': 77, 'sentimental': 1582, 'naive': 1176, 'position': 1329, 'represents': 1475, 'grey': 773, 'importantly': 888, 'jessica': 957, 'breathtaking': 215, 'carefully': 271, 'eddie': 560, 'murphy': 1170, 'concerning': 365, 'stink': 1713, 'canada': 260, 'ireland': 932, 'north': 1210, 'frame': 703, 'unintentionally': 1900, 'cannibal': 263, 'honor': 851, 'melodrama': 1117, 'campy': 259, 'magazine': 1081, 'spark': 1671, 'jennifer': 953, 'laura': 1014, 'tracy': 1852, 'hang': 800, 'simpson': 1628, 'patrick': 1282, 'steven': 1709, 'structure': 1736, 'andrew': 89, 'hired': 836, 'jaw': 948, 'subsequent': 1743, 'forgettable': 692, 'throat': 1824, 'dirty': 508, 'thief': 1817, 'latest': 1012, 'convinced': 390, 'neck': 1188, 'occurs': 1232, 'blair': 176, 'jon': 967, 'ned': 1189, 'sexually': 1594, 'frightening': 716, 'utter': 1915, 'uneven': 1893, 'demon': 472, 'satan': 1550, 'mexico': 1127, 'duke': 550, 'cube': 430, 'overthetop': 1258, 'lesser': 1029, 'navy': 1183, 'served': 1587, 'communist': 356, 'gentleman': 736, 'harsh': 810, 'criticism': 424, 'piano': 1298, 'soviet': 1669, 'hunting': 871, 'helicopter': 825, 'combat': 346, 'candy': 262, 'roy': 1529, 'speaks': 1672, 'nonexistent': 1208, 'vivid': 1937, 'martial': 1097, 'hong': 850, 'kong': 998, 'identify': 878, 'prejudice': 1344, 'raw': 1422, 'manager': 1088, 'row': 1528, 'helping': 826, 'foster': 700, 'maggie': 1082, 'league': 1020, 'clark': 325, 'typically': 1882, 'jeff': 952, 'eva': 603, 'strictly': 1728, 'sidney': 1622, 'stunt': 1738, 'ruthless': 1537, 'wannabe': 1946, 'prevent': 1353, 'grave': 767, 'forgot': 694, 'walked': 1940, 'coherent': 339, 'picking': 1299, 'glorious': 746, 'strangely': 1724, 'hank': 802, 'andy': 90, 'scheme': 1559, 'hoffman': 841, 'bond': 194, 'trite': 1873, 'population': 1323, 'everyday': 606, 'stanley': 1699, 'keaton': 983, 'futuristic': 722, '3d': 21, 'ken': 986, 'larry': 1011, 'gut': 788, 'ignore': 881, 'fool': 686, '24': 18, 'unconvincing': 1889, 'purely': 1399, 'cheer': 305, 'staff': 1696, 'britain': 224, 'east': 556, 'pressure': 1349, 'eerie': 565, 'shallow': 1599, 'branagh': 207, 'stated': 1702, 'previously': 1355, 'amazingly': 83, 'narration': 1178, 'gotta': 759, 'opened': 1242, 'screening': 1561, 'california': 255, 'sum': 1758, 'outfit': 1251, 'revealing': 1495, 'interpretation': 923, 'investigation': 927, 'ripped': 1508, 'shining': 1608, 'madness': 1078, 'tomato': 1841, 'disbelief': 510, 'blah': 175, 'insulting': 916, 'convoluted': 391, 'scenario': 1558, 'sally': 1544, 'policeman': 1318, 'cinderella': 319, 'stiff': 1711, 'pretentious': 1352, 'spielberg': 1680, 'lucas': 1065, 'reasonable': 1430, 'feed': 659, 'uk': 1883, 'ashamed': 111, 'faced': 638, 'humanity': 867, 'duo': 551, 'viewed': 1929, 'replaced': 1472, 'destruction': 490, 'established': 599, '110': 2, 'lincoln': 1040, 'fonda': 685, 'whilst': 1971, 'necessarily': 1187, 'lawyer': 1017, 'dislike': 520, 'complexity': 362, 'serve': 1586, 'universal': 1904, 'inevitable': 898, 'opposed': 1244, 'samurai': 1545, 'timeless': 1834, 'curiosity': 433, 'mid': 1131, 'forbidden': 688, 'muslim': 1173, 'pleased': 1315, 'rat': 1421, 'em': 575, 'enters': 588, 'mild': 1134, 'aunt': 128, 'titanic': 1838, 'superman': 1765, 'superhero': 1764, 'colorful': 343, '13': 3, 'anime': 93, 'kiss': 992, 'leg': 1024, '18': 6, 'eric': 594, 'contrary': 382, 'pal': 1268, 'regarding': 1445, 'characteristic': 295, 'transition': 1858, 'sings': 1633, 'emma': 579, 'editor': 563, 'jet': 959, 'sullivan': 1757, 'max': 1109, 'generous': 735, 'johnson': 965, 'truck': 1876, 'christ': 317, 'broke': 228, '45': 23, 'virgin': 1932, 'received': 1435, 'fabulous': 637, 'kennedy': 987, 'cabin': 251, 'mickey': 1130, 'lifestyle': 1035, 'ocean': 1233, 'psychotic': 1393, 'audio': 127, 'pirate': 1304, 'mummy': 1166, 'prop': 1379, 'retarded': 1489, 'carrying': 278, 'cameron': 258, 'sink': 1635, 'psychiatrist': 1390, 'task': 1791, 'jealous': 950, 'entertain': 589, 'toy': 1851, 'featured': 658, 'theyve': 1816, 'cruel': 427, 'notorious': 1217, 'noted': 1215, 'beaten': 152, 'characterization': 296, 'lyric': 1076, 'expensive': 622, 'smoke': 1652, 'daniel': 447, 'solve': 1663, 'basement': 145, 'corner': 395, 'achieve': 38, 'involvement': 930, 'modesty': 1149, 'gold': 751, 'mar': 1090, 'believing': 158, 'notable': 1212, 'presentation': 1346, 'jeremy': 954, 'convention': 386, 'attracted': 125, 'lucy': 1069, 'confusion': 368, 'oddly': 1234, 'hook': 853, 'aged': 58, 'sadistic': 1540, 'nerd': 1195, 'prisoner': 1366, 'resemblance': 1481, 'reed': 1440, 'sea': 1564, 'checking': 304, 'rocket': 1517, '911': 27, 'segment': 1575, 'tribute': 1870, 'lisa': 1044, 'practice': 1338, 'racism': 1408, 'castle': 281, 'currently': 435, '2000': 13, 'grandmother': 763, 'walken': 1941, 'inner': 904, 'chasing': 302, 'rebel': 1432, 'captivating': 266, 'credibility': 419, 'soprano': 1665, 'monk': 1150, 'till': 1832, 'fond': 684, 'doc': 523, 'landscape': 1007, 'recall': 1433, 'rage': 1410, 'crafted': 411, 'built': 237, 'creation': 417, 'wizard': 1982, 'frustration': 718, 'sutherland': 1775, 'evident': 608, 'outcome': 1249, 'admittedly': 47, 'fisher': 671, 'delivered': 469, 'carpenter': 276, 'terrifying': 1804, 'obscure': 1225, 'jamie': 946, 'nowadays': 1218, 'ludicrous': 1070, 'striking': 1730, 'burton': 244, 'heston': 830, 'theyd': 1814, 'discus': 516, 'trio': 1872, 'hart': 811, 'rid': 1502, 'ruined': 1531, 'ambition': 84, 'saga': 1542, 'jay': 949, 'turkey': 1878, 'diamond': 497, 'los': 1054, 'connect': 369, '1st': 12, 'successfully': 1749, 'hip': 834, 'mature': 1108, 'handful': 796, 'bride': 217, 'bourne': 203, 'clichéd': 328, 'threatening': 1821, 'disc': 511, 'intensity': 918, 'glover': 748, 'lawrence': 1016, 'nominated': 1204, 'occasion': 1228, 'meaningful': 1110, 'matt': 1105, 'contract': 381, 'grows': 780, 'receive': 1434, 'aka': 64, 'louis': 1060, 'par': 1271, 'appearing': 103, 'twisted': 1881, 'post': 1332, 'funnier': 721, 'emily': 578, 'victoria': 1927, 'duty': 552, 'cheese': 306, 'pun': 1396, 'nazi': 1184, 'estate': 600, 'solo': 1662, 'swedish': 1777, 'politician': 1320, 'entry': 591, 'wayne': 1957, 'outer': 1250, 'sinatra': 1630, 'meat': 1113, 'digital': 501, 'prom': 1376, 'elaborate': 570, 'kane': 978, 'slight': 1649, 'beer': 155, 'blend': 180, 'hitler': 838, 'darkness': 452, 'sean': 1566, 'widmark': 1974, 'moore': 1154, 'virus': 1934, 'bettie': 165, 'subtlety': 1746, 'dentist': 474, 'ruth': 1536, 'drew': 536, 'market': 1095, 'scarecrow': 1556, 'properly': 1382, 'susan': 1773, 'mentally': 1121, 'gradually': 761, 'jewish': 960, 'thumb': 1827, 'barry': 142, 'menacing': 1120, 'summary': 1759, 'gray': 768, 'anna': 95, 'showcase': 1617, 'annie': 97, 'brilliance': 221, 'rain': 1411, 'react': 1424, 'fay': 656, 'performing': 1289, 'silver': 1625, 'wound': 1992, 'starred': 1701, 'vega': 1920, 'struck': 1735, 'winter': 1979, 'contact': 374, 'darker': 451, 'primarily': 1359, 'caine': 254, 'stole': 1715, 'wwii': 1997, 'adequate': 45, 'attached': 121, 'glory': 747, 'seller': 1576, 'worried': 1987, 'promising': 1377, 'innovative': 906, 'korean': 999, 'planning': 1310, 'san': 1546, 'wicked': 1972, 'stooge': 1720, 'combine': 348, 'bone': 195, 'shirt': 1610, 'craig': 412, 'remarkably': 1460, 'miller': 1136, 'realise': 1426, 'boxing': 204, 'lugosi': 1071, 'iron': 934, '1960s': 9, 'montage': 1152, 'aimed': 61, 'museum': 1171, 'explore': 631, 'kenneth': 988, 'dracula': 529, 'recognized': 1437, 'equal': 593, 'inspector': 909, 'mafia': 1080, 'shoe': 1612, 'europe': 602, 'charismatic': 299, 'reel': 1441, 'holmes': 845, 'tame': 1786, 'garbo': 728, 'installment': 912, 'francisco': 706, 'homosexual': 849, 'restaurant': 1488, '2005': 15, 'el': 569, 'item': 939, 'pleasantly': 1314, 'hamlet': 794, 'fancy': 649, 'variety': 1919, 'drivel': 539, 'dignity': 502, 'seed': 1572, 'karen': 980, 'welles': 1967, 'brando': 209, 'kurt': 1002, 'proceeding': 1370, 'alice': 73, 'resident': 1483, 'brosnan': 231, 'gadget': 724, 'gothic': 758, 'crush': 429, 'stealing': 1707, 'abc': 29, 'backdrop': 135, 'homer': 848, 'russell': 1534, 'financial': 667, 'karloff': 981, 'che': 303, 'seagal': 1565, 'macarthur': 1077, 'gandhi': 726, 'pat': 1279}\n"
     ]
    }
   ],
   "source": [
    "print(tfidfvec.vocabulary_)"
   ]
  },
  {
   "cell_type": "code",
   "execution_count": 35,
   "id": "455b0b20",
   "metadata": {},
   "outputs": [
    {
     "data": {
      "text/plain": [
       "2000"
      ]
     },
     "execution_count": 35,
     "metadata": {},
     "output_type": "execute_result"
    }
   ],
   "source": [
    "len(tfidfvec.vocabulary_)"
   ]
  },
  {
   "cell_type": "markdown",
   "id": "410e3178",
   "metadata": {},
   "source": [
    "### Word2Vec"
   ]
  },
  {
   "cell_type": "code",
   "execution_count": 36,
   "id": "75e47c0f",
   "metadata": {},
   "outputs": [],
   "source": [
    "import gensim"
   ]
  },
  {
   "cell_type": "code",
   "execution_count": 37,
   "id": "4ec1dffe",
   "metadata": {},
   "outputs": [],
   "source": [
    "from nltk import sent_tokenize\n",
    "from gensim.utils import simple_preprocess"
   ]
  },
  {
   "cell_type": "code",
   "execution_count": 38,
   "id": "becad197",
   "metadata": {},
   "outputs": [],
   "source": [
    "story = []\n",
    "for doc in data['review']: #We sentence tokenize our doc then do preprocessing\n",
    "    raw_sent = sent_tokenize(doc)\n",
    "    for sent in raw_sent:\n",
    "        story.append(simple_preprocess(sent))"
   ]
  },
  {
   "cell_type": "code",
   "execution_count": 39,
   "id": "07b1da81",
   "metadata": {},
   "outputs": [],
   "source": [
    "#Model building            by default dimension is 100 in gensim\n",
    "model = gensim.models.Word2Vec(\n",
    "    window=10,\n",
    "    min_count=2\n",
    ")"
   ]
  },
  {
   "cell_type": "code",
   "execution_count": 40,
   "id": "cf204461",
   "metadata": {},
   "outputs": [],
   "source": [
    "#building vocabulary\n",
    "model.build_vocab(story)"
   ]
  },
  {
   "cell_type": "code",
   "execution_count": 41,
   "id": "490822f3",
   "metadata": {},
   "outputs": [
    {
     "data": {
      "text/plain": [
       "(13867571, 14927130)"
      ]
     },
     "execution_count": 41,
     "metadata": {},
     "output_type": "execute_result"
    }
   ],
   "source": [
    "#training our model (trained word2vec model)\n",
    "model.train(story, total_examples=model.corpus_count, epochs=model.epochs)"
   ]
  },
  {
   "cell_type": "code",
   "execution_count": 42,
   "id": "41c7218a",
   "metadata": {},
   "outputs": [
    {
     "data": {
      "text/plain": [
       "49825"
      ]
     },
     "execution_count": 42,
     "metadata": {},
     "output_type": "execute_result"
    }
   ],
   "source": [
    "len(model.wv.index_to_key)   #no.of words in our vocabulary"
   ]
  },
  {
   "cell_type": "code",
   "execution_count": 43,
   "id": "fd236c8e",
   "metadata": {},
   "outputs": [],
   "source": [
    "#we created vector for our words, now we will create vector to represent our reviews\n",
    "def document_vector(doc):\n",
    "    # remove out-of-vocabulary words\n",
    "    doc = [word for word in doc.split() if word in model.wv.index_to_key]\n",
    "    return np.mean(model.wv[doc], axis=0)"
   ]
  },
  {
   "cell_type": "code",
   "execution_count": 44,
   "id": "d5e43c36",
   "metadata": {},
   "outputs": [
    {
     "data": {
      "text/plain": [
       "array([-0.67465407,  0.8600585 ,  0.34244135, -0.03507954, -0.15696856,\n",
       "       -0.3479593 ,  0.01122125,  0.5490439 , -0.09887885, -0.64852077,\n",
       "        0.02789598, -0.38325655,  0.35154057,  0.10322352,  0.5449256 ,\n",
       "        0.01012369,  0.31994337, -0.14472565, -0.19945711, -0.26307076,\n",
       "       -0.11440386,  0.18008424, -0.04888498, -0.00108657, -0.6045311 ,\n",
       "        0.04370764, -0.0513158 , -0.22898714,  0.07807425,  0.9228175 ,\n",
       "        0.75104254, -0.5010358 ,  0.12817104, -0.24349721, -0.09079939,\n",
       "        0.34880888,  0.2349824 , -0.43717706, -0.13042906, -0.51481897,\n",
       "        0.021397  , -0.37426326,  0.31792971, -0.63941276,  0.23125331,\n",
       "       -0.19711353, -0.00965655, -0.55907464,  0.17134573,  0.05498615,\n",
       "        0.27588868,  0.04596198,  0.0235686 , -0.31612012,  0.00981878,\n",
       "       -0.01444506,  0.16357473, -0.06730402, -0.3606394 ,  0.51085305,\n",
       "        0.45772898,  0.22069132,  0.6749968 ,  0.24731249, -0.2216854 ,\n",
       "        0.33845723,  0.20930403,  0.14701699, -0.46186996, -0.13168097,\n",
       "       -0.03841782, -0.1592338 ,  0.45188203,  0.14276049,  0.5830687 ,\n",
       "        0.28169498, -0.1965004 ,  0.21867754, -0.36979735, -0.08314946,\n",
       "       -0.08647027,  0.0523328 , -0.2642705 ,  0.61246616, -0.43602622,\n",
       "       -0.34461254,  0.19713162,  0.29320207,  0.2667287 ,  0.25015613,\n",
       "        0.6069676 ,  0.56345797,  0.04275279, -0.30932304,  0.9608134 ,\n",
       "        0.27300248, -0.47105098, -0.58296317,  0.19902337, -0.22723483],\n",
       "      dtype=float32)"
      ]
     },
     "execution_count": 44,
     "metadata": {},
     "output_type": "execute_result"
    }
   ],
   "source": [
    "document_vector(data['review'].values[0])     #converted reviews to vector with 100 dimension"
   ]
  },
  {
   "cell_type": "code",
   "execution_count": 45,
   "id": "303d1873",
   "metadata": {},
   "outputs": [],
   "source": [
    "from tqdm import tqdm"
   ]
  },
  {
   "cell_type": "code",
   "execution_count": 46,
   "id": "f0b770d6",
   "metadata": {},
   "outputs": [
    {
     "name": "stderr",
     "output_type": "stream",
     "text": [
      "100%|██████████| 25000/25000 [12:35<00:00, 33.07it/s]\n"
     ]
    }
   ],
   "source": [
    "X = []\n",
    "for doc in tqdm(data['review'].values):\n",
    "    X.append(document_vector(doc))"
   ]
  },
  {
   "cell_type": "code",
   "execution_count": 47,
   "id": "13411d0f",
   "metadata": {},
   "outputs": [],
   "source": [
    "X = np.array(X)"
   ]
  },
  {
   "cell_type": "code",
   "execution_count": 48,
   "id": "f83fbdbe",
   "metadata": {},
   "outputs": [
    {
     "data": {
      "text/plain": [
       "(25000, 100)"
      ]
     },
     "execution_count": 48,
     "metadata": {},
     "output_type": "execute_result"
    }
   ],
   "source": [
    "X.shape"
   ]
  },
  {
   "cell_type": "code",
   "execution_count": 49,
   "id": "2f76f4c3",
   "metadata": {},
   "outputs": [
    {
     "data": {
      "text/plain": [
       "array([-0.67465407,  0.8600585 ,  0.34244135, -0.03507954, -0.15696856,\n",
       "       -0.3479593 ,  0.01122125,  0.5490439 , -0.09887885, -0.64852077,\n",
       "        0.02789598, -0.38325655,  0.35154057,  0.10322352,  0.5449256 ,\n",
       "        0.01012369,  0.31994337, -0.14472565, -0.19945711, -0.26307076,\n",
       "       -0.11440386,  0.18008424, -0.04888498, -0.00108657, -0.6045311 ,\n",
       "        0.04370764, -0.0513158 , -0.22898714,  0.07807425,  0.9228175 ,\n",
       "        0.75104254, -0.5010358 ,  0.12817104, -0.24349721, -0.09079939,\n",
       "        0.34880888,  0.2349824 , -0.43717706, -0.13042906, -0.51481897,\n",
       "        0.021397  , -0.37426326,  0.31792971, -0.63941276,  0.23125331,\n",
       "       -0.19711353, -0.00965655, -0.55907464,  0.17134573,  0.05498615,\n",
       "        0.27588868,  0.04596198,  0.0235686 , -0.31612012,  0.00981878,\n",
       "       -0.01444506,  0.16357473, -0.06730402, -0.3606394 ,  0.51085305,\n",
       "        0.45772898,  0.22069132,  0.6749968 ,  0.24731249, -0.2216854 ,\n",
       "        0.33845723,  0.20930403,  0.14701699, -0.46186996, -0.13168097,\n",
       "       -0.03841782, -0.1592338 ,  0.45188203,  0.14276049,  0.5830687 ,\n",
       "        0.28169498, -0.1965004 ,  0.21867754, -0.36979735, -0.08314946,\n",
       "       -0.08647027,  0.0523328 , -0.2642705 ,  0.61246616, -0.43602622,\n",
       "       -0.34461254,  0.19713162,  0.29320207,  0.2667287 ,  0.25015613,\n",
       "        0.6069676 ,  0.56345797,  0.04275279, -0.30932304,  0.9608134 ,\n",
       "        0.27300248, -0.47105098, -0.58296317,  0.19902337, -0.22723483],\n",
       "      dtype=float32)"
      ]
     },
     "execution_count": 49,
     "metadata": {},
     "output_type": "execute_result"
    }
   ],
   "source": [
    "X[0]"
   ]
  },
  {
   "cell_type": "code",
   "execution_count": 50,
   "id": "619c592e",
   "metadata": {},
   "outputs": [],
   "source": [
    "Y = data['sentiment']"
   ]
  },
  {
   "cell_type": "code",
   "execution_count": 51,
   "id": "276e735c",
   "metadata": {},
   "outputs": [],
   "source": [
    "from sklearn.model_selection import train_test_split\n",
    "X_train,X_test,Y_train,Y_test = train_test_split(X,Y,test_size=0.2,random_state=1)"
   ]
  },
  {
   "cell_type": "code",
   "execution_count": 52,
   "id": "a53d49a3",
   "metadata": {},
   "outputs": [],
   "source": [
    "from sklearn.ensemble import RandomForestClassifier\n",
    "from sklearn.metrics import accuracy_score"
   ]
  },
  {
   "cell_type": "code",
   "execution_count": 53,
   "id": "15605282",
   "metadata": {},
   "outputs": [
    {
     "data": {
      "text/plain": [
       "0.8346"
      ]
     },
     "execution_count": 53,
     "metadata": {},
     "output_type": "execute_result"
    }
   ],
   "source": [
    "rf = RandomForestClassifier()\n",
    "rf.fit(X_train,Y_train)\n",
    "Y_pred = rf.predict(X_test)\n",
    "accuracy_score(Y_test,Y_pred)"
   ]
  },
  {
   "cell_type": "code",
   "execution_count": null,
   "id": "1c774b11",
   "metadata": {},
   "outputs": [],
   "source": []
  },
  {
   "cell_type": "markdown",
   "id": "b56faf53",
   "metadata": {},
   "source": [
    "## Model Building and Evaluation"
   ]
  },
  {
   "cell_type": "markdown",
   "id": "600a4ffa",
   "metadata": {},
   "source": [
    "### 1. Logistic regression"
   ]
  },
  {
   "cell_type": "code",
   "execution_count": 54,
   "id": "05c0b839",
   "metadata": {},
   "outputs": [],
   "source": [
    "## Using BOW"
   ]
  },
  {
   "cell_type": "code",
   "execution_count": 55,
   "id": "d578edae",
   "metadata": {},
   "outputs": [],
   "source": [
    "from sklearn.linear_model import LogisticRegression\n",
    "lr= LogisticRegression()"
   ]
  },
  {
   "cell_type": "code",
   "execution_count": 56,
   "id": "5d3e9e98",
   "metadata": {},
   "outputs": [],
   "source": [
    "lr.fit(x_train_bow,y_train)\n",
    "y_pred = lr.predict(x_test_bow)"
   ]
  },
  {
   "cell_type": "code",
   "execution_count": 57,
   "id": "20f892c4",
   "metadata": {},
   "outputs": [
    {
     "data": {
      "text/plain": [
       "0.7414"
      ]
     },
     "execution_count": 57,
     "metadata": {},
     "output_type": "execute_result"
    }
   ],
   "source": [
    "from sklearn.metrics import accuracy_score, recall_score, f1_score, confusion_matrix, classification_report\n",
    "accuracy_score(y_test,y_pred)"
   ]
  },
  {
   "cell_type": "code",
   "execution_count": 58,
   "id": "380a8c29",
   "metadata": {},
   "outputs": [],
   "source": [
    "## Using Tf-IDF"
   ]
  },
  {
   "cell_type": "code",
   "execution_count": 59,
   "id": "9a9318e0",
   "metadata": {},
   "outputs": [
    {
     "data": {
      "text/plain": [
       "LogisticRegression()"
      ]
     },
     "execution_count": 59,
     "metadata": {},
     "output_type": "execute_result"
    }
   ],
   "source": [
    "lr= LogisticRegression()\n",
    "lr.fit(x_train_tfidf,y_train)"
   ]
  },
  {
   "cell_type": "code",
   "execution_count": 60,
   "id": "94b2ebd4",
   "metadata": {},
   "outputs": [
    {
     "data": {
      "text/plain": [
       "0.7522"
      ]
     },
     "execution_count": 60,
     "metadata": {},
     "output_type": "execute_result"
    }
   ],
   "source": [
    "y_pred = lr.predict(x_test_tfidf)\n",
    "accuracy_score(y_test,y_pred)"
   ]
  },
  {
   "cell_type": "markdown",
   "id": "7af8f31e",
   "metadata": {},
   "source": [
    "## 2. GaussianNB"
   ]
  },
  {
   "cell_type": "code",
   "execution_count": 61,
   "id": "25c41d1b",
   "metadata": {},
   "outputs": [],
   "source": [
    "## Using BOW"
   ]
  },
  {
   "cell_type": "code",
   "execution_count": 62,
   "id": "eb99bf47",
   "metadata": {},
   "outputs": [
    {
     "data": {
      "text/plain": [
       "GaussianNB()"
      ]
     },
     "execution_count": 62,
     "metadata": {},
     "output_type": "execute_result"
    }
   ],
   "source": [
    "#Gaussian Naive Bayes algorithm\n",
    "from sklearn.naive_bayes import GaussianNB\n",
    "gnb = GaussianNB()\n",
    "\n",
    "gnb.fit(x_train_bow,y_train)"
   ]
  },
  {
   "cell_type": "code",
   "execution_count": 63,
   "id": "8724b26c",
   "metadata": {},
   "outputs": [
    {
     "data": {
      "text/plain": [
       "0.7032"
      ]
     },
     "execution_count": 63,
     "metadata": {},
     "output_type": "execute_result"
    }
   ],
   "source": [
    "y_pred = gnb.predict(x_test_bow)\n",
    "\n",
    "from sklearn.metrics import accuracy_score,confusion_matrix\n",
    "accuracy_score(y_test,y_pred)"
   ]
  },
  {
   "cell_type": "code",
   "execution_count": 64,
   "id": "b52307ef",
   "metadata": {},
   "outputs": [],
   "source": [
    "## Using TF-IDF"
   ]
  },
  {
   "cell_type": "code",
   "execution_count": 65,
   "id": "b57255a2",
   "metadata": {},
   "outputs": [
    {
     "data": {
      "text/plain": [
       "GaussianNB()"
      ]
     },
     "execution_count": 65,
     "metadata": {},
     "output_type": "execute_result"
    }
   ],
   "source": [
    "gnb = GaussianNB()\n",
    "\n",
    "gnb.fit(x_train_tfidf,y_train)"
   ]
  },
  {
   "cell_type": "code",
   "execution_count": 66,
   "id": "02ad3b24",
   "metadata": {},
   "outputs": [
    {
     "data": {
      "text/plain": [
       "0.7356"
      ]
     },
     "execution_count": 66,
     "metadata": {},
     "output_type": "execute_result"
    }
   ],
   "source": [
    "y_pred = gnb.predict(x_test_tfidf)\n",
    "\n",
    "accuracy_score(y_test,y_pred)"
   ]
  },
  {
   "cell_type": "markdown",
   "id": "a1c7f9f1",
   "metadata": {},
   "source": [
    "## 3. RandomForestClassifier"
   ]
  },
  {
   "cell_type": "code",
   "execution_count": 67,
   "id": "211ff111",
   "metadata": {},
   "outputs": [],
   "source": [
    "## Using BOW"
   ]
  },
  {
   "cell_type": "code",
   "execution_count": 68,
   "id": "14bd5f49",
   "metadata": {},
   "outputs": [
    {
     "data": {
      "text/plain": [
       "0.7288"
      ]
     },
     "execution_count": 68,
     "metadata": {},
     "output_type": "execute_result"
    }
   ],
   "source": [
    "from sklearn.ensemble import RandomForestClassifier\n",
    "rf = RandomForestClassifier()\n",
    "\n",
    "rf.fit(x_train_bow,y_train)\n",
    "y_pred = rf.predict(x_test_bow)\n",
    "accuracy_score(y_test,y_pred)"
   ]
  },
  {
   "cell_type": "code",
   "execution_count": 69,
   "id": "939925c5",
   "metadata": {},
   "outputs": [],
   "source": [
    "## Using TF-IDF"
   ]
  },
  {
   "cell_type": "code",
   "execution_count": 70,
   "id": "ae71544e",
   "metadata": {},
   "outputs": [
    {
     "data": {
      "text/plain": [
       "0.7382"
      ]
     },
     "execution_count": 70,
     "metadata": {},
     "output_type": "execute_result"
    }
   ],
   "source": [
    "rf = RandomForestClassifier()\n",
    "\n",
    "rf.fit(x_train_tfidf,y_train)\n",
    "y_pred = rf.predict(x_test_tfidf)\n",
    "accuracy_score(y_test,y_pred)"
   ]
  },
  {
   "cell_type": "markdown",
   "id": "948cb6d8",
   "metadata": {},
   "source": [
    "- Best performing one is Logistic Regression model with TF-IDF feature extraction technique"
   ]
  },
  {
   "cell_type": "markdown",
   "id": "06549dc1",
   "metadata": {},
   "source": [
    "Now, we will try increasing no.of features"
   ]
  },
  {
   "cell_type": "code",
   "execution_count": null,
   "id": "220f59df",
   "metadata": {},
   "outputs": [],
   "source": [
    "## With max features = 10000"
   ]
  },
  {
   "cell_type": "code",
   "execution_count": 76,
   "id": "c97ba90b",
   "metadata": {},
   "outputs": [
    {
     "name": "stderr",
     "output_type": "stream",
     "text": [
      "C:\\Users\\Mohan\\anaconda3\\lib\\site-packages\\sklearn\\linear_model\\_logistic.py:814: ConvergenceWarning: lbfgs failed to converge (status=1):\n",
      "STOP: TOTAL NO. of ITERATIONS REACHED LIMIT.\n",
      "\n",
      "Increase the number of iterations (max_iter) or scale the data as shown in:\n",
      "    https://scikit-learn.org/stable/modules/preprocessing.html\n",
      "Please also refer to the documentation for alternative solver options:\n",
      "    https://scikit-learn.org/stable/modules/linear_model.html#logistic-regression\n",
      "  n_iter_i = _check_optimize_result(\n"
     ]
    },
    {
     "data": {
      "text/plain": [
       "0.86"
      ]
     },
     "execution_count": 76,
     "metadata": {},
     "output_type": "execute_result"
    }
   ],
   "source": [
    "cv = CountVectorizer(max_features=10000)\n",
    "\n",
    "x_train_bow = cv.fit_transform(x_train['review']).toarray()\n",
    "x_test_bow = cv.transform(x_test['review']).toarray()\n",
    "\n",
    "\n",
    "lr= LogisticRegression()\n",
    "\n",
    "lr.fit(x_train_bow,y_train)\n",
    "y_pred = lr.predict(x_test_bow)\n",
    "accuracy_score(y_test,y_pred)"
   ]
  },
  {
   "cell_type": "code",
   "execution_count": 77,
   "id": "41ec4f14",
   "metadata": {},
   "outputs": [
    {
     "data": {
      "text/plain": [
       "0.8852"
      ]
     },
     "execution_count": 77,
     "metadata": {},
     "output_type": "execute_result"
    }
   ],
   "source": [
    "tfidfvec = TfidfVectorizer(max_features=10000)\n",
    "\n",
    "x_train_tfidf = tfidfvec.fit_transform(x_train['review']).toarray()\n",
    "x_test_tfidf = tfidfvec.transform(x_test['review']).toarray()\n",
    "\n",
    "lr= LogisticRegression()\n",
    "\n",
    "lr.fit(x_train_tfidf,y_train)\n",
    "y_pred = lr.predict(x_test_tfidf)\n",
    "accuracy_score(y_test,y_pred)"
   ]
  },
  {
   "cell_type": "code",
   "execution_count": 78,
   "id": "377cf0ee",
   "metadata": {},
   "outputs": [],
   "source": [
    "from sklearn.metrics import accuracy_score, recall_score, f1_score, confusion_matrix, classification_report"
   ]
  },
  {
   "cell_type": "code",
   "execution_count": 79,
   "id": "f7c0802d",
   "metadata": {},
   "outputs": [
    {
     "name": "stdout",
     "output_type": "stream",
     "text": [
      "The accuracy score is:  0.8852\n"
     ]
    }
   ],
   "source": [
    "print('The accuracy score is: ', accuracy_score(y_test,y_pred))"
   ]
  },
  {
   "cell_type": "code",
   "execution_count": 80,
   "id": "247a088c",
   "metadata": {},
   "outputs": [
    {
     "data": {
      "text/plain": [
       "0.900829711576452"
      ]
     },
     "execution_count": 80,
     "metadata": {},
     "output_type": "execute_result"
    }
   ],
   "source": [
    "recall_score(y_test,y_pred)"
   ]
  },
  {
   "cell_type": "code",
   "execution_count": 81,
   "id": "43642297",
   "metadata": {},
   "outputs": [
    {
     "data": {
      "text/plain": [
       "0.8881963381379042"
      ]
     },
     "execution_count": 81,
     "metadata": {},
     "output_type": "execute_result"
    }
   ],
   "source": [
    "f1_score(y_test,y_pred)"
   ]
  },
  {
   "cell_type": "code",
   "execution_count": 82,
   "id": "fa4bb225",
   "metadata": {},
   "outputs": [
    {
     "data": {
      "text/plain": [
       "array([[2146,  323],\n",
       "       [ 251, 2280]], dtype=int64)"
      ]
     },
     "execution_count": 82,
     "metadata": {},
     "output_type": "execute_result"
    }
   ],
   "source": [
    "confusion_matrix(y_test,y_pred)"
   ]
  },
  {
   "cell_type": "code",
   "execution_count": 83,
   "id": "57375b6d",
   "metadata": {},
   "outputs": [
    {
     "name": "stdout",
     "output_type": "stream",
     "text": [
      "              precision    recall  f1-score   support\n",
      "\n",
      "           0       0.90      0.87      0.88      2469\n",
      "           1       0.88      0.90      0.89      2531\n",
      "\n",
      "    accuracy                           0.89      5000\n",
      "   macro avg       0.89      0.89      0.89      5000\n",
      "weighted avg       0.89      0.89      0.89      5000\n",
      "\n"
     ]
    }
   ],
   "source": [
    "print(classification_report(y_test,y_pred))"
   ]
  },
  {
   "cell_type": "code",
   "execution_count": 96,
   "id": "59ab52c5",
   "metadata": {},
   "outputs": [],
   "source": [
    "import matplotlib.pyplot as plt\n",
    "import seaborn as sns"
   ]
  },
  {
   "cell_type": "code",
   "execution_count": 103,
   "id": "92b7d5fb",
   "metadata": {},
   "outputs": [
    {
     "data": {
      "image/png": "[encoded data removed]",
      "text/plain": [
       "<Figure size 640x480 with 1 Axes>"
      ]
     },
     "metadata": {},
     "output_type": "display_data"
    }
   ],
   "source": [
    "# Calculate the counts of 0s and 1s\n",
    "unique, counts = np.unique(y_pred, return_counts=True)\n",
    "counts_dict = dict(zip(unique, counts))\n",
    "# Define colors for each class\n",
    "colors = ['red', 'green']\n",
    "\n",
    "# Create a bar graph\n",
    "plt.bar(counts_dict.keys(), counts_dict.values(), color=colors)\n",
    "plt.xlabel('Negative reviews or Positive reviews')\n",
    "plt.ylabel('Count')\n",
    "plt.xticks(list(counts_dict.keys()))\n",
    "plt.title('Sentiment of the review')\n",
    "plt.show()"
   ]
  },
  {
   "cell_type": "markdown",
   "id": "65acf90a",
   "metadata": {},
   "source": [
    "# Conclusion: "
   ]
  },
  {
   "cell_type": "markdown",
   "id": "c3884701",
   "metadata": {},
   "source": [
    "#### with max features as 10000, we got accuracy for logistic regression model as 88.52% while using TF-IDF feature extraction Technique"
   ]
  },
  {
   "cell_type": "code",
   "execution_count": null,
   "id": "a52f9256",
   "metadata": {},
   "outputs": [],
   "source": []
  },
  {
   "cell_type": "code",
   "execution_count": null,
   "id": "256f98f8",
   "metadata": {},
   "outputs": [],
   "source": []
  },
  {
   "cell_type": "markdown",
   "id": "a6914690",
   "metadata": {},
   "source": [
    "#### using N-grams"
   ]
  },
  {
   "cell_type": "code",
   "execution_count": null,
   "id": "3d92bb45",
   "metadata": {},
   "outputs": [],
   "source": [
    "# #N-grams(bi-gram)\n",
    "# cv = CountVectorizer(ngram_range=(1,2),max_features=5000)\n",
    "\n",
    "# X_train_bow = cv.fit_transform(X_train['review']).toarray()\n",
    "# X_test_bow = cv.transform(X_test['review']).toarray()\n",
    "\n",
    "# rf = RandomForestClassifier()\n",
    "\n",
    "# rf.fit(X_train_bow,y_train)\n",
    "# y_pred = rf.predict(X_test_bow)\n",
    "# accuracy_score(y_test,y_pred)"
   ]
  }
 ],
 "metadata": {
  "kernelspec": {
   "display_name": "Python 3 (ipykernel)",
   "language": "python",
   "name": "python3"
  },
  "language_info": {
   "codemirror_mode": {
    "name": "ipython",
    "version": 3
   },
   "file_extension": ".py",
   "mimetype": "text/x-python",
   "name": "python",
   "nbconvert_exporter": "python",
   "pygments_lexer": "ipython3",
   "version": "3.9.13"
  }
 },
 "nbformat": 4,
 "nbformat_minor": 5
}
